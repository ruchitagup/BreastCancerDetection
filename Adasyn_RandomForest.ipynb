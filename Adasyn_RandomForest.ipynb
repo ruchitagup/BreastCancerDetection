{
 "cells": [
  {
   "cell_type": "code",
   "execution_count": 1,
   "metadata": {},
   "outputs": [],
   "source": [
    "# Suppressing Warnings\n",
    "import warnings\n",
    "warnings.filterwarnings('ignore')\n",
    "\n",
    "# libraries\n",
    "import numpy as np\n",
    "import pandas as pd\n",
    "\n",
    "# For Visualisation\n",
    "import matplotlib.pyplot as plt\n",
    "import seaborn as sns"
   ]
  },
  {
   "cell_type": "code",
   "execution_count": 2,
   "metadata": {},
   "outputs": [],
   "source": [
    "import pickle\n",
    "file = open(\"data_adasyn_risk2\",\"rb\")\n",
    "X_train = pickle.load(file)\n",
    "y_train = pickle.load(file)\n",
    "X_test = pickle.load(file)\n",
    "y_test = pickle.load(file)\n",
    "file.close()"
   ]
  },
  {
   "cell_type": "code",
   "execution_count": 3,
   "metadata": {},
   "outputs": [
    {
     "data": {
      "text/html": [
       "<div>\n",
       "<style scoped>\n",
       "    .dataframe tbody tr th:only-of-type {\n",
       "        vertical-align: middle;\n",
       "    }\n",
       "\n",
       "    .dataframe tbody tr th {\n",
       "        vertical-align: top;\n",
       "    }\n",
       "\n",
       "    .dataframe thead th {\n",
       "        text-align: right;\n",
       "    }\n",
       "</style>\n",
       "<table border=\"1\" class=\"dataframe\">\n",
       "  <thead>\n",
       "    <tr style=\"text-align: right;\">\n",
       "      <th></th>\n",
       "      <th>menopaus_0</th>\n",
       "      <th>agegrp_2</th>\n",
       "      <th>agegrp_3</th>\n",
       "      <th>agegrp_4</th>\n",
       "      <th>agegrp_5</th>\n",
       "      <th>agegrp_6</th>\n",
       "      <th>agegrp_7</th>\n",
       "      <th>agegrp_8</th>\n",
       "      <th>agegrp_9</th>\n",
       "      <th>agegrp_10</th>\n",
       "      <th>...</th>\n",
       "      <th>race_5</th>\n",
       "      <th>hispanic_0</th>\n",
       "      <th>hispanic_1</th>\n",
       "      <th>bmi_3</th>\n",
       "      <th>bmi_4</th>\n",
       "      <th>agefirst_1</th>\n",
       "      <th>agefirst_2</th>\n",
       "      <th>nrelbc_0</th>\n",
       "      <th>nrelbc_2</th>\n",
       "      <th>lastmamm_1</th>\n",
       "    </tr>\n",
       "  </thead>\n",
       "  <tbody>\n",
       "    <tr>\n",
       "      <th>0</th>\n",
       "      <td>1</td>\n",
       "      <td>0</td>\n",
       "      <td>0</td>\n",
       "      <td>0</td>\n",
       "      <td>0</td>\n",
       "      <td>0</td>\n",
       "      <td>0</td>\n",
       "      <td>0</td>\n",
       "      <td>0</td>\n",
       "      <td>0</td>\n",
       "      <td>...</td>\n",
       "      <td>0</td>\n",
       "      <td>1</td>\n",
       "      <td>0</td>\n",
       "      <td>0</td>\n",
       "      <td>0</td>\n",
       "      <td>0</td>\n",
       "      <td>0</td>\n",
       "      <td>1</td>\n",
       "      <td>0</td>\n",
       "      <td>0</td>\n",
       "    </tr>\n",
       "    <tr>\n",
       "      <th>1</th>\n",
       "      <td>1</td>\n",
       "      <td>0</td>\n",
       "      <td>0</td>\n",
       "      <td>0</td>\n",
       "      <td>0</td>\n",
       "      <td>0</td>\n",
       "      <td>0</td>\n",
       "      <td>0</td>\n",
       "      <td>0</td>\n",
       "      <td>0</td>\n",
       "      <td>...</td>\n",
       "      <td>0</td>\n",
       "      <td>1</td>\n",
       "      <td>0</td>\n",
       "      <td>0</td>\n",
       "      <td>0</td>\n",
       "      <td>0</td>\n",
       "      <td>0</td>\n",
       "      <td>1</td>\n",
       "      <td>0</td>\n",
       "      <td>0</td>\n",
       "    </tr>\n",
       "  </tbody>\n",
       "</table>\n",
       "<p>2 rows × 25 columns</p>\n",
       "</div>"
      ],
      "text/plain": [
       "   menopaus_0  agegrp_2  agegrp_3  agegrp_4  agegrp_5  agegrp_6  agegrp_7  \\\n",
       "0           1         0         0         0         0         0         0   \n",
       "1           1         0         0         0         0         0         0   \n",
       "\n",
       "   agegrp_8  agegrp_9  agegrp_10  ...  race_5  hispanic_0  hispanic_1  bmi_3  \\\n",
       "0         0         0          0  ...       0           1           0      0   \n",
       "1         0         0          0  ...       0           1           0      0   \n",
       "\n",
       "   bmi_4  agefirst_1  agefirst_2  nrelbc_0  nrelbc_2  lastmamm_1  \n",
       "0      0           0           0         1         0           0  \n",
       "1      0           0           0         1         0           0  \n",
       "\n",
       "[2 rows x 25 columns]"
      ]
     },
     "execution_count": 3,
     "metadata": {},
     "output_type": "execute_result"
    }
   ],
   "source": [
    "X_train.head(2)"
   ]
  },
  {
   "cell_type": "code",
   "execution_count": 4,
   "metadata": {},
   "outputs": [
    {
     "data": {
      "text/html": [
       "<div>\n",
       "<style scoped>\n",
       "    .dataframe tbody tr th:only-of-type {\n",
       "        vertical-align: middle;\n",
       "    }\n",
       "\n",
       "    .dataframe tbody tr th {\n",
       "        vertical-align: top;\n",
       "    }\n",
       "\n",
       "    .dataframe thead th {\n",
       "        text-align: right;\n",
       "    }\n",
       "</style>\n",
       "<table border=\"1\" class=\"dataframe\">\n",
       "  <thead>\n",
       "    <tr style=\"text-align: right;\">\n",
       "      <th></th>\n",
       "      <th>menopaus_0</th>\n",
       "      <th>agegrp_2</th>\n",
       "      <th>agegrp_3</th>\n",
       "      <th>agegrp_4</th>\n",
       "      <th>agegrp_5</th>\n",
       "      <th>agegrp_6</th>\n",
       "      <th>agegrp_7</th>\n",
       "      <th>agegrp_8</th>\n",
       "      <th>agegrp_9</th>\n",
       "      <th>agegrp_10</th>\n",
       "      <th>...</th>\n",
       "      <th>race_5</th>\n",
       "      <th>hispanic_0</th>\n",
       "      <th>hispanic_1</th>\n",
       "      <th>bmi_3</th>\n",
       "      <th>bmi_4</th>\n",
       "      <th>agefirst_1</th>\n",
       "      <th>agefirst_2</th>\n",
       "      <th>nrelbc_0</th>\n",
       "      <th>nrelbc_2</th>\n",
       "      <th>lastmamm_1</th>\n",
       "    </tr>\n",
       "  </thead>\n",
       "  <tbody>\n",
       "    <tr>\n",
       "      <th>1</th>\n",
       "      <td>1</td>\n",
       "      <td>0</td>\n",
       "      <td>0</td>\n",
       "      <td>0</td>\n",
       "      <td>0</td>\n",
       "      <td>0</td>\n",
       "      <td>0</td>\n",
       "      <td>0</td>\n",
       "      <td>0</td>\n",
       "      <td>0</td>\n",
       "      <td>...</td>\n",
       "      <td>0</td>\n",
       "      <td>1</td>\n",
       "      <td>0</td>\n",
       "      <td>0</td>\n",
       "      <td>0</td>\n",
       "      <td>0</td>\n",
       "      <td>0</td>\n",
       "      <td>1</td>\n",
       "      <td>0</td>\n",
       "      <td>0</td>\n",
       "    </tr>\n",
       "    <tr>\n",
       "      <th>9</th>\n",
       "      <td>1</td>\n",
       "      <td>0</td>\n",
       "      <td>0</td>\n",
       "      <td>0</td>\n",
       "      <td>0</td>\n",
       "      <td>0</td>\n",
       "      <td>0</td>\n",
       "      <td>0</td>\n",
       "      <td>0</td>\n",
       "      <td>0</td>\n",
       "      <td>...</td>\n",
       "      <td>0</td>\n",
       "      <td>1</td>\n",
       "      <td>0</td>\n",
       "      <td>0</td>\n",
       "      <td>0</td>\n",
       "      <td>0</td>\n",
       "      <td>0</td>\n",
       "      <td>1</td>\n",
       "      <td>0</td>\n",
       "      <td>0</td>\n",
       "    </tr>\n",
       "  </tbody>\n",
       "</table>\n",
       "<p>2 rows × 25 columns</p>\n",
       "</div>"
      ],
      "text/plain": [
       "   menopaus_0  agegrp_2  agegrp_3  agegrp_4  agegrp_5  agegrp_6  agegrp_7  \\\n",
       "1           1         0         0         0         0         0         0   \n",
       "9           1         0         0         0         0         0         0   \n",
       "\n",
       "   agegrp_8  agegrp_9  agegrp_10  ...  race_5  hispanic_0  hispanic_1  bmi_3  \\\n",
       "1         0         0          0  ...       0           1           0      0   \n",
       "9         0         0          0  ...       0           1           0      0   \n",
       "\n",
       "   bmi_4  agefirst_1  agefirst_2  nrelbc_0  nrelbc_2  lastmamm_1  \n",
       "1      0           0           0         1         0           0  \n",
       "9      0           0           0         1         0           0  \n",
       "\n",
       "[2 rows x 25 columns]"
      ]
     },
     "execution_count": 4,
     "metadata": {},
     "output_type": "execute_result"
    }
   ],
   "source": [
    "X_test.head(2)"
   ]
  },
  {
   "cell_type": "code",
   "execution_count": 5,
   "metadata": {},
   "outputs": [
    {
     "data": {
      "text/plain": [
       "(218866, 25)"
      ]
     },
     "execution_count": 5,
     "metadata": {},
     "output_type": "execute_result"
    }
   ],
   "source": [
    "X_train.shape"
   ]
  },
  {
   "cell_type": "code",
   "execution_count": 6,
   "metadata": {},
   "outputs": [
    {
     "data": {
      "text/plain": [
       "(59501, 25)"
      ]
     },
     "execution_count": 6,
     "metadata": {},
     "output_type": "execute_result"
    }
   ],
   "source": [
    "X_test.shape"
   ]
  },
  {
   "cell_type": "code",
   "execution_count": 7,
   "metadata": {},
   "outputs": [
    {
     "data": {
      "text/plain": [
       "Counter({0: 109536, 1: 109330})"
      ]
     },
     "execution_count": 7,
     "metadata": {},
     "output_type": "execute_result"
    }
   ],
   "source": [
    "from collections import Counter\n",
    "\n",
    "Counter(y_train)"
   ]
  },
  {
   "cell_type": "markdown",
   "metadata": {
    "colab_type": "text",
    "id": "1DESHL5HLRuh"
   },
   "source": [
    "# Model Building on Cancer Data"
   ]
  },
  {
   "cell_type": "markdown",
   "metadata": {
    "colab_type": "text",
    "id": "As1z-UphLRxn"
   },
   "source": [
    "## <span style=\"color:blue\">Model 3 - Random Forest</span>"
   ]
  },
  {
   "cell_type": "code",
   "execution_count": 8,
   "metadata": {},
   "outputs": [],
   "source": [
    "from sklearn import metrics\n",
    "from sklearn.metrics import roc_auc_score, roc_curve, confusion_matrix, accuracy_score\n",
    "\n",
    "def model_stats(X, y, y_pred, model):\n",
    "\n",
    "    cm = confusion_matrix(y, y_pred)\n",
    "    print(\"Confusion Matrix ->\")\n",
    "    print(cm)\n",
    "\n",
    "    TP = cm[1,1] # true positive \n",
    "    TN = cm[0,0] # true negatives\n",
    "    FP = cm[0,1] # false positives\n",
    "    FN = cm[1,0] # false negatives\n",
    "    \n",
    "    print(\"Accuracy:\",accuracy_score(y, y_pred))\n",
    "    sensi=TP / float(TP+FN)\n",
    "    speci=TN / float(TN+FP)\n",
    "    # Let's see the sensitivity of our model\n",
    "    print(\"Sensitivity:\", sensi)\n",
    "\n",
    "    # Let us calculate specificity\n",
    "    print(\"Specificity:\", speci)\n",
    "    print(\"Average of Sensitivity and Specificity:\", (sensi+speci)/2)\n",
    "\n",
    "    # Let us calculate precision\n",
    "    print(\"Precision\",TP / float(TP+FP))\n",
    "    print(\"MCC \", metrics.matthews_corrcoef(y, y_pred))\n",
    "    print(\"F1 \", metrics.fbeta_score(y, y_pred, beta = 1))\n",
    "    print(\"F2 \", metrics.fbeta_score(y, y_pred, beta = 2))\n",
    "    print(\"F3 \", metrics.fbeta_score(y, y_pred, beta = 3))\n",
    "    \n",
    "    # Predicting probability for roc_auc\n",
    "    pred_probs = model.predict_proba(X)[:,1]\n",
    "    print(\"ROC-AUC : {:2.2}\".format(roc_auc_score(y, pred_probs)))\n",
    "\n",
    "    # Plotting ROC curve\n",
    "    fpr, tpr, thresholds = roc_curve(y, pred_probs, drop_intermediate = False )\n",
    "    auc_score = roc_auc_score(y, pred_probs)\n",
    "    plt.figure(figsize=(6, 6))\n",
    "    plt.plot( fpr, tpr, label='ROC curve (area = %0.2f)' % auc_score )\n",
    "    plt.plot([0, 1], [0, 1], 'k--')\n",
    "    plt.xlim([0.0, 1.0])\n",
    "    plt.ylim([0.0, 1.05])\n",
    "    plt.xlabel('False Positive Rate or [1 - True Negative Rate]')\n",
    "    plt.ylabel('True Positive Rate')\n",
    "    plt.title('Receiver operating characteristic example')\n",
    "    plt.legend(loc=\"lower right\")\n",
    "    plt.show()\n",
    "    "
   ]
  },
  {
   "cell_type": "markdown",
   "metadata": {
    "colab_type": "text",
    "id": "myP9j-vgLRxn"
   },
   "source": [
    "### Default Hyperparameters\n",
    "\n",
    "Let's first fit a random forest model with default hyperparameters."
   ]
  },
  {
   "cell_type": "code",
   "execution_count": 9,
   "metadata": {},
   "outputs": [],
   "source": [
    "# Importing random forest classifier from sklearn library\n",
    "from sklearn.ensemble import RandomForestClassifier"
   ]
  },
  {
   "cell_type": "code",
   "execution_count": 10,
   "metadata": {},
   "outputs": [
    {
     "data": {
      "text/plain": [
       "RandomForestClassifier(random_state=100)"
      ]
     },
     "execution_count": 10,
     "metadata": {},
     "output_type": "execute_result"
    }
   ],
   "source": [
    "# Running the random forest with default parameters.\n",
    "rfc = RandomForestClassifier(random_state = 100)\n",
    "\n",
    "# fit\n",
    "rfc.fit(X_train,y_train)"
   ]
  },
  {
   "cell_type": "markdown",
   "metadata": {},
   "source": [
    " Let's check the evaluation metrics of our default model"
   ]
  },
  {
   "cell_type": "code",
   "execution_count": 11,
   "metadata": {},
   "outputs": [],
   "source": [
    "# Making predictions\n",
    "y_pred_train = rfc.predict(X_train) # For train data\n",
    "y_pred_test = rfc.predict(X_test) # For test data"
   ]
  },
  {
   "cell_type": "code",
   "execution_count": 12,
   "metadata": {},
   "outputs": [
    {
     "name": "stdout",
     "output_type": "stream",
     "text": [
      "Confusion Matrix ->\n",
      "[[74790 34746]\n",
      " [16454 92876]]\n",
      "Accuracy: 0.766066908519368\n",
      "Sensitivity: 0.8495015091923535\n",
      "Specificity: 0.6827892199824716\n",
      "Average of Sensitivity and Specificity: 0.7661453645874126\n",
      "Precision 0.727742865650123\n",
      "MCC  0.5397990102448422\n",
      "F1  0.7839224821904858\n",
      "F2  0.8219958863033728\n",
      "F3  0.8355223859113776\n",
      "ROC-AUC : 0.86\n"
     ]
    },
    {
     "data": {
      "image/png": "[encoded data removed]",
      "text/plain": [
       "<Figure size 432x432 with 1 Axes>"
      ]
     },
     "metadata": {
      "needs_background": "light"
     },
     "output_type": "display_data"
    }
   ],
   "source": [
    "model_stats(X_train, y_train, y_pred_train, rfc)"
   ]
  },
  {
   "cell_type": "code",
   "execution_count": 13,
   "metadata": {},
   "outputs": [
    {
     "name": "stdout",
     "output_type": "stream",
     "text": [
      "Confusion Matrix ->\n",
      "[[35548 22382]\n",
      " [  487  1084]]\n",
      "Accuracy: 0.6156535184282617\n",
      "Sensitivity: 0.6900063653723743\n",
      "Specificity: 0.6136371482824098\n",
      "Average of Sensitivity and Specificity: 0.6518217568273921\n",
      "Precision 0.04619449416176596\n",
      "MCC  0.0996143874394922\n",
      "F1  0.08659184407077526\n",
      "F2  0.1821848739495798\n",
      "F3  0.28825953995479325\n",
      "ROC-AUC : 0.7\n"
     ]
    },
    {
     "data": {
      "image/png": "[encoded data removed]",
      "text/plain": [
       "<Figure size 432x432 with 1 Axes>"
      ]
     },
     "metadata": {
      "needs_background": "light"
     },
     "output_type": "display_data"
    }
   ],
   "source": [
    "model_stats(X_test, y_test, y_pred_test, rfc)"
   ]
  },
  {
   "cell_type": "markdown",
   "metadata": {},
   "source": [
    "### Hyperparameter Tuning"
   ]
  },
  {
   "cell_type": "markdown",
   "metadata": {},
   "source": [
    "The following hyperparameters are present in a random forest classifier. Note that most of these hypereparameters are actually of the decision trees that are in the forest.\n",
    "\n",
    "\n",
    "- **n_estimators**: integer, optional (default=10): The number of trees in the forest.\n",
    "- **criterion**: string, optional (default=”gini”)The function to measure the quality of a split. Supported criteria are “gini” for the Gini impurity and “entropy” for the information gain. Note: this parameter is tree-specific.\n",
    "- **max_features** : int, float, string or None, optional (default=”auto”)The number of features to consider when looking for the best split:\n",
    "- **max_depth** : integer or None, optional (default=None)The maximum depth of the tree. If None, then nodes are expanded until all leaves are pure or until all leaves contain less than min_samples_split samples.\n",
    "- **min_samples_split** : int, float, optional (default=2)The minimum number of samples required to split an internal node:**\n",
    "- **min_samples_leaf** : int, float, optional (default=1)The minimum number of samples required to be at a leaf node:**\n",
    "- **max_leaf_nodes** : int or None, optional (default=None)Grow trees with max_leaf_nodes in best-first fashion. Best nodes are defined as relative reduction in impurity. If None then unlimited number of leaf nodes."
   ]
  },
  {
   "cell_type": "markdown",
   "metadata": {},
   "source": [
    "### Grid Search to Find Optimal Hyperparameters"
   ]
  },
  {
   "cell_type": "code",
   "execution_count": 14,
   "metadata": {},
   "outputs": [],
   "source": [
    "#We can now find the optimal hyperparameters using GridSearchCV.\n",
    "from sklearn.model_selection import GridSearchCV,StratifiedKFold"
   ]
  },
  {
   "cell_type": "code",
   "execution_count": 15,
   "metadata": {},
   "outputs": [],
   "source": [
    "# Create a cross validation scheme\n",
    "folds = StratifiedKFold(n_splits = 5, shuffle = True, random_state = 100)"
   ]
  },
  {
   "cell_type": "code",
   "execution_count": 16,
   "metadata": {},
   "outputs": [
    {
     "name": "stdout",
     "output_type": "stream",
     "text": [
      "Fitting 5 folds for each of 6 candidates, totalling 30 fits\n"
     ]
    },
    {
     "name": "stderr",
     "output_type": "stream",
     "text": [
      "[Parallel(n_jobs=-1)]: Using backend LokyBackend with 4 concurrent workers.\n",
      "[Parallel(n_jobs=-1)]: Done  30 out of  30 | elapsed:  5.7min finished\n"
     ]
    },
    {
     "data": {
      "text/plain": [
       "GridSearchCV(cv=StratifiedKFold(n_splits=5, random_state=100, shuffle=True),\n",
       "             estimator=RandomForestClassifier(random_state=100), n_jobs=-1,\n",
       "             param_grid={'n_estimators': [50, 100, 150, 200, 250, 300]},\n",
       "             scoring='balanced_accuracy', verbose=1)"
      ]
     },
     "execution_count": 16,
     "metadata": {},
     "output_type": "execute_result"
    }
   ],
   "source": [
    "# Create the parameter grid based on the results of random search \n",
    "param_grid = {\n",
    "    'n_estimators': [50,100,150,200,250,300]\n",
    "}\n",
    "\n",
    "# Create a based model\n",
    "rf = RandomForestClassifier(random_state = 100)\n",
    "\n",
    "# Instantiate the grid search model\n",
    "grid_search = GridSearchCV(estimator = rf, param_grid = param_grid, scoring='balanced_accuracy',\n",
    "                          cv = folds, n_jobs = -1,verbose = 1)\n",
    "\n",
    "# Fit the grid search to the data\n",
    "grid_search.fit(X_train, y_train)"
   ]
  },
  {
   "cell_type": "code",
   "execution_count": 17,
   "metadata": {},
   "outputs": [
    {
     "name": "stdout",
     "output_type": "stream",
     "text": [
      "best balanced_accuracy 0.7643269669008553\n",
      "RandomForestClassifier(n_estimators=150, random_state=100)\n"
     ]
    }
   ],
   "source": [
    "# printing the optimal accuracy score and hyperparameters\n",
    "print(\"best balanced_accuracy\", grid_search.best_score_)\n",
    "print(grid_search.best_estimator_)"
   ]
  },
  {
   "cell_type": "code",
   "execution_count": 18,
   "metadata": {},
   "outputs": [
    {
     "name": "stdout",
     "output_type": "stream",
     "text": [
      "Fitting 5 folds for each of 2 candidates, totalling 10 fits\n"
     ]
    },
    {
     "name": "stderr",
     "output_type": "stream",
     "text": [
      "[Parallel(n_jobs=-1)]: Using backend LokyBackend with 4 concurrent workers.\n",
      "[Parallel(n_jobs=-1)]: Done  10 out of  10 | elapsed:  1.7min finished\n"
     ]
    },
    {
     "name": "stdout",
     "output_type": "stream",
     "text": [
      "best balanced_accuracy 0.7643864113737908\n",
      "RandomForestClassifier(criterion='entropy', n_estimators=150, random_state=100)\n"
     ]
    }
   ],
   "source": [
    "# Create the parameter grid based on the results of random search \n",
    "param_grid = {\n",
    "    'criterion' : ['gini','entropy']\n",
    "}\n",
    "\n",
    "# Create a based model\n",
    "rf = RandomForestClassifier(random_state = 100, n_estimators=150)\n",
    "\n",
    "# Instantiate the grid search model\n",
    "grid_search = GridSearchCV(estimator = rf, param_grid = param_grid, cv = folds, scoring='balanced_accuracy', \n",
    "                           n_jobs = -1,verbose = 1)\n",
    "\n",
    "# Fit the grid search to the data\n",
    "grid_search.fit(X_train, y_train)\n",
    "\n",
    "# printing the optimal accuracy score and hyperparameters\n",
    "print(\"best balanced_accuracy\", grid_search.best_score_)\n",
    "print(grid_search.best_estimator_)"
   ]
  },
  {
   "cell_type": "code",
   "execution_count": 19,
   "metadata": {},
   "outputs": [
    {
     "name": "stdout",
     "output_type": "stream",
     "text": [
      "Fitting 5 folds for each of 81 candidates, totalling 405 fits\n"
     ]
    },
    {
     "name": "stderr",
     "output_type": "stream",
     "text": [
      "[Parallel(n_jobs=-1)]: Using backend LokyBackend with 4 concurrent workers.\n",
      "[Parallel(n_jobs=-1)]: Done  42 tasks      | elapsed:  3.3min\n",
      "[Parallel(n_jobs=-1)]: Done 192 tasks      | elapsed: 14.5min\n",
      "[Parallel(n_jobs=-1)]: Done 405 out of 405 | elapsed: 30.0min finished\n"
     ]
    },
    {
     "name": "stdout",
     "output_type": "stream",
     "text": [
      "best accuracy 0.686000730778832\n",
      "RandomForestClassifier(criterion='entropy', max_depth=6, min_samples_leaf=20,\n",
      "                       min_samples_split=50, n_estimators=150,\n",
      "                       random_state=100)\n"
     ]
    }
   ],
   "source": [
    "# Create the parameter grid based on the results of random search \n",
    "param_grid = {\n",
    "    #'max_depth': [4,6,8],\n",
    "    'min_samples_leaf': range(10,100,10),\n",
    "    'min_samples_split': range(10,100,10)\n",
    "}\n",
    "\n",
    "# Create a model\n",
    "rf = RandomForestClassifier(random_state = 100, criterion='entropy', n_estimators=150, max_depth=6)\n",
    "\n",
    "# Instantiate the grid search model\n",
    "grid_search = GridSearchCV(estimator = rf, param_grid = param_grid, cv = folds, scoring='balanced_accuracy', \n",
    "                           n_jobs = -1,verbose = 1)\n",
    "\n",
    "\n",
    "\n",
    "# Fit the grid search to the data\n",
    "grid_search.fit(X_train, y_train)\n",
    "\n",
    "# printing the optimal accuracy score and hyperparameters\n",
    "print(\"best accuracy\", grid_search.best_score_)\n",
    "print(grid_search.best_estimator_)"
   ]
  },
  {
   "cell_type": "code",
   "execution_count": 20,
   "metadata": {},
   "outputs": [
    {
     "name": "stdout",
     "output_type": "stream",
     "text": [
      "Fitting 5 folds for each of 3 candidates, totalling 15 fits\n"
     ]
    },
    {
     "name": "stderr",
     "output_type": "stream",
     "text": [
      "[Parallel(n_jobs=-1)]: Using backend LokyBackend with 4 concurrent workers.\n",
      "[Parallel(n_jobs=-1)]: Done  15 out of  15 | elapsed:  1.1min finished\n"
     ]
    },
    {
     "name": "stdout",
     "output_type": "stream",
     "text": [
      "best accuracy 0.6936456834034577\n",
      "RandomForestClassifier(criterion='entropy', max_depth=8, n_estimators=150,\n",
      "                       random_state=100)\n"
     ]
    }
   ],
   "source": [
    "# Create the parameter grid based on the results of random search \n",
    "param_grid = {\n",
    "    'max_depth': [4,6,8]\n",
    "}\n",
    "\n",
    "# Create a model\n",
    "rf = RandomForestClassifier(random_state = 100, criterion='entropy', n_estimators=150)\n",
    "\n",
    "# Instantiate the grid search model\n",
    "grid_search = GridSearchCV(estimator = rf, param_grid = param_grid, cv = folds, scoring='balanced_accuracy', \n",
    "                           n_jobs = -1,verbose = 1)\n",
    "\n",
    "\n",
    "\n",
    "# Fit the grid search to the data\n",
    "grid_search.fit(X_train, y_train)\n",
    "\n",
    "# printing the optimal accuracy score and hyperparameters\n",
    "print(\"best accuracy\", grid_search.best_score_)\n",
    "print(grid_search.best_estimator_)"
   ]
  },
  {
   "cell_type": "code",
   "execution_count": 21,
   "metadata": {},
   "outputs": [
    {
     "name": "stdout",
     "output_type": "stream",
     "text": [
      "Fitting 5 folds for each of 5 candidates, totalling 25 fits\n"
     ]
    },
    {
     "name": "stderr",
     "output_type": "stream",
     "text": [
      "[Parallel(n_jobs=-1)]: Using backend LokyBackend with 4 concurrent workers.\n",
      "[Parallel(n_jobs=-1)]: Done  25 out of  25 | elapsed:  1.4min finished\n"
     ]
    },
    {
     "name": "stdout",
     "output_type": "stream",
     "text": [
      "best accuracy 0.6955440918730835\n",
      "RandomForestClassifier(criterion='entropy', max_depth=8, max_samples=0.2,\n",
      "                       n_estimators=150, random_state=100)\n"
     ]
    }
   ],
   "source": [
    "# Create the parameter grid based on the results of random search \n",
    "param_grid = {\n",
    "    'max_samples': [0.2,0.4,0.6,0.8,1]\n",
    "}\n",
    "\n",
    "# Create a model\n",
    "rf = RandomForestClassifier(max_depth=8, criterion='entropy', n_estimators=150, random_state=100)\n",
    "\n",
    "# Instantiate the grid search model\n",
    "grid_search = GridSearchCV(estimator = rf, param_grid = param_grid, cv = folds, scoring='balanced_accuracy', \n",
    "                           n_jobs = -1,verbose = 1)\n",
    "\n",
    "\n",
    "\n",
    "# Fit the grid search to the data\n",
    "grid_search.fit(X_train, y_train)\n",
    "\n",
    "# printing the optimal accuracy score and hyperparameters\n",
    "print(\"best accuracy\", grid_search.best_score_)\n",
    "print(grid_search.best_estimator_)"
   ]
  },
  {
   "cell_type": "markdown",
   "metadata": {},
   "source": [
    "### Fitting the final model with the best parameters obtained from grid search"
   ]
  },
  {
   "cell_type": "code",
   "execution_count": 22,
   "metadata": {},
   "outputs": [
    {
     "data": {
      "text/plain": [
       "RandomForestClassifier(criterion='entropy', max_depth=8, max_samples=0.2,\n",
       "                       n_estimators=150, random_state=100)"
      ]
     },
     "execution_count": 22,
     "metadata": {},
     "output_type": "execute_result"
    }
   ],
   "source": [
    "# model with the best hyperparameters\n",
    "from sklearn.ensemble import RandomForestClassifier\n",
    "rf = RandomForestClassifier(criterion='entropy', max_depth=8, max_samples=0.2,\n",
    "                       n_estimators=150, random_state=100)\n",
    "\n",
    "\n",
    "# fit\n",
    "rf.fit(X_train,y_train)"
   ]
  },
  {
   "cell_type": "code",
   "execution_count": 23,
   "metadata": {},
   "outputs": [],
   "source": [
    "y_pred_train=rf.predict(X_train)\n",
    "y_pred_test=rf.predict(X_test)"
   ]
  },
  {
   "cell_type": "code",
   "execution_count": 24,
   "metadata": {},
   "outputs": [
    {
     "data": {
      "text/html": [
       "<div>\n",
       "<style scoped>\n",
       "    .dataframe tbody tr th:only-of-type {\n",
       "        vertical-align: middle;\n",
       "    }\n",
       "\n",
       "    .dataframe tbody tr th {\n",
       "        vertical-align: top;\n",
       "    }\n",
       "\n",
       "    .dataframe thead th {\n",
       "        text-align: right;\n",
       "    }\n",
       "</style>\n",
       "<table border=\"1\" class=\"dataframe\">\n",
       "  <thead>\n",
       "    <tr style=\"text-align: right;\">\n",
       "      <th></th>\n",
       "      <th>variables</th>\n",
       "      <th>importance_percentage</th>\n",
       "    </tr>\n",
       "  </thead>\n",
       "  <tbody>\n",
       "    <tr>\n",
       "      <th>0</th>\n",
       "      <td>density_1</td>\n",
       "      <td>17.558520</td>\n",
       "    </tr>\n",
       "    <tr>\n",
       "      <th>1</th>\n",
       "      <td>hispanic_0</td>\n",
       "      <td>15.503126</td>\n",
       "    </tr>\n",
       "    <tr>\n",
       "      <th>2</th>\n",
       "      <td>lastmamm_1</td>\n",
       "      <td>9.329906</td>\n",
       "    </tr>\n",
       "    <tr>\n",
       "      <th>3</th>\n",
       "      <td>race_2</td>\n",
       "      <td>9.213963</td>\n",
       "    </tr>\n",
       "    <tr>\n",
       "      <th>4</th>\n",
       "      <td>agefirst_1</td>\n",
       "      <td>7.538936</td>\n",
       "    </tr>\n",
       "    <tr>\n",
       "      <th>5</th>\n",
       "      <td>agefirst_2</td>\n",
       "      <td>6.494996</td>\n",
       "    </tr>\n",
       "    <tr>\n",
       "      <th>6</th>\n",
       "      <td>hispanic_1</td>\n",
       "      <td>6.102387</td>\n",
       "    </tr>\n",
       "    <tr>\n",
       "      <th>7</th>\n",
       "      <td>race_5</td>\n",
       "      <td>5.510599</td>\n",
       "    </tr>\n",
       "    <tr>\n",
       "      <th>8</th>\n",
       "      <td>bmi_3</td>\n",
       "      <td>5.168035</td>\n",
       "    </tr>\n",
       "    <tr>\n",
       "      <th>9</th>\n",
       "      <td>bmi_4</td>\n",
       "      <td>5.114040</td>\n",
       "    </tr>\n",
       "    <tr>\n",
       "      <th>10</th>\n",
       "      <td>race_4</td>\n",
       "      <td>4.933879</td>\n",
       "    </tr>\n",
       "    <tr>\n",
       "      <th>11</th>\n",
       "      <td>nrelbc_2</td>\n",
       "      <td>1.748650</td>\n",
       "    </tr>\n",
       "    <tr>\n",
       "      <th>12</th>\n",
       "      <td>race_3</td>\n",
       "      <td>1.203427</td>\n",
       "    </tr>\n",
       "    <tr>\n",
       "      <th>13</th>\n",
       "      <td>nrelbc_0</td>\n",
       "      <td>1.147797</td>\n",
       "    </tr>\n",
       "    <tr>\n",
       "      <th>14</th>\n",
       "      <td>density_4</td>\n",
       "      <td>0.987709</td>\n",
       "    </tr>\n",
       "    <tr>\n",
       "      <th>15</th>\n",
       "      <td>agegrp_4</td>\n",
       "      <td>0.544558</td>\n",
       "    </tr>\n",
       "    <tr>\n",
       "      <th>16</th>\n",
       "      <td>menopaus_0</td>\n",
       "      <td>0.480936</td>\n",
       "    </tr>\n",
       "    <tr>\n",
       "      <th>17</th>\n",
       "      <td>agegrp_3</td>\n",
       "      <td>0.455904</td>\n",
       "    </tr>\n",
       "    <tr>\n",
       "      <th>18</th>\n",
       "      <td>agegrp_2</td>\n",
       "      <td>0.237508</td>\n",
       "    </tr>\n",
       "    <tr>\n",
       "      <th>19</th>\n",
       "      <td>agegrp_8</td>\n",
       "      <td>0.168527</td>\n",
       "    </tr>\n",
       "    <tr>\n",
       "      <th>20</th>\n",
       "      <td>agegrp_9</td>\n",
       "      <td>0.136728</td>\n",
       "    </tr>\n",
       "    <tr>\n",
       "      <th>21</th>\n",
       "      <td>agegrp_6</td>\n",
       "      <td>0.128302</td>\n",
       "    </tr>\n",
       "    <tr>\n",
       "      <th>22</th>\n",
       "      <td>agegrp_7</td>\n",
       "      <td>0.123358</td>\n",
       "    </tr>\n",
       "    <tr>\n",
       "      <th>23</th>\n",
       "      <td>agegrp_5</td>\n",
       "      <td>0.096500</td>\n",
       "    </tr>\n",
       "    <tr>\n",
       "      <th>24</th>\n",
       "      <td>agegrp_10</td>\n",
       "      <td>0.071708</td>\n",
       "    </tr>\n",
       "  </tbody>\n",
       "</table>\n",
       "</div>"
      ],
      "text/plain": [
       "     variables  importance_percentage\n",
       "0    density_1              17.558520\n",
       "1   hispanic_0              15.503126\n",
       "2   lastmamm_1               9.329906\n",
       "3       race_2               9.213963\n",
       "4   agefirst_1               7.538936\n",
       "5   agefirst_2               6.494996\n",
       "6   hispanic_1               6.102387\n",
       "7       race_5               5.510599\n",
       "8        bmi_3               5.168035\n",
       "9        bmi_4               5.114040\n",
       "10      race_4               4.933879\n",
       "11    nrelbc_2               1.748650\n",
       "12      race_3               1.203427\n",
       "13    nrelbc_0               1.147797\n",
       "14   density_4               0.987709\n",
       "15    agegrp_4               0.544558\n",
       "16  menopaus_0               0.480936\n",
       "17    agegrp_3               0.455904\n",
       "18    agegrp_2               0.237508\n",
       "19    agegrp_8               0.168527\n",
       "20    agegrp_9               0.136728\n",
       "21    agegrp_6               0.128302\n",
       "22    agegrp_7               0.123358\n",
       "23    agegrp_5               0.096500\n",
       "24   agegrp_10               0.071708"
      ]
     },
     "execution_count": 24,
     "metadata": {},
     "output_type": "execute_result"
    }
   ],
   "source": [
    "# feature_importance\n",
    "importance = rf.feature_importances_\n",
    "\n",
    "features=X_train.columns\n",
    "# create dataframe\n",
    "feature_importance = pd.DataFrame({'variables': features, 'importance_percentage': importance*100})\n",
    "feature_importance = feature_importance.sort_values('importance_percentage', ascending=False).\\\n",
    "                     reset_index(drop=True)\n",
    "feature_importance"
   ]
  },
  {
   "cell_type": "code",
   "execution_count": 23,
   "metadata": {},
   "outputs": [],
   "source": [
    "#y_pred_train = (rf.predict_proba(X_train)[:,1]>=0.47).astype(bool)"
   ]
  },
  {
   "cell_type": "markdown",
   "metadata": {},
   "source": [
    "### Model evaluation on train and test data"
   ]
  },
  {
   "cell_type": "code",
   "execution_count": 25,
   "metadata": {},
   "outputs": [
    {
     "name": "stdout",
     "output_type": "stream",
     "text": [
      "Confusion Matrix ->\n",
      "[[70811 38725]\n",
      " [28466 80864]]\n",
      "Accuracy: 0.6930039384829073\n",
      "Sensitivity: 0.7396323058629837\n",
      "Specificity: 0.6464632632193982\n",
      "Average of Sensitivity and Specificity: 0.6930477845411909\n",
      "Precision 0.6761825920444188\n",
      "MCC  0.3877689143241807\n",
      "F1  0.7064857001821606\n",
      "F2  0.7260073010132715\n",
      "F3  0.7327564724677159\n",
      "ROC-AUC : 0.79\n"
     ]
    },
    {
     "data": {
      "image/png": "[encoded data removed]",
      "text/plain": [
       "<Figure size 432x432 with 1 Axes>"
      ]
     },
     "metadata": {
      "needs_background": "light"
     },
     "output_type": "display_data"
    }
   ],
   "source": [
    "model_stats(X_train, y_train, y_pred_train, rf)"
   ]
  },
  {
   "cell_type": "code",
   "execution_count": 25,
   "metadata": {},
   "outputs": [],
   "source": [
    "#y_pred_test = (rf.predict_proba(X_test)[:,1]>=0.47).astype(bool)"
   ]
  },
  {
   "cell_type": "code",
   "execution_count": 26,
   "metadata": {},
   "outputs": [
    {
     "name": "stdout",
     "output_type": "stream",
     "text": [
      "Confusion Matrix ->\n",
      "[[34395 23535]\n",
      " [  494  1077]]\n",
      "Accuracy: 0.5961580477639031\n",
      "Sensitivity: 0.6855506047103755\n",
      "Specificity: 0.5937338166752978\n",
      "Average of Sensitivity and Specificity: 0.6396422106928367\n",
      "Precision 0.04375914188200877\n",
      "MCC  0.09092197354650473\n",
      "F1  0.08226711988694954\n",
      "F2  0.1742944070429829\n",
      "F3  0.27792831152744446\n",
      "ROC-AUC : 0.69\n"
     ]
    },
    {
     "data": {
      "image/png": "[encoded data removed]",
      "text/plain": [
       "<Figure size 432x432 with 1 Axes>"
      ]
     },
     "metadata": {
      "needs_background": "light"
     },
     "output_type": "display_data"
    }
   ],
   "source": [
    "model_stats(X_test, y_test, y_pred_test, rf)"
   ]
  }
 ],
 "metadata": {
  "accelerator": "GPU",
  "colab": {
   "name": "resampling.ipynb",
   "provenance": [
    {
     "file_id": "1zIFWgNbKIALdy2dbkdMd6Gmnk-vRaoKB",
     "timestamp": 1600618214844
    }
   ]
  },
  "kernelspec": {
   "display_name": "Python 3",
   "language": "python",
   "name": "python3"
  },
  "language_info": {
   "codemirror_mode": {
    "name": "ipython",
    "version": 3
   },
   "file_extension": ".py",
   "mimetype": "text/x-python",
   "name": "python",
   "nbconvert_exporter": "python",
   "pygments_lexer": "ipython3",
   "version": "3.8.3"
  }
 },
 "nbformat": 4,
 "nbformat_minor": 1
}

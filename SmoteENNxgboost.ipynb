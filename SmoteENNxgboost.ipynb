{
 "cells": [
  {
   "cell_type": "code",
   "execution_count": 24,
   "metadata": {},
   "outputs": [],
   "source": [
    "# Suppressing Warnings\n",
    "import warnings\n",
    "warnings.filterwarnings('ignore')\n",
    "\n",
    "# libraries\n",
    "import numpy as np\n",
    "import pandas as pd\n",
    "\n",
    "# For Visualisation\n",
    "import matplotlib.pyplot as plt\n",
    "import seaborn as sns"
   ]
  },
  {
   "cell_type": "code",
   "execution_count": 25,
   "metadata": {},
   "outputs": [],
   "source": [
    "import pickle\n",
    "file = open(\"data_risk2_dummy\",\"rb\")\n",
    "X_train = pickle.load(file)\n",
    "y_train = pickle.load(file)\n",
    "X_test = pickle.load(file)\n",
    "y_test = pickle.load(file)\n",
    "file.close()"
   ]
  },
  {
   "cell_type": "code",
   "execution_count": 26,
   "metadata": {},
   "outputs": [
    {
     "data": {
      "text/html": [
       "<div>\n",
       "<style scoped>\n",
       "    .dataframe tbody tr th:only-of-type {\n",
       "        vertical-align: middle;\n",
       "    }\n",
       "\n",
       "    .dataframe tbody tr th {\n",
       "        vertical-align: top;\n",
       "    }\n",
       "\n",
       "    .dataframe thead th {\n",
       "        text-align: right;\n",
       "    }\n",
       "</style>\n",
       "<table border=\"1\" class=\"dataframe\">\n",
       "  <thead>\n",
       "    <tr style=\"text-align: right;\">\n",
       "      <th></th>\n",
       "      <th>menopaus_0</th>\n",
       "      <th>menopaus_1</th>\n",
       "      <th>agegrp_2</th>\n",
       "      <th>agegrp_3</th>\n",
       "      <th>agegrp_4</th>\n",
       "      <th>agegrp_5</th>\n",
       "      <th>agegrp_6</th>\n",
       "      <th>agegrp_7</th>\n",
       "      <th>agegrp_8</th>\n",
       "      <th>agegrp_9</th>\n",
       "      <th>...</th>\n",
       "      <th>nrelbc_1</th>\n",
       "      <th>nrelbc_2</th>\n",
       "      <th>brstproc_0</th>\n",
       "      <th>brstproc_1</th>\n",
       "      <th>lastmamm_0</th>\n",
       "      <th>lastmamm_1</th>\n",
       "      <th>surgmeno_0</th>\n",
       "      <th>surgmeno_1</th>\n",
       "      <th>hrt_0</th>\n",
       "      <th>hrt_1</th>\n",
       "    </tr>\n",
       "  </thead>\n",
       "  <tbody>\n",
       "    <tr>\n",
       "      <th>0</th>\n",
       "      <td>1</td>\n",
       "      <td>0</td>\n",
       "      <td>0</td>\n",
       "      <td>0</td>\n",
       "      <td>0</td>\n",
       "      <td>0</td>\n",
       "      <td>0</td>\n",
       "      <td>0</td>\n",
       "      <td>0</td>\n",
       "      <td>0</td>\n",
       "      <td>...</td>\n",
       "      <td>0</td>\n",
       "      <td>0</td>\n",
       "      <td>1</td>\n",
       "      <td>0</td>\n",
       "      <td>1</td>\n",
       "      <td>0</td>\n",
       "      <td>0</td>\n",
       "      <td>0</td>\n",
       "      <td>0</td>\n",
       "      <td>0</td>\n",
       "    </tr>\n",
       "    <tr>\n",
       "      <th>2</th>\n",
       "      <td>1</td>\n",
       "      <td>0</td>\n",
       "      <td>0</td>\n",
       "      <td>0</td>\n",
       "      <td>0</td>\n",
       "      <td>0</td>\n",
       "      <td>0</td>\n",
       "      <td>0</td>\n",
       "      <td>0</td>\n",
       "      <td>0</td>\n",
       "      <td>...</td>\n",
       "      <td>0</td>\n",
       "      <td>0</td>\n",
       "      <td>1</td>\n",
       "      <td>0</td>\n",
       "      <td>0</td>\n",
       "      <td>0</td>\n",
       "      <td>0</td>\n",
       "      <td>0</td>\n",
       "      <td>0</td>\n",
       "      <td>0</td>\n",
       "    </tr>\n",
       "  </tbody>\n",
       "</table>\n",
       "<p>2 rows × 40 columns</p>\n",
       "</div>"
      ],
      "text/plain": [
       "   menopaus_0  menopaus_1  agegrp_2  agegrp_3  agegrp_4  agegrp_5  agegrp_6  \\\n",
       "0           1           0         0         0         0         0         0   \n",
       "2           1           0         0         0         0         0         0   \n",
       "\n",
       "   agegrp_7  agegrp_8  agegrp_9  ...  nrelbc_1  nrelbc_2  brstproc_0  \\\n",
       "0         0         0         0  ...         0         0           1   \n",
       "2         0         0         0  ...         0         0           1   \n",
       "\n",
       "   brstproc_1  lastmamm_0  lastmamm_1  surgmeno_0  surgmeno_1  hrt_0  hrt_1  \n",
       "0           0           1           0           0           0      0      0  \n",
       "2           0           0           0           0           0      0      0  \n",
       "\n",
       "[2 rows x 40 columns]"
      ]
     },
     "execution_count": 26,
     "metadata": {},
     "output_type": "execute_result"
    }
   ],
   "source": [
    "X_train.head(2)"
   ]
  },
  {
   "cell_type": "code",
   "execution_count": 27,
   "metadata": {},
   "outputs": [
    {
     "data": {
      "text/plain": [
       "0    109536\n",
       "1      4293\n",
       "Name: cancer, dtype: int64"
      ]
     },
     "execution_count": 27,
     "metadata": {},
     "output_type": "execute_result"
    }
   ],
   "source": [
    "y_train.value_counts()"
   ]
  },
  {
   "cell_type": "code",
   "execution_count": 28,
   "metadata": {},
   "outputs": [
    {
     "data": {
      "text/html": [
       "<div>\n",
       "<style scoped>\n",
       "    .dataframe tbody tr th:only-of-type {\n",
       "        vertical-align: middle;\n",
       "    }\n",
       "\n",
       "    .dataframe tbody tr th {\n",
       "        vertical-align: top;\n",
       "    }\n",
       "\n",
       "    .dataframe thead th {\n",
       "        text-align: right;\n",
       "    }\n",
       "</style>\n",
       "<table border=\"1\" class=\"dataframe\">\n",
       "  <thead>\n",
       "    <tr style=\"text-align: right;\">\n",
       "      <th></th>\n",
       "      <th>menopaus_0</th>\n",
       "      <th>menopaus_1</th>\n",
       "      <th>agegrp_2</th>\n",
       "      <th>agegrp_3</th>\n",
       "      <th>agegrp_4</th>\n",
       "      <th>agegrp_5</th>\n",
       "      <th>agegrp_6</th>\n",
       "      <th>agegrp_7</th>\n",
       "      <th>agegrp_8</th>\n",
       "      <th>agegrp_9</th>\n",
       "      <th>...</th>\n",
       "      <th>nrelbc_1</th>\n",
       "      <th>nrelbc_2</th>\n",
       "      <th>brstproc_0</th>\n",
       "      <th>brstproc_1</th>\n",
       "      <th>lastmamm_0</th>\n",
       "      <th>lastmamm_1</th>\n",
       "      <th>surgmeno_0</th>\n",
       "      <th>surgmeno_1</th>\n",
       "      <th>hrt_0</th>\n",
       "      <th>hrt_1</th>\n",
       "    </tr>\n",
       "  </thead>\n",
       "  <tbody>\n",
       "    <tr>\n",
       "      <th>1</th>\n",
       "      <td>1</td>\n",
       "      <td>0</td>\n",
       "      <td>0</td>\n",
       "      <td>0</td>\n",
       "      <td>0</td>\n",
       "      <td>0</td>\n",
       "      <td>0</td>\n",
       "      <td>0</td>\n",
       "      <td>0</td>\n",
       "      <td>0</td>\n",
       "      <td>...</td>\n",
       "      <td>0</td>\n",
       "      <td>0</td>\n",
       "      <td>1</td>\n",
       "      <td>0</td>\n",
       "      <td>0</td>\n",
       "      <td>0</td>\n",
       "      <td>0</td>\n",
       "      <td>0</td>\n",
       "      <td>0</td>\n",
       "      <td>0</td>\n",
       "    </tr>\n",
       "    <tr>\n",
       "      <th>9</th>\n",
       "      <td>1</td>\n",
       "      <td>0</td>\n",
       "      <td>0</td>\n",
       "      <td>0</td>\n",
       "      <td>0</td>\n",
       "      <td>0</td>\n",
       "      <td>0</td>\n",
       "      <td>0</td>\n",
       "      <td>0</td>\n",
       "      <td>0</td>\n",
       "      <td>...</td>\n",
       "      <td>0</td>\n",
       "      <td>0</td>\n",
       "      <td>1</td>\n",
       "      <td>0</td>\n",
       "      <td>1</td>\n",
       "      <td>0</td>\n",
       "      <td>0</td>\n",
       "      <td>0</td>\n",
       "      <td>0</td>\n",
       "      <td>0</td>\n",
       "    </tr>\n",
       "  </tbody>\n",
       "</table>\n",
       "<p>2 rows × 40 columns</p>\n",
       "</div>"
      ],
      "text/plain": [
       "   menopaus_0  menopaus_1  agegrp_2  agegrp_3  agegrp_4  agegrp_5  agegrp_6  \\\n",
       "1           1           0         0         0         0         0         0   \n",
       "9           1           0         0         0         0         0         0   \n",
       "\n",
       "   agegrp_7  agegrp_8  agegrp_9  ...  nrelbc_1  nrelbc_2  brstproc_0  \\\n",
       "1         0         0         0  ...         0         0           1   \n",
       "9         0         0         0  ...         0         0           1   \n",
       "\n",
       "   brstproc_1  lastmamm_0  lastmamm_1  surgmeno_0  surgmeno_1  hrt_0  hrt_1  \n",
       "1           0           0           0           0           0      0      0  \n",
       "9           0           1           0           0           0      0      0  \n",
       "\n",
       "[2 rows x 40 columns]"
      ]
     },
     "execution_count": 28,
     "metadata": {},
     "output_type": "execute_result"
    }
   ],
   "source": [
    "X_test.head(2)"
   ]
  },
  {
   "cell_type": "code",
   "execution_count": 29,
   "metadata": {},
   "outputs": [],
   "source": [
    "from imblearn.under_sampling import EditedNearestNeighbours\n",
    "from imblearn.over_sampling import SMOTE\n",
    "from imblearn.pipeline import Pipeline\n",
    "#define pipeline\n",
    "under = EditedNearestNeighbours(n_jobs=-1)\n",
    "over = SMOTE(random_state=0, n_jobs=-1)\n",
    "steps=[('u', under), ('o',over)]\n",
    "pipeline = Pipeline(steps=steps)\n",
    "X_rs, y_rs = pipeline.fit_resample(X_train, y_train)"
   ]
  },
  {
   "cell_type": "code",
   "execution_count": 30,
   "metadata": {},
   "outputs": [
    {
     "data": {
      "text/plain": [
       "Counter({0: 96418, 1: 96418})"
      ]
     },
     "execution_count": 30,
     "metadata": {},
     "output_type": "execute_result"
    }
   ],
   "source": [
    "from collections import Counter\n",
    "\n",
    "Counter(y_rs)"
   ]
  },
  {
   "cell_type": "code",
   "execution_count": 31,
   "metadata": {},
   "outputs": [],
   "source": [
    "X_train=X_rs\n",
    "y_train=y_rs"
   ]
  },
  {
   "cell_type": "markdown",
   "metadata": {
    "colab_type": "text",
    "id": "1DESHL5HLRuh"
   },
   "source": [
    "# Model Building on Cancer Data"
   ]
  },
  {
   "cell_type": "markdown",
   "metadata": {
    "colab_type": "text",
    "id": "As1z-UphLRxn"
   },
   "source": [
    "## <span style=\"color:blue\">Model 3 - Weighted XGBoost</span>"
   ]
  },
  {
   "cell_type": "markdown",
   "metadata": {
    "colab_type": "text",
    "id": "myP9j-vgLRxn"
   },
   "source": [
    "### Default Hyperparameters\n",
    "\n",
    "Let's first fit a random forest model with default hyperparameters."
   ]
  },
  {
   "cell_type": "code",
   "execution_count": 32,
   "metadata": {},
   "outputs": [],
   "source": [
    "from sklearn import metrics\n",
    "from sklearn.metrics import roc_auc_score, roc_curve, confusion_matrix, accuracy_score\n",
    "\n",
    "def model_stats(X, y, y_pred, model):\n",
    "\n",
    "    cm = confusion_matrix(y, y_pred)\n",
    "    print(\"Confusion Matrix ->\")\n",
    "    print(cm)\n",
    "\n",
    "    TP = cm[1,1] # true positive \n",
    "    TN = cm[0,0] # true negatives\n",
    "    FP = cm[0,1] # false positives\n",
    "    FN = cm[1,0] # false negatives\n",
    "    \n",
    "    print(\"Accuracy:\",accuracy_score(y, y_pred))\n",
    "\n",
    "    # Let's see the sensitivity of our model\n",
    "    print(\"Sensitivity:\",TP / float(TP+FN))\n",
    "\n",
    "    # Let us calculate specificity\n",
    "    print(\"Specificity:\",TN / float(TN+FP))\n",
    "\n",
    "    # Let us calculate precision\n",
    "    print(\"Precision\",TP / float(TP+FP))\n",
    "    print(\"MCC \", metrics.matthews_corrcoef(y, y_pred))\n",
    "    print(\"F1 \", metrics.fbeta_score(y, y_pred, beta = 1))\n",
    "    print(\"F2 \", metrics.fbeta_score(y, y_pred, beta = 2))\n",
    "    print(\"F3 \", metrics.fbeta_score(y, y_pred, beta = 3))\n",
    "    \n",
    "    # Predicting probability for roc_auc\n",
    "    pred_probs = model.predict_proba(X)[:,1]\n",
    "    print(\"ROC-AUC : {:2.2}\".format(roc_auc_score(y, pred_probs)))\n",
    "\n",
    "    # Plotting ROC curve\n",
    "    fpr, tpr, thresholds = roc_curve(y, pred_probs, drop_intermediate = False )\n",
    "    auc_score = roc_auc_score(y, pred_probs)\n",
    "    plt.figure(figsize=(6, 6))\n",
    "    plt.plot( fpr, tpr, label='ROC curve (area = %0.2f)' % auc_score )\n",
    "    plt.plot([0, 1], [0, 1], 'k--')\n",
    "    plt.xlim([0.0, 1.0])\n",
    "    plt.ylim([0.0, 1.05])\n",
    "    plt.xlabel('False Positive Rate or [1 - True Negative Rate]')\n",
    "    plt.ylabel('True Positive Rate')\n",
    "    plt.title('Receiver operating characteristic example')\n",
    "    plt.legend(loc=\"lower right\")\n",
    "    plt.show()\n",
    "    "
   ]
  },
  {
   "cell_type": "code",
   "execution_count": 33,
   "metadata": {},
   "outputs": [],
   "source": [
    "# Importing random forest classifier from sklearn library\n",
    "from xgboost import XGBClassifier"
   ]
  },
  {
   "cell_type": "code",
   "execution_count": 34,
   "metadata": {},
   "outputs": [
    {
     "data": {
      "text/plain": [
       "XGBClassifier(base_score=0.5, booster='gbtree', colsample_bylevel=1,\n",
       "              colsample_bynode=1, colsample_bytree=1, gamma=0, gpu_id=-1,\n",
       "              importance_type='gain', interaction_constraints='',\n",
       "              learning_rate=0.300000012, max_delta_step=0, max_depth=6,\n",
       "              min_child_weight=1, missing=nan, monotone_constraints='()',\n",
       "              n_estimators=100, n_jobs=0, num_parallel_tree=1, random_state=100,\n",
       "              reg_alpha=0, reg_lambda=1, scale_pos_weight=1, subsample=1,\n",
       "              tree_method='exact', validate_parameters=1, verbosity=None)"
      ]
     },
     "execution_count": 34,
     "metadata": {},
     "output_type": "execute_result"
    }
   ],
   "source": [
    "xgb = XGBClassifier(random_state = 100)\n",
    "\n",
    "# fit\n",
    "xgb.fit(X_train,y_train)"
   ]
  },
  {
   "cell_type": "code",
   "execution_count": 35,
   "metadata": {},
   "outputs": [],
   "source": [
    "# Let's check the evaluation metrics of our default model\n",
    "\n",
    "# Making predictions\n",
    "y_pred_train_def = xgb.predict(X_train) # For train data\n",
    "y_pred_test_def = xgb.predict(X_test) # For test data"
   ]
  },
  {
   "cell_type": "markdown",
   "metadata": {},
   "source": [
    "#### Evaluating model on balanced train data with default parameters"
   ]
  },
  {
   "cell_type": "code",
   "execution_count": 36,
   "metadata": {},
   "outputs": [
    {
     "name": "stdout",
     "output_type": "stream",
     "text": [
      "Confusion Matrix ->\n",
      "[[92399  4019]\n",
      " [ 9249 87169]]\n",
      "Accuracy: 0.9311954199423345\n",
      "Sensitivity: 0.9040739281047108\n",
      "Specificity: 0.9583169117799581\n",
      "Precision 0.9559262183620651\n",
      "MCC  0.8636623532904623\n",
      "F1  0.9292773152244598\n",
      "F2  0.9139894308602105\n",
      "F3  0.9090046404922048\n",
      "ROC-AUC : 0.98\n"
     ]
    },
    {
     "data": {
      "image/png": "[encoded data removed]",
      "text/plain": [
       "<Figure size 432x432 with 1 Axes>"
      ]
     },
     "metadata": {
      "needs_background": "light"
     },
     "output_type": "display_data"
    }
   ],
   "source": [
    "# For train\n",
    "model_stats(X_train, y_train, y_pred_train_def, xgb)"
   ]
  },
  {
   "cell_type": "markdown",
   "metadata": {},
   "source": [
    "#### Evaluating model on imbalanced test data with default parameters"
   ]
  },
  {
   "cell_type": "code",
   "execution_count": 37,
   "metadata": {},
   "outputs": [
    {
     "name": "stdout",
     "output_type": "stream",
     "text": [
      "Confusion Matrix ->\n",
      "[[52099  5831]\n",
      " [  933   638]]\n",
      "Accuracy: 0.886321238298516\n",
      "Sensitivity: 0.4061107574793125\n",
      "Specificity: 0.8993440359054031\n",
      "Precision 0.09862420776008657\n",
      "MCC  0.1573255370474629\n",
      "F1  0.15870646766169155\n",
      "F2  0.25013722261428684\n",
      "F3  0.3095885093167702\n",
      "ROC-AUC : 0.74\n"
     ]
    },
    {
     "data": {
      "image/png": "[encoded data removed]",
      "text/plain": [
       "<Figure size 432x432 with 1 Axes>"
      ]
     },
     "metadata": {
      "needs_background": "light"
     },
     "output_type": "display_data"
    }
   ],
   "source": [
    "# For test\n",
    "model_stats(X_test, y_test, y_pred_test_def, xgb)"
   ]
  }
 ],
 "metadata": {
  "accelerator": "GPU",
  "colab": {
   "name": "resampling.ipynb",
   "provenance": [
    {
     "file_id": "1zIFWgNbKIALdy2dbkdMd6Gmnk-vRaoKB",
     "timestamp": 1600618214844
    }
   ]
  },
  "kernelspec": {
   "display_name": "Python 3",
   "language": "python",
   "name": "python3"
  },
  "language_info": {
   "codemirror_mode": {
    "name": "ipython",
    "version": 3
   },
   "file_extension": ".py",
   "mimetype": "text/x-python",
   "name": "python",
   "nbconvert_exporter": "python",
   "pygments_lexer": "ipython3",
   "version": "3.8.3"
  }
 },
 "nbformat": 4,
 "nbformat_minor": 1
}

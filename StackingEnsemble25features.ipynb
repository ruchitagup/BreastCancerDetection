{
 "cells": [
  {
   "cell_type": "code",
   "execution_count": 2,
   "metadata": {},
   "outputs": [],
   "source": [
    "# Suppressing Warnings\n",
    "import warnings\n",
    "warnings.filterwarnings('ignore')\n",
    "\n",
    "# libraries\n",
    "import numpy as np\n",
    "import pandas as pd\n",
    "\n",
    "# For Visualisation\n",
    "import matplotlib.pyplot as plt\n",
    "import seaborn as sns"
   ]
  },
  {
   "cell_type": "code",
   "execution_count": 3,
   "metadata": {},
   "outputs": [],
   "source": [
    "import pickle\n",
    "file = open(\"data_risk2_dummy\",\"rb\")\n",
    "X_train = pickle.load(file)\n",
    "y_train = pickle.load(file)\n",
    "X_test = pickle.load(file)\n",
    "y_test = pickle.load(file)\n",
    "file.close()"
   ]
  },
  {
   "cell_type": "code",
   "execution_count": 4,
   "metadata": {},
   "outputs": [
    {
     "data": {
      "text/html": [
       "<div>\n",
       "<style scoped>\n",
       "    .dataframe tbody tr th:only-of-type {\n",
       "        vertical-align: middle;\n",
       "    }\n",
       "\n",
       "    .dataframe tbody tr th {\n",
       "        vertical-align: top;\n",
       "    }\n",
       "\n",
       "    .dataframe thead th {\n",
       "        text-align: right;\n",
       "    }\n",
       "</style>\n",
       "<table border=\"1\" class=\"dataframe\">\n",
       "  <thead>\n",
       "    <tr style=\"text-align: right;\">\n",
       "      <th></th>\n",
       "      <th>menopaus_0</th>\n",
       "      <th>menopaus_1</th>\n",
       "      <th>agegrp_2</th>\n",
       "      <th>agegrp_3</th>\n",
       "      <th>agegrp_4</th>\n",
       "      <th>agegrp_5</th>\n",
       "      <th>agegrp_6</th>\n",
       "      <th>agegrp_7</th>\n",
       "      <th>agegrp_8</th>\n",
       "      <th>agegrp_9</th>\n",
       "      <th>...</th>\n",
       "      <th>nrelbc_1</th>\n",
       "      <th>nrelbc_2</th>\n",
       "      <th>brstproc_0</th>\n",
       "      <th>brstproc_1</th>\n",
       "      <th>lastmamm_0</th>\n",
       "      <th>lastmamm_1</th>\n",
       "      <th>surgmeno_0</th>\n",
       "      <th>surgmeno_1</th>\n",
       "      <th>hrt_0</th>\n",
       "      <th>hrt_1</th>\n",
       "    </tr>\n",
       "  </thead>\n",
       "  <tbody>\n",
       "    <tr>\n",
       "      <th>0</th>\n",
       "      <td>1</td>\n",
       "      <td>0</td>\n",
       "      <td>0</td>\n",
       "      <td>0</td>\n",
       "      <td>0</td>\n",
       "      <td>0</td>\n",
       "      <td>0</td>\n",
       "      <td>0</td>\n",
       "      <td>0</td>\n",
       "      <td>0</td>\n",
       "      <td>...</td>\n",
       "      <td>0</td>\n",
       "      <td>0</td>\n",
       "      <td>1</td>\n",
       "      <td>0</td>\n",
       "      <td>1</td>\n",
       "      <td>0</td>\n",
       "      <td>0</td>\n",
       "      <td>0</td>\n",
       "      <td>0</td>\n",
       "      <td>0</td>\n",
       "    </tr>\n",
       "    <tr>\n",
       "      <th>2</th>\n",
       "      <td>1</td>\n",
       "      <td>0</td>\n",
       "      <td>0</td>\n",
       "      <td>0</td>\n",
       "      <td>0</td>\n",
       "      <td>0</td>\n",
       "      <td>0</td>\n",
       "      <td>0</td>\n",
       "      <td>0</td>\n",
       "      <td>0</td>\n",
       "      <td>...</td>\n",
       "      <td>0</td>\n",
       "      <td>0</td>\n",
       "      <td>1</td>\n",
       "      <td>0</td>\n",
       "      <td>0</td>\n",
       "      <td>0</td>\n",
       "      <td>0</td>\n",
       "      <td>0</td>\n",
       "      <td>0</td>\n",
       "      <td>0</td>\n",
       "    </tr>\n",
       "  </tbody>\n",
       "</table>\n",
       "<p>2 rows × 40 columns</p>\n",
       "</div>"
      ],
      "text/plain": [
       "   menopaus_0  menopaus_1  agegrp_2  agegrp_3  agegrp_4  agegrp_5  agegrp_6  \\\n",
       "0           1           0         0         0         0         0         0   \n",
       "2           1           0         0         0         0         0         0   \n",
       "\n",
       "   agegrp_7  agegrp_8  agegrp_9  ...  nrelbc_1  nrelbc_2  brstproc_0  \\\n",
       "0         0         0         0  ...         0         0           1   \n",
       "2         0         0         0  ...         0         0           1   \n",
       "\n",
       "   brstproc_1  lastmamm_0  lastmamm_1  surgmeno_0  surgmeno_1  hrt_0  hrt_1  \n",
       "0           0           1           0           0           0      0      0  \n",
       "2           0           0           0           0           0      0      0  \n",
       "\n",
       "[2 rows x 40 columns]"
      ]
     },
     "execution_count": 4,
     "metadata": {},
     "output_type": "execute_result"
    }
   ],
   "source": [
    "X_train.head(2)"
   ]
  },
  {
   "cell_type": "code",
   "execution_count": 5,
   "metadata": {},
   "outputs": [
    {
     "data": {
      "text/html": [
       "<div>\n",
       "<style scoped>\n",
       "    .dataframe tbody tr th:only-of-type {\n",
       "        vertical-align: middle;\n",
       "    }\n",
       "\n",
       "    .dataframe tbody tr th {\n",
       "        vertical-align: top;\n",
       "    }\n",
       "\n",
       "    .dataframe thead th {\n",
       "        text-align: right;\n",
       "    }\n",
       "</style>\n",
       "<table border=\"1\" class=\"dataframe\">\n",
       "  <thead>\n",
       "    <tr style=\"text-align: right;\">\n",
       "      <th></th>\n",
       "      <th>menopaus_0</th>\n",
       "      <th>menopaus_1</th>\n",
       "      <th>agegrp_2</th>\n",
       "      <th>agegrp_3</th>\n",
       "      <th>agegrp_4</th>\n",
       "      <th>agegrp_5</th>\n",
       "      <th>agegrp_6</th>\n",
       "      <th>agegrp_7</th>\n",
       "      <th>agegrp_8</th>\n",
       "      <th>agegrp_9</th>\n",
       "      <th>...</th>\n",
       "      <th>nrelbc_1</th>\n",
       "      <th>nrelbc_2</th>\n",
       "      <th>brstproc_0</th>\n",
       "      <th>brstproc_1</th>\n",
       "      <th>lastmamm_0</th>\n",
       "      <th>lastmamm_1</th>\n",
       "      <th>surgmeno_0</th>\n",
       "      <th>surgmeno_1</th>\n",
       "      <th>hrt_0</th>\n",
       "      <th>hrt_1</th>\n",
       "    </tr>\n",
       "  </thead>\n",
       "  <tbody>\n",
       "    <tr>\n",
       "      <th>1</th>\n",
       "      <td>1</td>\n",
       "      <td>0</td>\n",
       "      <td>0</td>\n",
       "      <td>0</td>\n",
       "      <td>0</td>\n",
       "      <td>0</td>\n",
       "      <td>0</td>\n",
       "      <td>0</td>\n",
       "      <td>0</td>\n",
       "      <td>0</td>\n",
       "      <td>...</td>\n",
       "      <td>0</td>\n",
       "      <td>0</td>\n",
       "      <td>1</td>\n",
       "      <td>0</td>\n",
       "      <td>0</td>\n",
       "      <td>0</td>\n",
       "      <td>0</td>\n",
       "      <td>0</td>\n",
       "      <td>0</td>\n",
       "      <td>0</td>\n",
       "    </tr>\n",
       "    <tr>\n",
       "      <th>9</th>\n",
       "      <td>1</td>\n",
       "      <td>0</td>\n",
       "      <td>0</td>\n",
       "      <td>0</td>\n",
       "      <td>0</td>\n",
       "      <td>0</td>\n",
       "      <td>0</td>\n",
       "      <td>0</td>\n",
       "      <td>0</td>\n",
       "      <td>0</td>\n",
       "      <td>...</td>\n",
       "      <td>0</td>\n",
       "      <td>0</td>\n",
       "      <td>1</td>\n",
       "      <td>0</td>\n",
       "      <td>1</td>\n",
       "      <td>0</td>\n",
       "      <td>0</td>\n",
       "      <td>0</td>\n",
       "      <td>0</td>\n",
       "      <td>0</td>\n",
       "    </tr>\n",
       "  </tbody>\n",
       "</table>\n",
       "<p>2 rows × 40 columns</p>\n",
       "</div>"
      ],
      "text/plain": [
       "   menopaus_0  menopaus_1  agegrp_2  agegrp_3  agegrp_4  agegrp_5  agegrp_6  \\\n",
       "1           1           0         0         0         0         0         0   \n",
       "9           1           0         0         0         0         0         0   \n",
       "\n",
       "   agegrp_7  agegrp_8  agegrp_9  ...  nrelbc_1  nrelbc_2  brstproc_0  \\\n",
       "1         0         0         0  ...         0         0           1   \n",
       "9         0         0         0  ...         0         0           1   \n",
       "\n",
       "   brstproc_1  lastmamm_0  lastmamm_1  surgmeno_0  surgmeno_1  hrt_0  hrt_1  \n",
       "1           0           0           0           0           0      0      0  \n",
       "9           0           1           0           0           0      0      0  \n",
       "\n",
       "[2 rows x 40 columns]"
      ]
     },
     "execution_count": 5,
     "metadata": {},
     "output_type": "execute_result"
    }
   ],
   "source": [
    "X_test.head(2)"
   ]
  },
  {
   "cell_type": "code",
   "execution_count": 6,
   "metadata": {},
   "outputs": [],
   "source": [
    "rfecol = ['menopaus_0', 'agegrp_2', 'agegrp_3', 'agegrp_4', 'agegrp_5',\n",
    "       'agegrp_6', 'agegrp_7', 'agegrp_8', 'agegrp_9', 'agegrp_10',\n",
    "       'density_1', 'density_4', 'race_2', 'race_3', 'race_4', 'race_5',\n",
    "       'hispanic_0', 'hispanic_1', 'bmi_3', 'bmi_4', 'agefirst_1',\n",
    "       'agefirst_2', 'nrelbc_0', 'nrelbc_2', 'lastmamm_1']\n",
    "X_train=X_train[rfecol]\n",
    "X_test=X_test[rfecol]"
   ]
  },
  {
   "cell_type": "code",
   "execution_count": 7,
   "metadata": {},
   "outputs": [
    {
     "data": {
      "text/plain": [
       "0    109536\n",
       "1      4293\n",
       "Name: cancer, dtype: int64"
      ]
     },
     "execution_count": 7,
     "metadata": {},
     "output_type": "execute_result"
    }
   ],
   "source": [
    "y_train.value_counts()"
   ]
  },
  {
   "cell_type": "markdown",
   "metadata": {
    "colab_type": "text",
    "id": "1DESHL5HLRuh"
   },
   "source": [
    "# Stacking Ensemble Model on Cancer Data"
   ]
  },
  {
   "cell_type": "markdown",
   "metadata": {
    "colab_type": "text",
    "id": "myP9j-vgLRxn"
   },
   "source": [
    "### Default Hyperparameters\n",
    "\n",
    "We have already tuned the hyperparameters of various models to be used for the ensemble - "
   ]
  },
  {
   "cell_type": "code",
   "execution_count": 8,
   "metadata": {},
   "outputs": [],
   "source": [
    "from sklearn import metrics\n",
    "from sklearn.metrics import roc_auc_score, roc_curve, confusion_matrix, accuracy_score\n",
    "\n",
    "def model_stats(X, y, y_pred, model):\n",
    "\n",
    "    cm = confusion_matrix(y, y_pred)\n",
    "    print(\"Confusion Matrix ->\")\n",
    "    print(cm)\n",
    "\n",
    "    TP = cm[1,1] # true positive \n",
    "    TN = cm[0,0] # true negatives\n",
    "    FP = cm[0,1] # false positives\n",
    "    FN = cm[1,0] # false negatives\n",
    "    \n",
    "    print(\"Accuracy:\",accuracy_score(y, y_pred))\n",
    "\n",
    "    sensi = TP / float(TP+FN)\n",
    "    speci = TN / float(TN+FP)\n",
    "    \n",
    "    # Let's see the sensitivity of our model\n",
    "    print(\"Sensitivity:\", sensi)\n",
    "\n",
    "    # Let us calculate specificity\n",
    "    print(\"Specificity:\", speci)\n",
    "\n",
    "    print(\"Average:\", (sensi+speci)/2)\n",
    "\n",
    "    # Let us calculate precision\n",
    "    print(\"Precision\",TP / float(TP+FP))\n",
    "    print(\"MCC \", metrics.matthews_corrcoef(y, y_pred))\n",
    "    print(\"F1 \", metrics.fbeta_score(y, y_pred, beta = 1))\n",
    "    print(\"F2 \", metrics.fbeta_score(y, y_pred, beta = 2))\n",
    "    print(\"F3 \", metrics.fbeta_score(y, y_pred, beta = 3))\n",
    "    \n",
    "    pred_probs = model.predict_proba(X)[:,1]\n",
    "    print(\"ROC-AUC : {:2.2}\".format(roc_auc_score(y, pred_probs)))\n",
    "\n",
    "    # Plotting ROC curve\n",
    "    fpr, tpr, thresholds = roc_curve(y, pred_probs, drop_intermediate = False )\n",
    "    auc_score = roc_auc_score(y, pred_probs)\n",
    "    plt.figure(figsize=(6, 6))\n",
    "    plt.plot( fpr, tpr, label='ROC curve (area = %0.2f)' % auc_score )\n",
    "    plt.plot([0, 1], [0, 1], 'k--')\n",
    "    plt.xlim([0.0, 1.0])\n",
    "    plt.ylim([0.0, 1.05])\n",
    "    plt.xlabel('False Positive Rate or [1 - True Negative Rate]')\n",
    "    plt.ylabel('True Positive Rate')\n",
    "    plt.title('Receiver operating characteristic example')\n",
    "    plt.legend(loc=\"lower right\")\n",
    "    plt.show()\n",
    "    "
   ]
  },
  {
   "cell_type": "code",
   "execution_count": 9,
   "metadata": {},
   "outputs": [],
   "source": [
    "# Importing random forest classifier from sklearn library\n",
    "from xgboost import XGBClassifier\n",
    "from sklearn.linear_model import LogisticRegression\n",
    "from sklearn.linear_model import SGDClassifier\n",
    "from sklearn.ensemble import VotingClassifier, RandomForestClassifier, StackingClassifier\n",
    "from sklearn.model_selection import StratifiedKFold, cross_val_score\n",
    "from numpy import mean\n",
    "from sklearn.pipeline import make_pipeline"
   ]
  },
  {
   "cell_type": "code",
   "execution_count": 10,
   "metadata": {},
   "outputs": [],
   "source": [
    "# code has been written with the help of https://machinelearningmastery.com/voting-ensembles-with-python/\n",
    "from sklearn.calibration import CalibratedClassifierCV\n",
    "\n",
    "def get_stacking(pt):\n",
    "    folds = StratifiedKFold(n_splits = 5, shuffle=True, random_state = 100)\n",
    "    level0 = []\n",
    "    level0.append(('XGB', XGBClassifier(learning_rate =0.1, n_estimators=150, max_depth=5, min_child_weight=3, gamma=0,\n",
    "                                        subsample=0.8, colsample_bytree=0.8, objective= 'binary:logistic', nthread=4,\n",
    "                                        reg_alpha=0, scale_pos_weight=25, seed=27)))\n",
    "    level0.append(('LR', LogisticRegression(C=1, class_weight='balanced')))\n",
    "    #level0.append(('SGD', make_pipeline(SGDClassifier(class_weight = 'balanced', loss = 'hinge', penalty = 'l1',\n",
    "    #                                                  random_state = 100), CalibratedClassifierCV(cv='prefit'))))\n",
    "    level0.append(('RF', RandomForestClassifier(random_state = 100, n_estimators=150 ,max_depth=8 ,min_samples_leaf=100,\n",
    "                                                min_samples_split=200, max_samples=0.8, class_weight='balanced')))\n",
    "    \n",
    "    level1 = LogisticRegression(class_weight='balanced')\n",
    "    \n",
    "    ensemble = StackingClassifier(estimators=level0, final_estimator=level1, cv=folds, passthrough=pt)\n",
    "    return ensemble\n",
    "\n",
    "def get_models():\n",
    "    models = dict()\n",
    "    '''models['XGB'] = XGBClassifier(learning_rate =0.1, n_estimators=50, max_depth=5, min_child_weight=1, gamma=0,\n",
    "                                  subsample=0.9, colsample_bytree=0.6, objective= 'binary:logistic', nthread=4,\n",
    "                                  reg_alpha=0.05, scale_pos_weight=130, seed=27)\n",
    "    models['LR'] = LogisticRegression(C=10, class_weight='balanced')\n",
    "    #models['SGD'] = make_pipeline(SGDClassifier(class_weight = 'balanced', loss = 'hinge', penalty = 'l1',\n",
    "    #                                                  random_state = 100), CalibratedClassifierCV(cv='prefit'))\n",
    "    models['RF'] = RandomForestClassifier(random_state = 100, n_estimators=50 ,max_depth=8 ,min_samples_leaf=200, \n",
    "                                          min_samples_split=200,max_samples=0.8, class_weight='balanced')\n",
    "    '''\n",
    "    #passthrough = False means only the predictions of the estimators would be used as training data\n",
    "    models['ensemble1'] = get_stacking(False)\n",
    "    #passthrough = True means along with the predictions of the estimators, the original data also\n",
    "    #would be used as training data\n",
    "    models['ensemble2'] = get_stacking(True)\n",
    "    return models\n",
    "\n",
    "def evaluate_model(model, X, y):\n",
    "    # Create a cross validation scheme\n",
    "    folds = StratifiedKFold(n_splits = 5, shuffle=True, random_state = 100)\n",
    "    scores = cross_val_score(model, X, y, scoring='balanced_accuracy',cv = folds, n_jobs = -1,verbose = 1)\n",
    "    return scores"
   ]
  },
  {
   "cell_type": "code",
   "execution_count": 11,
   "metadata": {},
   "outputs": [
    {
     "name": "stderr",
     "output_type": "stream",
     "text": [
      "[Parallel(n_jobs=-1)]: Using backend LokyBackend with 4 concurrent workers.\n",
      "[Parallel(n_jobs=-1)]: Done   5 out of   5 | elapsed:  4.0min finished\n"
     ]
    },
    {
     "name": "stdout",
     "output_type": "stream",
     "text": [
      "ensemble1 -> 0.6868449262720345\n"
     ]
    },
    {
     "name": "stderr",
     "output_type": "stream",
     "text": [
      "[Parallel(n_jobs=-1)]: Using backend LokyBackend with 4 concurrent workers.\n"
     ]
    },
    {
     "name": "stdout",
     "output_type": "stream",
     "text": [
      "ensemble2 -> 0.6854596744403498\n"
     ]
    },
    {
     "name": "stderr",
     "output_type": "stream",
     "text": [
      "[Parallel(n_jobs=-1)]: Done   5 out of   5 | elapsed:  4.1min finished\n"
     ]
    }
   ],
   "source": [
    "models = get_models()\n",
    "results, names = list(), list()\n",
    "for name, model in models.items():\n",
    "    scores = evaluate_model(model, X_train, y_train)\n",
    "    results.append(scores)\n",
    "    names.append(name)\n",
    "    print(name,\"->\", mean(scores))"
   ]
  },
  {
   "cell_type": "code",
   "execution_count": 12,
   "metadata": {},
   "outputs": [
    {
     "data": {
      "text/plain": [
       "StackingClassifier(cv=StratifiedKFold(n_splits=5, random_state=100, shuffle=True),\n",
       "                   estimators=[('XGB',\n",
       "                                XGBClassifier(base_score=None, booster=None,\n",
       "                                              colsample_bylevel=None,\n",
       "                                              colsample_bynode=None,\n",
       "                                              colsample_bytree=0.8, gamma=0,\n",
       "                                              gpu_id=None,\n",
       "                                              importance_type='gain',\n",
       "                                              interaction_constraints=None,\n",
       "                                              learning_rate=0.1,\n",
       "                                              max_delta_step=None, max_depth=5,\n",
       "                                              min_child_weight=3, m...\n",
       "                                              subsample=0.8, tree_method=None,\n",
       "                                              validate_parameters=None,\n",
       "                                              verbosity=None)),\n",
       "                               ('LR',\n",
       "                                LogisticRegression(C=1,\n",
       "                                                   class_weight='balanced')),\n",
       "                               ('RF',\n",
       "                                RandomForestClassifier(class_weight='balanced',\n",
       "                                                       max_depth=8,\n",
       "                                                       max_samples=0.8,\n",
       "                                                       min_samples_leaf=100,\n",
       "                                                       min_samples_split=200,\n",
       "                                                       n_estimators=150,\n",
       "                                                       random_state=100))],\n",
       "                   final_estimator=LogisticRegression(class_weight='balanced'),\n",
       "                   passthrough=True)"
      ]
     },
     "execution_count": 12,
     "metadata": {},
     "output_type": "execute_result"
    }
   ],
   "source": [
    "# fit\n",
    "models['ensemble2'].fit(X_train,y_train)"
   ]
  },
  {
   "cell_type": "code",
   "execution_count": 13,
   "metadata": {},
   "outputs": [],
   "source": [
    "# Let's check the evaluation metrics of our default model\n",
    "\n",
    "# Making predictions\n",
    "y_pred_train = models['ensemble2'].predict(X_train) # For train data\n",
    "#y_pred_train=(models['ensemble2'].predict_proba(X_train)[:,1] > 0.46).astype(bool)"
   ]
  },
  {
   "cell_type": "markdown",
   "metadata": {},
   "source": [
    "#### Evaluating ensemble model on train data"
   ]
  },
  {
   "cell_type": "code",
   "execution_count": 14,
   "metadata": {},
   "outputs": [
    {
     "name": "stdout",
     "output_type": "stream",
     "text": [
      "Confusion Matrix ->\n",
      "[[74256 35280]\n",
      " [ 1230  3063]]\n",
      "Accuracy: 0.6792557256938039\n",
      "Sensitivity: 0.713487071977638\n",
      "Specificity: 0.6779141104294478\n",
      "Average: 0.695700591203543\n",
      "Precision 0.07988420311399734\n",
      "MCC  0.1577628579523069\n",
      "F1  0.14368139600337743\n",
      "F2  0.2758713861118616\n",
      "F3  0.39789555728760717\n",
      "ROC-AUC : 0.76\n"
     ]
    },
    {
     "data": {
      "image/png": "[encoded data removed]",
      "text/plain": [
       "<Figure size 432x432 with 1 Axes>"
      ]
     },
     "metadata": {
      "needs_background": "light"
     },
     "output_type": "display_data"
    }
   ],
   "source": [
    "# For train\n",
    "model_stats(X_train, y_train, y_pred_train, models['ensemble2'])"
   ]
  },
  {
   "cell_type": "markdown",
   "metadata": {},
   "source": [
    "#### #### Evaluating ensemble model on test data"
   ]
  },
  {
   "cell_type": "code",
   "execution_count": 15,
   "metadata": {},
   "outputs": [
    {
     "name": "stdout",
     "output_type": "stream",
     "text": [
      "Confusion Matrix ->\n",
      "[[35037 22893]\n",
      " [  441  1130]]\n",
      "Accuracy: 0.6078385237222904\n",
      "Sensitivity: 0.7192870782940802\n",
      "Specificity: 0.6048161574313827\n",
      "Average: 0.6620516178627315\n",
      "Precision 0.04703825500561962\n",
      "MCC  0.10590831008585655\n",
      "F1  0.08830194576853952\n",
      "F2  0.18642557824924938\n",
      "F3  0.2961060741051308\n",
      "ROC-AUC : 0.72\n"
     ]
    },
    {
     "data": {
      "image/png": "[encoded data removed]",
      "text/plain": [
       "<Figure size 432x432 with 1 Axes>"
      ]
     },
     "metadata": {
      "needs_background": "light"
     },
     "output_type": "display_data"
    }
   ],
   "source": [
    "# For test\n",
    "y_pred_test = models['ensemble2'].predict(X_test) # For test data\n",
    "#y_pred_test=(models['ensemble2'].predict_proba(X_test)[:,1] > 0.46).astype(bool)\n",
    "model_stats(X_test, y_test, y_pred_test, models['ensemble2'])"
   ]
  },
  {
   "cell_type": "code",
   "execution_count": 16,
   "metadata": {},
   "outputs": [
    {
     "data": {
      "text/plain": [
       "StackingClassifier(cv=StratifiedKFold(n_splits=5, random_state=100, shuffle=True),\n",
       "                   estimators=[('XGB',\n",
       "                                XGBClassifier(base_score=None, booster=None,\n",
       "                                              colsample_bylevel=None,\n",
       "                                              colsample_bynode=None,\n",
       "                                              colsample_bytree=0.8, gamma=0,\n",
       "                                              gpu_id=None,\n",
       "                                              importance_type='gain',\n",
       "                                              interaction_constraints=None,\n",
       "                                              learning_rate=0.1,\n",
       "                                              max_delta_step=None, max_depth=5,\n",
       "                                              min_child_weight=3, m...\n",
       "                                              scale_pos_weight=25, seed=27,\n",
       "                                              subsample=0.8, tree_method=None,\n",
       "                                              validate_parameters=None,\n",
       "                                              verbosity=None)),\n",
       "                               ('LR',\n",
       "                                LogisticRegression(C=1,\n",
       "                                                   class_weight='balanced')),\n",
       "                               ('RF',\n",
       "                                RandomForestClassifier(class_weight='balanced',\n",
       "                                                       max_depth=8,\n",
       "                                                       max_samples=0.8,\n",
       "                                                       min_samples_leaf=100,\n",
       "                                                       min_samples_split=200,\n",
       "                                                       n_estimators=150,\n",
       "                                                       random_state=100))],\n",
       "                   final_estimator=LogisticRegression(class_weight='balanced'))"
      ]
     },
     "execution_count": 16,
     "metadata": {},
     "output_type": "execute_result"
    }
   ],
   "source": [
    "# fit\n",
    "models['ensemble1'].fit(X_train,y_train)"
   ]
  },
  {
   "cell_type": "code",
   "execution_count": 17,
   "metadata": {},
   "outputs": [],
   "source": [
    "# Let's check the evaluation metrics of our default model\n",
    "\n",
    "# Making predictions\n",
    "y_pred_train = models['ensemble1'].predict(X_train) # For train data\n",
    "#y_pred_train=(models['ensemble1'].predict_proba(X_train)[:,1] > 0.47).astype(bool)"
   ]
  },
  {
   "cell_type": "markdown",
   "metadata": {},
   "source": [
    "#### Evaluating ensemble model on train data"
   ]
  },
  {
   "cell_type": "code",
   "execution_count": 18,
   "metadata": {},
   "outputs": [
    {
     "name": "stdout",
     "output_type": "stream",
     "text": [
      "Confusion Matrix ->\n",
      "[[74438 35098]\n",
      " [ 1247  3046]]\n",
      "Accuracy: 0.6807052684289592\n",
      "Sensitivity: 0.7095271372000932\n",
      "Specificity: 0.6795756646216768\n",
      "Average: 0.6945514009108851\n",
      "Precision 0.07985528523489933\n",
      "MCC  0.15703816668464846\n",
      "F1  0.143553974126352\n",
      "F2  0.27532721093354545\n",
      "F3  0.3967127284093721\n",
      "ROC-AUC : 0.76\n"
     ]
    },
    {
     "data": {
      "image/png": "[encoded data removed]",
      "text/plain": [
       "<Figure size 432x432 with 1 Axes>"
      ]
     },
     "metadata": {
      "needs_background": "light"
     },
     "output_type": "display_data"
    }
   ],
   "source": [
    "# For train\n",
    "model_stats(X_train, y_train, y_pred_train, models['ensemble1'])"
   ]
  },
  {
   "cell_type": "markdown",
   "metadata": {},
   "source": [
    "#### #### Evaluating ensemble model on test data"
   ]
  },
  {
   "cell_type": "code",
   "execution_count": 19,
   "metadata": {},
   "outputs": [
    {
     "name": "stdout",
     "output_type": "stream",
     "text": [
      "Confusion Matrix ->\n",
      "[[35069 22861]\n",
      " [  450  1121]]\n",
      "Accuracy: 0.6082250718475319\n",
      "Sensitivity: 0.7135582431572247\n",
      "Specificity: 0.6053685482478853\n",
      "Average: 0.6594633957025551\n",
      "Precision 0.0467433908764907\n",
      "MCC  0.10424561504171703\n",
      "F1  0.08773920870347904\n",
      "F2  0.18519130377321089\n",
      "F3  0.2940636394638126\n",
      "ROC-AUC : 0.72\n"
     ]
    },
    {
     "data": {
      "image/png": "[encoded data removed]",
      "text/plain": [
       "<Figure size 432x432 with 1 Axes>"
      ]
     },
     "metadata": {
      "needs_background": "light"
     },
     "output_type": "display_data"
    }
   ],
   "source": [
    "# For test\n",
    "y_pred_test = models['ensemble1'].predict(X_test) # For test data\n",
    "#y_pred_test=(models['ensemble1'].predict_proba(X_test)[:,1] > 0.47).astype(bool)\n",
    "model_stats(X_test, y_test, y_pred_test, models['ensemble1'])"
   ]
  }
 ],
 "metadata": {
  "accelerator": "GPU",
  "colab": {
   "name": "resampling.ipynb",
   "provenance": [
    {
     "file_id": "1zIFWgNbKIALdy2dbkdMd6Gmnk-vRaoKB",
     "timestamp": 1600618214844
    }
   ]
  },
  "kernelspec": {
   "display_name": "Python 3",
   "language": "python",
   "name": "python3"
  },
  "language_info": {
   "codemirror_mode": {
    "name": "ipython",
    "version": 3
   },
   "file_extension": ".py",
   "mimetype": "text/x-python",
   "name": "python",
   "nbconvert_exporter": "python",
   "pygments_lexer": "ipython3",
   "version": "3.8.3"
  }
 },
 "nbformat": 4,
 "nbformat_minor": 1
}

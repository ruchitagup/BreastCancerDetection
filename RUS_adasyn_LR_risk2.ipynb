{
 "cells": [
  {
   "cell_type": "code",
   "execution_count": 18,
   "metadata": {
    "colab": {},
    "colab_type": "code",
    "executionInfo": {
     "elapsed": 3477,
     "status": "ok",
     "timestamp": 1600678476940,
     "user": {
      "displayName": "ruchita gupta",
      "photoUrl": "https://lh3.googleusercontent.com/a-/AOh14GjCGGbLc_4fFcHtjh1n8SidKsf9KN5bWiHQz-T6rQ=s64",
      "userId": "07681670099196576716"
     },
     "user_tz": -330
    },
    "id": "Vm7g2ac8LRr1"
   },
   "outputs": [],
   "source": [
    "# Suppressing Warnings\n",
    "import warnings\n",
    "warnings.filterwarnings('ignore')"
   ]
  },
  {
   "cell_type": "code",
   "execution_count": 19,
   "metadata": {
    "colab": {},
    "colab_type": "code",
    "executionInfo": {
     "elapsed": 3477,
     "status": "ok",
     "timestamp": 1600678476948,
     "user": {
      "displayName": "ruchita gupta",
      "photoUrl": "https://lh3.googleusercontent.com/a-/AOh14GjCGGbLc_4fFcHtjh1n8SidKsf9KN5bWiHQz-T6rQ=s64",
      "userId": "07681670099196576716"
     },
     "user_tz": -330
    },
    "id": "-fTdqvoYLRr7"
   },
   "outputs": [],
   "source": [
    "# libraries\n",
    "import numpy as np\n",
    "import pandas as pd\n",
    "\n",
    "# For Visualisation\n",
    "import matplotlib.pyplot as plt\n",
    "import seaborn as sns"
   ]
  },
  {
   "cell_type": "markdown",
   "metadata": {
    "colab_type": "text",
    "id": "4op3ZalrLRr-"
   },
   "source": [
    "#### Reading cleaned data"
   ]
  },
  {
   "cell_type": "code",
   "execution_count": 20,
   "metadata": {},
   "outputs": [],
   "source": [
    "import pickle\n",
    "file = open(\"data_risk2_dummy\",\"rb\")\n",
    "X_train = pickle.load(file)\n",
    "y_train = pickle.load(file)\n",
    "X_test = pickle.load(file)\n",
    "y_test = pickle.load(file)\n",
    "file.close()"
   ]
  },
  {
   "cell_type": "code",
   "execution_count": 21,
   "metadata": {},
   "outputs": [
    {
     "data": {
      "text/plain": [
       "Counter({0: 109536, 1: 4293})"
      ]
     },
     "execution_count": 21,
     "metadata": {},
     "output_type": "execute_result"
    }
   ],
   "source": [
    "from collections import Counter\n",
    "\n",
    "Counter(y_train)"
   ]
  },
  {
   "cell_type": "code",
   "execution_count": 22,
   "metadata": {},
   "outputs": [],
   "source": [
    "#rfecol = ['agegrp_3', 'agegrp_4', 'agegrp_5', 'agegrp_6', 'agegrp_7', 'agegrp_8','agegrp_9', 'agegrp_10', 'density_1', \n",
    "#          'density_2', 'race_2', 'race_4', 'nrelbc_1', 'nrelbc_2', 'lastmamm_0']\n",
    "rfecol = ['menopaus_0', 'agegrp_2', 'agegrp_3', 'agegrp_4', 'agegrp_5',\n",
    "       'agegrp_6', 'agegrp_7', 'agegrp_8', 'agegrp_9', 'agegrp_10',\n",
    "       'density_1', 'density_4', 'race_2', 'race_3', 'race_4', 'race_5',\n",
    "       'hispanic_0', 'hispanic_1', 'bmi_3', 'bmi_4', 'agefirst_1',\n",
    "       'agefirst_2', 'nrelbc_0', 'nrelbc_2', 'lastmamm_1']\n",
    "\n",
    "X_train=X_train[rfecol]\n",
    "X_test=X_test[rfecol]"
   ]
  },
  {
   "cell_type": "code",
   "execution_count": 23,
   "metadata": {},
   "outputs": [],
   "source": [
    "from imblearn.under_sampling import OneSidedSelection, RandomUnderSampler\n",
    "from imblearn.over_sampling import ADASYN, SMOTE, BorderlineSMOTE\n",
    "from imblearn.pipeline import Pipeline\n",
    "\n",
    "#define pipeline\n",
    "under = RandomUnderSampler(sampling_strategy=0.5,random_state=42)\n",
    "#under = OneSidedSelection(n_neighbors=1, n_seeds_S=200)\n",
    "#over = BorderlineSMOTE(random_state=0, n_jobs=-1)\n",
    "over = ADASYN(random_state=0, n_jobs=-1)\n",
    "steps=[('u', under), ('o',over)]\n",
    "pipeline = Pipeline(steps=steps)\n",
    "X_rs, y_rs = pipeline.fit_resample(X_train, y_train)"
   ]
  },
  {
   "cell_type": "code",
   "execution_count": 24,
   "metadata": {},
   "outputs": [
    {
     "data": {
      "text/plain": [
       "Counter({0: 8586, 1: 7991})"
      ]
     },
     "execution_count": 24,
     "metadata": {},
     "output_type": "execute_result"
    }
   ],
   "source": [
    "from collections import Counter\n",
    "\n",
    "Counter(y_rs)"
   ]
  },
  {
   "cell_type": "code",
   "execution_count": 25,
   "metadata": {},
   "outputs": [],
   "source": [
    "import pickle\n",
    "file = open(\"data_rus_adasyn_risk2\",\"wb\")\n",
    "pickle.dump(X_rs,file)\n",
    "pickle.dump(y_rs,file)\n",
    "pickle.dump(X_test,file)\n",
    "pickle.dump(y_test,file)\n",
    "file.close()"
   ]
  },
  {
   "cell_type": "code",
   "execution_count": 26,
   "metadata": {},
   "outputs": [],
   "source": [
    "from sklearn import metrics\n",
    "from sklearn.metrics import roc_auc_score, roc_curve, confusion_matrix, accuracy_score\n",
    "\n",
    "def model_stats(X, y, y_pred, model):\n",
    "\n",
    "    cm = confusion_matrix(y, y_pred)\n",
    "    print(\"Confusion Matrix ->\")\n",
    "    print(cm)\n",
    "\n",
    "    TP = cm[1,1] # true positive \n",
    "    TN = cm[0,0] # true negatives\n",
    "    FP = cm[0,1] # false positives\n",
    "    FN = cm[1,0] # false negatives\n",
    "    \n",
    "    print(\"Accuracy:\",accuracy_score(y, y_pred))\n",
    "\n",
    "    sensi = TP / float(TP+FN)\n",
    "    speci = TN / float(TN+FP)\n",
    "    # Let's see the sensitivity of our model\n",
    "    print(\"Sensitivity:\", sensi)\n",
    "\n",
    "    # Let us calculate specificity\n",
    "    print(\"Specificity:\", speci)\n",
    "\n",
    "    print(\"Average:\", (sensi+speci)/2)\n",
    "\n",
    "    # Let us calculate precision\n",
    "    print(\"Precision\",TP / float(TP+FP))\n",
    "    print(\"MCC \", metrics.matthews_corrcoef(y, y_pred))\n",
    "    print(\"F1 \", metrics.fbeta_score(y, y_pred, beta = 1))\n",
    "    print(\"F2 \", metrics.fbeta_score(y, y_pred, beta = 2))\n",
    "    print(\"F3 \", metrics.fbeta_score(y, y_pred, beta = 3))\n",
    "    \n",
    "    # Predicting probability for roc_auc\n",
    "    pred_probs = model.predict_proba(X)[:,1]\n",
    "    print(\"ROC-AUC : {:2.2}\".format(roc_auc_score(y, pred_probs)))\n",
    "\n",
    "    # Plotting ROC curve\n",
    "    fpr, tpr, thresholds = roc_curve(y, pred_probs, drop_intermediate = False )\n",
    "    auc_score = roc_auc_score(y, pred_probs)\n",
    "    plt.figure(figsize=(6, 6))\n",
    "    plt.plot( fpr, tpr, label='ROC curve (area = %0.2f)' % auc_score )\n",
    "    plt.plot([0, 1], [0, 1], 'k--')\n",
    "    plt.xlim([0.0, 1.0])\n",
    "    plt.ylim([0.0, 1.05])\n",
    "    plt.xlabel('False Positive Rate or [1 - True Negative Rate]')\n",
    "    plt.ylabel('True Positive Rate')\n",
    "    plt.title('Receiver operating characteristic example')\n",
    "    plt.legend(loc=\"lower right\")\n",
    "    plt.show()"
   ]
  },
  {
   "cell_type": "markdown",
   "metadata": {
    "collapsed": true
   },
   "source": [
    "### 2: Model Building"
   ]
  },
  {
   "cell_type": "code",
   "execution_count": 27,
   "metadata": {},
   "outputs": [],
   "source": [
    "# Importing LogisticRegression and metrics from sklearn library\n",
    "import statsmodels.api as sm\n",
    "from sklearn.linear_model import LogisticRegression\n",
    "from sklearn import metrics\n",
    "from sklearn.feature_selection import RFE\n",
    "from sklearn.model_selection import GridSearchCV,StratifiedKFold\n",
    "from sklearn.preprocessing import LabelEncoder"
   ]
  },
  {
   "cell_type": "code",
   "execution_count": 28,
   "metadata": {},
   "outputs": [
    {
     "name": "stdout",
     "output_type": "stream",
     "text": [
      "Fitting 5 folds for each of 4 candidates, totalling 20 fits\n"
     ]
    },
    {
     "name": "stderr",
     "output_type": "stream",
     "text": [
      "[Parallel(n_jobs=-1)]: Using backend LokyBackend with 4 concurrent workers.\n",
      "[Parallel(n_jobs=-1)]: Done  20 out of  20 | elapsed:    4.1s finished\n"
     ]
    },
    {
     "data": {
      "text/plain": [
       "GridSearchCV(cv=StratifiedKFold(n_splits=5, random_state=100, shuffle=True),\n",
       "             estimator=LogisticRegression(), n_jobs=-1,\n",
       "             param_grid={'C': [10, 1, 0.5, 0.1]}, return_train_score=True,\n",
       "             scoring='balanced_accuracy', verbose=1)"
      ]
     },
     "execution_count": 28,
     "metadata": {},
     "output_type": "execute_result"
    }
   ],
   "source": [
    "### Building model using regularization and cross validation\n",
    "\n",
    "# Create a cross validation scheme\n",
    "folds = StratifiedKFold(n_splits = 5, shuffle = True, random_state = 100)\n",
    "\n",
    "# Specify range of hyper-parameters to tune\n",
    "hyper_params = {'C': [10, 1, 0.5, 0.1]}\n",
    "\n",
    "# Specify model for logistic regression with option to treat class imbalance and perform grid search\n",
    "logreg = LogisticRegression()\n",
    "\n",
    "# GridSearchCV\n",
    "model_cv = GridSearchCV(estimator = logreg,\n",
    "                       param_grid = hyper_params,\n",
    "                       scoring = \"balanced_accuracy\",\n",
    "                       cv = folds,\n",
    "                       verbose = 1,\n",
    "                       return_train_score = True,\n",
    "                       n_jobs=-1)\n",
    "\n",
    "# Fit the model\n",
    "model_cv.fit(X_rs,y_rs)"
   ]
  },
  {
   "cell_type": "markdown",
   "metadata": {},
   "source": [
    "cv_results = pd.DataFrame(model_cv.cv_results_)\n",
    "cv_results.head()"
   ]
  },
  {
   "cell_type": "code",
   "execution_count": 29,
   "metadata": {},
   "outputs": [
    {
     "name": "stdout",
     "output_type": "stream",
     "text": [
      "best balanced accuracy 0.6286663668557402\n",
      "\n",
      "\n",
      "LogisticRegression(C=0.5)\n"
     ]
    }
   ],
   "source": [
    "# printing the optimal accuracy score and hyperparameters\n",
    "print(\"best balanced accuracy\", model_cv.best_score_)\n",
    "print(\"\\n\")\n",
    "print(model_cv.best_estimator_)"
   ]
  },
  {
   "cell_type": "code",
   "execution_count": 30,
   "metadata": {},
   "outputs": [
    {
     "data": {
      "text/plain": [
       "LogisticRegression(C=0.1)"
      ]
     },
     "execution_count": 30,
     "metadata": {},
     "output_type": "execute_result"
    }
   ],
   "source": [
    "# It looks that C=0.1 and penalty='l1' are the best value\n",
    "\n",
    "# Running Logistic Regression on Optimal hyperparameter value\n",
    "logreg = LogisticRegression(C=0.10)\n",
    "\n",
    "logreg.fit(X_rs,y_rs)"
   ]
  },
  {
   "cell_type": "markdown",
   "metadata": {},
   "source": [
    "# Coefficients\n",
    "logreg.coef_"
   ]
  },
  {
   "cell_type": "code",
   "execution_count": 31,
   "metadata": {},
   "outputs": [
    {
     "data": {
      "text/plain": [
       "menopaus_0    0.042518\n",
       "agegrp_2      0.085343\n",
       "agegrp_3      0.082204\n",
       "agegrp_4      0.373461\n",
       "agegrp_5      0.710733\n",
       "agegrp_6      0.664765\n",
       "agegrp_7      0.892979\n",
       "agegrp_8      0.834791\n",
       "agegrp_9      0.726324\n",
       "agegrp_10     0.502145\n",
       "density_1     0.016767\n",
       "density_4     0.035338\n",
       "race_2        0.023838\n",
       "race_3        0.026147\n",
       "race_4        0.028095\n",
       "race_5        0.028889\n",
       "hispanic_0    0.905983\n",
       "hispanic_1    0.026931\n",
       "bmi_3         0.035331\n",
       "bmi_4         0.031884\n",
       "agefirst_1    0.030733\n",
       "agefirst_2    0.031564\n",
       "nrelbc_0      0.370185\n",
       "nrelbc_2      0.052975\n",
       "lastmamm_1    0.038080\n",
       "dtype: float64"
      ]
     },
     "execution_count": 31,
     "metadata": {},
     "output_type": "execute_result"
    }
   ],
   "source": [
    "# List of cols with their coefficients\n",
    "val=logreg.coef_.reshape(-1)\n",
    "coef = pd.Series(val, index = X_rs.columns)\n",
    "coef"
   ]
  },
  {
   "cell_type": "code",
   "execution_count": 32,
   "metadata": {},
   "outputs": [],
   "source": [
    "# Running Logistic Regression with class_weight parameter to handle class imbalance\n",
    "y_pred_train=logreg.predict(X_rs)\n",
    "#y_pred_train=(logreg.predict_proba(X_train)[:,1] > 0.32).astype(bool)"
   ]
  },
  {
   "cell_type": "code",
   "execution_count": 33,
   "metadata": {},
   "outputs": [
    {
     "name": "stdout",
     "output_type": "stream",
     "text": [
      "Confusion Matrix ->\n",
      "[[5388 3198]\n",
      " [2950 5041]]\n",
      "Accuracy: 0.6291246908367014\n",
      "Sensitivity: 0.6308346890251533\n",
      "Specificity: 0.6275331935709294\n",
      "Average: 0.6291839412980413\n",
      "Precision 0.6118460978274063\n",
      "MCC  0.2582060040236729\n",
      "F1  0.6211953173136168\n",
      "F2  0.6269432629405766\n",
      "F3  0.6288829561615809\n",
      "ROC-AUC : 0.66\n"
     ]
    },
    {
     "data": {
      "image/png": "[encoded data removed]",
      "text/plain": [
       "<Figure size 432x432 with 1 Axes>"
      ]
     },
     "metadata": {
      "needs_background": "light"
     },
     "output_type": "display_data"
    }
   ],
   "source": [
    "model_stats(X_rs, y_rs, y_pred_train, logreg)"
   ]
  },
  {
   "cell_type": "code",
   "execution_count": 34,
   "metadata": {},
   "outputs": [],
   "source": [
    "y_pred_test=logreg.predict(X_test)\n",
    "#y_pred_test=(logreg.predict_proba(X_test)[:,1] > 0.32).astype(bool)"
   ]
  },
  {
   "cell_type": "code",
   "execution_count": 35,
   "metadata": {},
   "outputs": [
    {
     "name": "stdout",
     "output_type": "stream",
     "text": [
      "Confusion Matrix ->\n",
      "[[34881 23049]\n",
      " [  665   906]]\n",
      "Accuracy: 0.6014520764356902\n",
      "Sensitivity: 0.576702737110121\n",
      "Specificity: 0.6021232522009322\n",
      "Average: 0.5894129946555267\n",
      "Precision 0.037820914214151534\n",
      "MCC  0.05846245346782975\n",
      "F1  0.0709864451931364\n",
      "F2  0.14980654122160125\n",
      "F3  0.23783272956371085\n",
      "ROC-AUC : 0.61\n"
     ]
    },
    {
     "data": {
      "image/png": "[encoded data removed]",
      "text/plain": [
       "<Figure size 432x432 with 1 Axes>"
      ]
     },
     "metadata": {
      "needs_background": "light"
     },
     "output_type": "display_data"
    }
   ],
   "source": [
    "model_stats(X_test, y_test, y_pred_test, logreg)"
   ]
  },
  {
   "cell_type": "code",
   "execution_count": null,
   "metadata": {},
   "outputs": [],
   "source": []
  },
  {
   "cell_type": "code",
   "execution_count": null,
   "metadata": {},
   "outputs": [],
   "source": []
  },
  {
   "cell_type": "code",
   "execution_count": null,
   "metadata": {},
   "outputs": [],
   "source": []
  }
 ],
 "metadata": {
  "accelerator": "GPU",
  "colab": {
   "name": "resampling.ipynb",
   "provenance": [
    {
     "file_id": "1zIFWgNbKIALdy2dbkdMd6Gmnk-vRaoKB",
     "timestamp": 1600618214844
    }
   ]
  },
  "kernelspec": {
   "display_name": "Python 3",
   "language": "python",
   "name": "python3"
  },
  "language_info": {
   "codemirror_mode": {
    "name": "ipython",
    "version": 3
   },
   "file_extension": ".py",
   "mimetype": "text/x-python",
   "name": "python",
   "nbconvert_exporter": "python",
   "pygments_lexer": "ipython3",
   "version": "3.8.3"
  }
 },
 "nbformat": 4,
 "nbformat_minor": 1
}

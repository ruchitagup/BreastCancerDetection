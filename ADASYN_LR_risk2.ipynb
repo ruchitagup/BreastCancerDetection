{
 "cells": [
  {
   "cell_type": "code",
   "execution_count": 32,
   "metadata": {
    "colab": {},
    "colab_type": "code",
    "executionInfo": {
     "elapsed": 3477,
     "status": "ok",
     "timestamp": 1600678476940,
     "user": {
      "displayName": "ruchita gupta",
      "photoUrl": "https://lh3.googleusercontent.com/a-/AOh14GjCGGbLc_4fFcHtjh1n8SidKsf9KN5bWiHQz-T6rQ=s64",
      "userId": "07681670099196576716"
     },
     "user_tz": -330
    },
    "id": "Vm7g2ac8LRr1"
   },
   "outputs": [],
   "source": [
    "# Suppressing Warnings\n",
    "import warnings\n",
    "warnings.filterwarnings('ignore')"
   ]
  },
  {
   "cell_type": "code",
   "execution_count": 33,
   "metadata": {
    "colab": {},
    "colab_type": "code",
    "executionInfo": {
     "elapsed": 3477,
     "status": "ok",
     "timestamp": 1600678476948,
     "user": {
      "displayName": "ruchita gupta",
      "photoUrl": "https://lh3.googleusercontent.com/a-/AOh14GjCGGbLc_4fFcHtjh1n8SidKsf9KN5bWiHQz-T6rQ=s64",
      "userId": "07681670099196576716"
     },
     "user_tz": -330
    },
    "id": "-fTdqvoYLRr7"
   },
   "outputs": [],
   "source": [
    "# libraries\n",
    "import numpy as np\n",
    "import pandas as pd\n",
    "\n",
    "# For Visualisation\n",
    "import matplotlib.pyplot as plt\n",
    "import seaborn as sns"
   ]
  },
  {
   "cell_type": "markdown",
   "metadata": {},
   "source": [
    "!pip install hmeasure"
   ]
  },
  {
   "cell_type": "markdown",
   "metadata": {
    "colab_type": "text",
    "id": "4op3ZalrLRr-"
   },
   "source": [
    "#### Reading cleaned data "
   ]
  },
  {
   "cell_type": "code",
   "execution_count": 34,
   "metadata": {},
   "outputs": [],
   "source": [
    "import pickle\n",
    "file = open(\"data_risk2_dummy\",\"rb\")\n",
    "#file = open(\"data_agegrp_dummy_drop_all_unknowns\",\"rb\")\n",
    "X_train = pickle.load(file)\n",
    "y_train = pickle.load(file)\n",
    "X_test = pickle.load(file)\n",
    "y_test = pickle.load(file)\n",
    "file.close()"
   ]
  },
  {
   "cell_type": "code",
   "execution_count": 35,
   "metadata": {},
   "outputs": [
    {
     "data": {
      "text/html": [
       "<div>\n",
       "<style scoped>\n",
       "    .dataframe tbody tr th:only-of-type {\n",
       "        vertical-align: middle;\n",
       "    }\n",
       "\n",
       "    .dataframe tbody tr th {\n",
       "        vertical-align: top;\n",
       "    }\n",
       "\n",
       "    .dataframe thead th {\n",
       "        text-align: right;\n",
       "    }\n",
       "</style>\n",
       "<table border=\"1\" class=\"dataframe\">\n",
       "  <thead>\n",
       "    <tr style=\"text-align: right;\">\n",
       "      <th></th>\n",
       "      <th>menopaus_0</th>\n",
       "      <th>menopaus_1</th>\n",
       "      <th>agegrp_2</th>\n",
       "      <th>agegrp_3</th>\n",
       "      <th>agegrp_4</th>\n",
       "      <th>agegrp_5</th>\n",
       "      <th>agegrp_6</th>\n",
       "      <th>agegrp_7</th>\n",
       "      <th>agegrp_8</th>\n",
       "      <th>agegrp_9</th>\n",
       "      <th>...</th>\n",
       "      <th>nrelbc_1</th>\n",
       "      <th>nrelbc_2</th>\n",
       "      <th>brstproc_0</th>\n",
       "      <th>brstproc_1</th>\n",
       "      <th>lastmamm_0</th>\n",
       "      <th>lastmamm_1</th>\n",
       "      <th>surgmeno_0</th>\n",
       "      <th>surgmeno_1</th>\n",
       "      <th>hrt_0</th>\n",
       "      <th>hrt_1</th>\n",
       "    </tr>\n",
       "  </thead>\n",
       "  <tbody>\n",
       "    <tr>\n",
       "      <th>0</th>\n",
       "      <td>1</td>\n",
       "      <td>0</td>\n",
       "      <td>0</td>\n",
       "      <td>0</td>\n",
       "      <td>0</td>\n",
       "      <td>0</td>\n",
       "      <td>0</td>\n",
       "      <td>0</td>\n",
       "      <td>0</td>\n",
       "      <td>0</td>\n",
       "      <td>...</td>\n",
       "      <td>0</td>\n",
       "      <td>0</td>\n",
       "      <td>1</td>\n",
       "      <td>0</td>\n",
       "      <td>1</td>\n",
       "      <td>0</td>\n",
       "      <td>0</td>\n",
       "      <td>0</td>\n",
       "      <td>0</td>\n",
       "      <td>0</td>\n",
       "    </tr>\n",
       "    <tr>\n",
       "      <th>2</th>\n",
       "      <td>1</td>\n",
       "      <td>0</td>\n",
       "      <td>0</td>\n",
       "      <td>0</td>\n",
       "      <td>0</td>\n",
       "      <td>0</td>\n",
       "      <td>0</td>\n",
       "      <td>0</td>\n",
       "      <td>0</td>\n",
       "      <td>0</td>\n",
       "      <td>...</td>\n",
       "      <td>0</td>\n",
       "      <td>0</td>\n",
       "      <td>1</td>\n",
       "      <td>0</td>\n",
       "      <td>0</td>\n",
       "      <td>0</td>\n",
       "      <td>0</td>\n",
       "      <td>0</td>\n",
       "      <td>0</td>\n",
       "      <td>0</td>\n",
       "    </tr>\n",
       "  </tbody>\n",
       "</table>\n",
       "<p>2 rows × 40 columns</p>\n",
       "</div>"
      ],
      "text/plain": [
       "   menopaus_0  menopaus_1  agegrp_2  agegrp_3  agegrp_4  agegrp_5  agegrp_6  \\\n",
       "0           1           0         0         0         0         0         0   \n",
       "2           1           0         0         0         0         0         0   \n",
       "\n",
       "   agegrp_7  agegrp_8  agegrp_9  ...  nrelbc_1  nrelbc_2  brstproc_0  \\\n",
       "0         0         0         0  ...         0         0           1   \n",
       "2         0         0         0  ...         0         0           1   \n",
       "\n",
       "   brstproc_1  lastmamm_0  lastmamm_1  surgmeno_0  surgmeno_1  hrt_0  hrt_1  \n",
       "0           0           1           0           0           0      0      0  \n",
       "2           0           0           0           0           0      0      0  \n",
       "\n",
       "[2 rows x 40 columns]"
      ]
     },
     "execution_count": 35,
     "metadata": {},
     "output_type": "execute_result"
    }
   ],
   "source": [
    "X_train.head(2)"
   ]
  },
  {
   "cell_type": "code",
   "execution_count": 36,
   "metadata": {},
   "outputs": [
    {
     "data": {
      "text/plain": [
       "(113829, 40)"
      ]
     },
     "execution_count": 36,
     "metadata": {},
     "output_type": "execute_result"
    }
   ],
   "source": [
    "X_train.shape"
   ]
  },
  {
   "cell_type": "code",
   "execution_count": 37,
   "metadata": {},
   "outputs": [
    {
     "data": {
      "text/plain": [
       "(59501, 40)"
      ]
     },
     "execution_count": 37,
     "metadata": {},
     "output_type": "execute_result"
    }
   ],
   "source": [
    "X_test.shape"
   ]
  },
  {
   "cell_type": "code",
   "execution_count": 38,
   "metadata": {},
   "outputs": [],
   "source": [
    "#rfecol = ['agegrp_3', 'agegrp_4', 'agegrp_5', 'agegrp_6', 'agegrp_7', 'agegrp_8','agegrp_9', 'agegrp_10', 'density_1', \n",
    "#          'density_2', 'race_2', 'race_4', 'nrelbc_1', 'nrelbc_2', 'lastmamm_0']\n",
    "rfecol = ['menopaus_0', 'agegrp_2', 'agegrp_3', 'agegrp_4', 'agegrp_5',\n",
    "       'agegrp_6', 'agegrp_7', 'agegrp_8', 'agegrp_9', 'agegrp_10',\n",
    "       'density_1', 'density_4', 'race_2', 'race_3', 'race_4', 'race_5',\n",
    "       'hispanic_0', 'hispanic_1', 'bmi_3', 'bmi_4', 'agefirst_1',\n",
    "       'agefirst_2', 'nrelbc_0', 'nrelbc_2', 'lastmamm_1']\n",
    "\n",
    "X_train=X_train[rfecol]\n",
    "X_test=X_test[rfecol]"
   ]
  },
  {
   "cell_type": "code",
   "execution_count": 39,
   "metadata": {},
   "outputs": [],
   "source": [
    "from imblearn.over_sampling import ADASYN\n",
    "\n",
    "over = ADASYN(random_state=42, n_jobs=-1)\n",
    "X_rs, y_rs = over.fit_resample(X_train, y_train)"
   ]
  },
  {
   "cell_type": "code",
   "execution_count": 40,
   "metadata": {},
   "outputs": [
    {
     "data": {
      "text/plain": [
       "Counter({0: 109536, 1: 109330})"
      ]
     },
     "execution_count": 40,
     "metadata": {},
     "output_type": "execute_result"
    }
   ],
   "source": [
    "from collections import Counter\n",
    "\n",
    "Counter(y_rs)"
   ]
  },
  {
   "cell_type": "markdown",
   "metadata": {},
   "source": [
    "import pickle\n",
    "file = open(\"data_adasyn_75_agegrp_dummy\",\"wb\")\n",
    "pickle.dump(X_rs,file)\n",
    "pickle.dump(y_rs,file)\n",
    "pickle.dump(X_test,file)\n",
    "pickle.dump(y_test,file)\n",
    "file.close()"
   ]
  },
  {
   "cell_type": "code",
   "execution_count": 41,
   "metadata": {},
   "outputs": [],
   "source": [
    "import pickle\n",
    "file = open(\"data_adasyn_risk2\",\"wb\")\n",
    "pickle.dump(X_rs,file)\n",
    "pickle.dump(y_rs,file)\n",
    "pickle.dump(X_test,file)\n",
    "pickle.dump(y_test,file)\n",
    "file.close()"
   ]
  },
  {
   "cell_type": "code",
   "execution_count": 42,
   "metadata": {},
   "outputs": [],
   "source": [
    "from sklearn import metrics\n",
    "from sklearn.metrics import roc_auc_score, roc_curve, confusion_matrix, accuracy_score\n",
    "\n",
    "def model_stats(X, y, y_pred, model):\n",
    "\n",
    "    cm = confusion_matrix(y, y_pred)\n",
    "    print(\"Confusion Matrix ->\")\n",
    "    print(cm)\n",
    "\n",
    "    TP = cm[1,1] # true positive \n",
    "    TN = cm[0,0] # true negatives\n",
    "    FP = cm[0,1] # false positives\n",
    "    FN = cm[1,0] # false negatives\n",
    "    \n",
    "    print(\"Accuracy:\",accuracy_score(y, y_pred))\n",
    "\n",
    "    sensi = TP / float(TP+FN)\n",
    "    speci = TN / float(TN+FP)\n",
    "    # Let's see the sensitivity of our model\n",
    "    print(\"Sensitivity:\", sensi)\n",
    "\n",
    "    # Let us calculate specificity\n",
    "    print(\"Specificity:\", speci)\n",
    "\n",
    "    print(\"Average:\", (sensi+speci)/2)\n",
    "\n",
    "    # Let us calculate precision\n",
    "    print(\"Precision\",TP / float(TP+FP))\n",
    "    print(\"MCC \", metrics.matthews_corrcoef(y, y_pred))\n",
    "    print(\"F1 \", metrics.fbeta_score(y, y_pred, beta = 1))\n",
    "    print(\"F2 \", metrics.fbeta_score(y, y_pred, beta = 2))\n",
    "    print(\"F3 \", metrics.fbeta_score(y, y_pred, beta = 3))\n",
    "    \n",
    "    # Predicting probability for roc_auc\n",
    "    pred_probs = model.predict_proba(X)[:,1]\n",
    "    print(\"ROC-AUC : {:2.2}\".format(roc_auc_score(y, pred_probs)))\n",
    "\n",
    "    # Plotting ROC curve\n",
    "    fpr, tpr, thresholds = roc_curve(y, pred_probs, drop_intermediate = False )\n",
    "    auc_score = roc_auc_score(y, pred_probs)\n",
    "    plt.figure(figsize=(6, 6))\n",
    "    plt.plot( fpr, tpr, label='ROC curve (area = %0.2f)' % auc_score )\n",
    "    plt.plot([0, 1], [0, 1], 'k--')\n",
    "    plt.xlim([0.0, 1.0])\n",
    "    plt.ylim([0.0, 1.05])\n",
    "    plt.xlabel('False Positive Rate or [1 - True Negative Rate]')\n",
    "    plt.ylabel('True Positive Rate')\n",
    "    plt.title('Receiver operating characteristic example')\n",
    "    plt.legend(loc=\"lower right\")\n",
    "    plt.show()"
   ]
  },
  {
   "cell_type": "markdown",
   "metadata": {
    "collapsed": true
   },
   "source": [
    "### 2: Model Building"
   ]
  },
  {
   "cell_type": "code",
   "execution_count": 43,
   "metadata": {},
   "outputs": [],
   "source": [
    "# Importing LogisticRegression and metrics from sklearn library\n",
    "import statsmodels.api as sm\n",
    "from sklearn.linear_model import LogisticRegression\n",
    "from sklearn import metrics\n",
    "from sklearn.feature_selection import RFE\n",
    "from sklearn.model_selection import GridSearchCV,StratifiedKFold\n",
    "from sklearn.preprocessing import LabelEncoder"
   ]
  },
  {
   "cell_type": "code",
   "execution_count": 44,
   "metadata": {},
   "outputs": [],
   "source": [
    "### Building model using regularization and cross validation\n",
    "\n",
    "# Create a cross validation scheme\n",
    "folds = StratifiedKFold(n_splits = 5, shuffle = True, random_state = 100)"
   ]
  },
  {
   "cell_type": "code",
   "execution_count": 45,
   "metadata": {},
   "outputs": [
    {
     "name": "stdout",
     "output_type": "stream",
     "text": [
      "Fitting 5 folds for each of 5 candidates, totalling 25 fits\n"
     ]
    },
    {
     "name": "stderr",
     "output_type": "stream",
     "text": [
      "[Parallel(n_jobs=-1)]: Using backend LokyBackend with 4 concurrent workers.\n",
      "[Parallel(n_jobs=-1)]: Done  25 out of  25 | elapsed:   44.3s finished\n"
     ]
    },
    {
     "data": {
      "text/plain": [
       "GridSearchCV(cv=StratifiedKFold(n_splits=5, random_state=100, shuffle=True),\n",
       "             estimator=LogisticRegression(), n_jobs=-1,\n",
       "             param_grid={'C': [10, 1, 0.5, 0.1, 0.01]}, return_train_score=True,\n",
       "             scoring='balanced_accuracy', verbose=1)"
      ]
     },
     "execution_count": 45,
     "metadata": {},
     "output_type": "execute_result"
    }
   ],
   "source": [
    "### Building model using regularization and cross validation\n",
    "\n",
    "# Specify range of hyper-parameters to tune\n",
    "hyper_params = {'C': [10, 1, 0.5, 0.1, 0.01]}\n",
    "\n",
    "# Specify model for logistic regression with option to treat class imbalance and perform grid search\n",
    "logreg = LogisticRegression()\n",
    "\n",
    "# GridSearchCV\n",
    "model_cv = GridSearchCV(estimator = logreg,\n",
    "                       param_grid = hyper_params,\n",
    "                       scoring = \"balanced_accuracy\",\n",
    "                       cv = folds,\n",
    "                       verbose = 1,\n",
    "                       return_train_score = True,\n",
    "                       n_jobs=-1)\n",
    "\n",
    "# Fit the model\n",
    "model_cv.fit(X_rs,y_rs)"
   ]
  },
  {
   "cell_type": "code",
   "execution_count": 46,
   "metadata": {},
   "outputs": [
    {
     "name": "stdout",
     "output_type": "stream",
     "text": [
      "best balanced accuracy 0.6347666107274135\n",
      "\n",
      "\n",
      "LogisticRegression(C=0.1)\n"
     ]
    }
   ],
   "source": [
    "# printing the optimal accuracy score and hyperparameters\n",
    "print(\"best balanced accuracy\", model_cv.best_score_)\n",
    "print(\"\\n\")\n",
    "print(model_cv.best_estimator_)"
   ]
  },
  {
   "cell_type": "code",
   "execution_count": 47,
   "metadata": {},
   "outputs": [
    {
     "data": {
      "text/plain": [
       "LogisticRegression(C=0.01)"
      ]
     },
     "execution_count": 47,
     "metadata": {},
     "output_type": "execute_result"
    }
   ],
   "source": [
    "# It looks that C=0.1 and penalty='l1' are the best value\n",
    "\n",
    "# Running Logistic Regression on Optimal hyperparameter value\n",
    "logreg = LogisticRegression(C=0.01)\n",
    "\n",
    "logreg.fit(X_rs,y_rs)"
   ]
  },
  {
   "cell_type": "markdown",
   "metadata": {},
   "source": [
    "# Coefficients\n",
    "logreg.coef_"
   ]
  },
  {
   "cell_type": "code",
   "execution_count": 48,
   "metadata": {},
   "outputs": [
    {
     "data": {
      "text/html": [
       "<div>\n",
       "<style scoped>\n",
       "    .dataframe tbody tr th:only-of-type {\n",
       "        vertical-align: middle;\n",
       "    }\n",
       "\n",
       "    .dataframe tbody tr th {\n",
       "        vertical-align: top;\n",
       "    }\n",
       "\n",
       "    .dataframe thead th {\n",
       "        text-align: right;\n",
       "    }\n",
       "</style>\n",
       "<table border=\"1\" class=\"dataframe\">\n",
       "  <thead>\n",
       "    <tr style=\"text-align: right;\">\n",
       "      <th></th>\n",
       "      <th>coeff</th>\n",
       "    </tr>\n",
       "  </thead>\n",
       "  <tbody>\n",
       "    <tr>\n",
       "      <th>agegrp_8</th>\n",
       "      <td>0.984900</td>\n",
       "    </tr>\n",
       "    <tr>\n",
       "      <th>agegrp_7</th>\n",
       "      <td>0.926746</td>\n",
       "    </tr>\n",
       "    <tr>\n",
       "      <th>agegrp_9</th>\n",
       "      <td>0.892612</td>\n",
       "    </tr>\n",
       "    <tr>\n",
       "      <th>hispanic_0</th>\n",
       "      <td>0.855065</td>\n",
       "    </tr>\n",
       "    <tr>\n",
       "      <th>agegrp_6</th>\n",
       "      <td>0.851258</td>\n",
       "    </tr>\n",
       "    <tr>\n",
       "      <th>agegrp_5</th>\n",
       "      <td>0.751971</td>\n",
       "    </tr>\n",
       "    <tr>\n",
       "      <th>agegrp_10</th>\n",
       "      <td>0.547645</td>\n",
       "    </tr>\n",
       "    <tr>\n",
       "      <th>agegrp_4</th>\n",
       "      <td>0.503159</td>\n",
       "    </tr>\n",
       "    <tr>\n",
       "      <th>menopaus_0</th>\n",
       "      <td>0.425444</td>\n",
       "    </tr>\n",
       "    <tr>\n",
       "      <th>nrelbc_0</th>\n",
       "      <td>0.340336</td>\n",
       "    </tr>\n",
       "    <tr>\n",
       "      <th>agegrp_2</th>\n",
       "      <td>0.225873</td>\n",
       "    </tr>\n",
       "    <tr>\n",
       "      <th>agegrp_3</th>\n",
       "      <td>0.138874</td>\n",
       "    </tr>\n",
       "    <tr>\n",
       "      <th>nrelbc_2</th>\n",
       "      <td>0.057171</td>\n",
       "    </tr>\n",
       "    <tr>\n",
       "      <th>density_4</th>\n",
       "      <td>0.054519</td>\n",
       "    </tr>\n",
       "    <tr>\n",
       "      <th>lastmamm_1</th>\n",
       "      <td>0.050353</td>\n",
       "    </tr>\n",
       "    <tr>\n",
       "      <th>agefirst_1</th>\n",
       "      <td>0.045477</td>\n",
       "    </tr>\n",
       "    <tr>\n",
       "      <th>bmi_4</th>\n",
       "      <td>0.044424</td>\n",
       "    </tr>\n",
       "    <tr>\n",
       "      <th>race_3</th>\n",
       "      <td>0.044115</td>\n",
       "    </tr>\n",
       "    <tr>\n",
       "      <th>bmi_3</th>\n",
       "      <td>0.042496</td>\n",
       "    </tr>\n",
       "    <tr>\n",
       "      <th>race_4</th>\n",
       "      <td>0.041972</td>\n",
       "    </tr>\n",
       "    <tr>\n",
       "      <th>agefirst_2</th>\n",
       "      <td>0.041905</td>\n",
       "    </tr>\n",
       "    <tr>\n",
       "      <th>race_5</th>\n",
       "      <td>0.041308</td>\n",
       "    </tr>\n",
       "    <tr>\n",
       "      <th>race_2</th>\n",
       "      <td>0.038023</td>\n",
       "    </tr>\n",
       "    <tr>\n",
       "      <th>hispanic_1</th>\n",
       "      <td>0.036683</td>\n",
       "    </tr>\n",
       "    <tr>\n",
       "      <th>density_1</th>\n",
       "      <td>0.024635</td>\n",
       "    </tr>\n",
       "  </tbody>\n",
       "</table>\n",
       "</div>"
      ],
      "text/plain": [
       "               coeff\n",
       "agegrp_8    0.984900\n",
       "agegrp_7    0.926746\n",
       "agegrp_9    0.892612\n",
       "hispanic_0  0.855065\n",
       "agegrp_6    0.851258\n",
       "agegrp_5    0.751971\n",
       "agegrp_10   0.547645\n",
       "agegrp_4    0.503159\n",
       "menopaus_0  0.425444\n",
       "nrelbc_0    0.340336\n",
       "agegrp_2    0.225873\n",
       "agegrp_3    0.138874\n",
       "nrelbc_2    0.057171\n",
       "density_4   0.054519\n",
       "lastmamm_1  0.050353\n",
       "agefirst_1  0.045477\n",
       "bmi_4       0.044424\n",
       "race_3      0.044115\n",
       "bmi_3       0.042496\n",
       "race_4      0.041972\n",
       "agefirst_2  0.041905\n",
       "race_5      0.041308\n",
       "race_2      0.038023\n",
       "hispanic_1  0.036683\n",
       "density_1   0.024635"
      ]
     },
     "execution_count": 48,
     "metadata": {},
     "output_type": "execute_result"
    }
   ],
   "source": [
    "# List of cols with their coefficients\n",
    "val=logreg.coef_.reshape(-1)\n",
    "coef = (pd.DataFrame(val, index = X_train.columns, columns = ['coeff'] ))\n",
    "coef = coef.sort_values(by = 'coeff', ascending=False)\n",
    "coef"
   ]
  },
  {
   "cell_type": "markdown",
   "metadata": {},
   "source": [
    "# Select Cols which have non-zero coefficients\n",
    "df=pd.DataFrame({'cols':X_train.columns,'coeff':val})\n",
    "df = df[df.coeff!=0]\n",
    "col=list(df.cols)\n",
    "col"
   ]
  },
  {
   "cell_type": "code",
   "execution_count": 49,
   "metadata": {},
   "outputs": [],
   "source": [
    "y_pred_train=logreg.predict(X_rs)\n",
    "#y_pred_train=(logreg.predict_proba(X_rs)[:,1] > 0.38).astype(bool)"
   ]
  },
  {
   "cell_type": "code",
   "execution_count": 50,
   "metadata": {},
   "outputs": [
    {
     "name": "stdout",
     "output_type": "stream",
     "text": [
      "Confusion Matrix ->\n",
      "[[67051 42485]\n",
      " [37466 71864]]\n",
      "Accuracy: 0.6347034258404686\n",
      "Sensitivity: 0.6573127229488704\n",
      "Specificity: 0.6121366491381829\n",
      "Average: 0.6347246860435267\n",
      "Precision 0.6284619891734952\n",
      "MCC  0.2697215429598515\n",
      "F1  0.6425636738361671\n",
      "F2  0.6513325925509682\n",
      "F3  0.654308994017221\n",
      "ROC-AUC : 0.67\n"
     ]
    },
    {
     "data": {
      "image/png": "[encoded data removed]",
      "text/plain": [
       "<Figure size 432x432 with 1 Axes>"
      ]
     },
     "metadata": {
      "needs_background": "light"
     },
     "output_type": "display_data"
    }
   ],
   "source": [
    "model_stats(X_rs, y_rs, y_pred_train, logreg)"
   ]
  },
  {
   "cell_type": "code",
   "execution_count": 51,
   "metadata": {},
   "outputs": [
    {
     "name": "stdout",
     "output_type": "stream",
     "text": [
      "Confusion Matrix ->\n",
      "[[33712 24218]\n",
      " [  595   976]]\n",
      "Accuracy: 0.5829817986252331\n",
      "Sensitivity: 0.6212603437301082\n",
      "Specificity: 0.5819437251855688\n",
      "Average: 0.6016020344578386\n",
      "Precision 0.038739382392633165\n",
      "MCC  0.06593747660929415\n",
      "F1  0.07293106669157481\n",
      "F2  0.155028909079357\n",
      "F3  0.24813769608217018\n",
      "ROC-AUC : 0.62\n"
     ]
    },
    {
     "data": {
      "image/png": "[encoded data removed]",
      "text/plain": [
       "<Figure size 432x432 with 1 Axes>"
      ]
     },
     "metadata": {
      "needs_background": "light"
     },
     "output_type": "display_data"
    }
   ],
   "source": [
    "# Running Logistic Regression with class_weight parameter to handle class imbalance\n",
    "y_pred_test=logreg.predict(X_test)\n",
    "#y_pred_test=(logreg.predict_proba(X_test)[:,1] > 0.38).astype(bool)\n",
    "\n",
    "model_stats(X_test, y_test, y_pred_test, logreg)"
   ]
  }
 ],
 "metadata": {
  "accelerator": "GPU",
  "colab": {
   "name": "resampling.ipynb",
   "provenance": [
    {
     "file_id": "1zIFWgNbKIALdy2dbkdMd6Gmnk-vRaoKB",
     "timestamp": 1600618214844
    }
   ]
  },
  "kernelspec": {
   "display_name": "Python 3",
   "language": "python",
   "name": "python3"
  },
  "language_info": {
   "codemirror_mode": {
    "name": "ipython",
    "version": 3
   },
   "file_extension": ".py",
   "mimetype": "text/x-python",
   "name": "python",
   "nbconvert_exporter": "python",
   "pygments_lexer": "ipython3",
   "version": "3.8.3"
  }
 },
 "nbformat": 4,
 "nbformat_minor": 1
}

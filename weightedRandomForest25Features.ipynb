{
 "cells": [
  {
   "cell_type": "code",
   "execution_count": 2,
   "metadata": {},
   "outputs": [],
   "source": [
    "# Suppressing Warnings\n",
    "import warnings\n",
    "warnings.filterwarnings('ignore')\n",
    "\n",
    "# libraries\n",
    "import numpy as np\n",
    "import pandas as pd\n",
    "\n",
    "# For Visualisation\n",
    "import matplotlib.pyplot as plt\n",
    "import seaborn as sns"
   ]
  },
  {
   "cell_type": "code",
   "execution_count": 3,
   "metadata": {},
   "outputs": [],
   "source": [
    "import pickle\n",
    "file = open(\"data_risk2_dummy\",\"rb\")\n",
    "X_train = pickle.load(file)\n",
    "y_train = pickle.load(file)\n",
    "X_test = pickle.load(file)\n",
    "y_test = pickle.load(file)\n",
    "file.close()"
   ]
  },
  {
   "cell_type": "code",
   "execution_count": 4,
   "metadata": {},
   "outputs": [
    {
     "data": {
      "text/html": [
       "<div>\n",
       "<style scoped>\n",
       "    .dataframe tbody tr th:only-of-type {\n",
       "        vertical-align: middle;\n",
       "    }\n",
       "\n",
       "    .dataframe tbody tr th {\n",
       "        vertical-align: top;\n",
       "    }\n",
       "\n",
       "    .dataframe thead th {\n",
       "        text-align: right;\n",
       "    }\n",
       "</style>\n",
       "<table border=\"1\" class=\"dataframe\">\n",
       "  <thead>\n",
       "    <tr style=\"text-align: right;\">\n",
       "      <th></th>\n",
       "      <th>menopaus_0</th>\n",
       "      <th>menopaus_1</th>\n",
       "      <th>agegrp_2</th>\n",
       "      <th>agegrp_3</th>\n",
       "      <th>agegrp_4</th>\n",
       "      <th>agegrp_5</th>\n",
       "      <th>agegrp_6</th>\n",
       "      <th>agegrp_7</th>\n",
       "      <th>agegrp_8</th>\n",
       "      <th>agegrp_9</th>\n",
       "      <th>...</th>\n",
       "      <th>nrelbc_1</th>\n",
       "      <th>nrelbc_2</th>\n",
       "      <th>brstproc_0</th>\n",
       "      <th>brstproc_1</th>\n",
       "      <th>lastmamm_0</th>\n",
       "      <th>lastmamm_1</th>\n",
       "      <th>surgmeno_0</th>\n",
       "      <th>surgmeno_1</th>\n",
       "      <th>hrt_0</th>\n",
       "      <th>hrt_1</th>\n",
       "    </tr>\n",
       "  </thead>\n",
       "  <tbody>\n",
       "    <tr>\n",
       "      <th>0</th>\n",
       "      <td>1</td>\n",
       "      <td>0</td>\n",
       "      <td>0</td>\n",
       "      <td>0</td>\n",
       "      <td>0</td>\n",
       "      <td>0</td>\n",
       "      <td>0</td>\n",
       "      <td>0</td>\n",
       "      <td>0</td>\n",
       "      <td>0</td>\n",
       "      <td>...</td>\n",
       "      <td>0</td>\n",
       "      <td>0</td>\n",
       "      <td>1</td>\n",
       "      <td>0</td>\n",
       "      <td>1</td>\n",
       "      <td>0</td>\n",
       "      <td>0</td>\n",
       "      <td>0</td>\n",
       "      <td>0</td>\n",
       "      <td>0</td>\n",
       "    </tr>\n",
       "    <tr>\n",
       "      <th>2</th>\n",
       "      <td>1</td>\n",
       "      <td>0</td>\n",
       "      <td>0</td>\n",
       "      <td>0</td>\n",
       "      <td>0</td>\n",
       "      <td>0</td>\n",
       "      <td>0</td>\n",
       "      <td>0</td>\n",
       "      <td>0</td>\n",
       "      <td>0</td>\n",
       "      <td>...</td>\n",
       "      <td>0</td>\n",
       "      <td>0</td>\n",
       "      <td>1</td>\n",
       "      <td>0</td>\n",
       "      <td>0</td>\n",
       "      <td>0</td>\n",
       "      <td>0</td>\n",
       "      <td>0</td>\n",
       "      <td>0</td>\n",
       "      <td>0</td>\n",
       "    </tr>\n",
       "  </tbody>\n",
       "</table>\n",
       "<p>2 rows × 40 columns</p>\n",
       "</div>"
      ],
      "text/plain": [
       "   menopaus_0  menopaus_1  agegrp_2  agegrp_3  agegrp_4  agegrp_5  agegrp_6  \\\n",
       "0           1           0         0         0         0         0         0   \n",
       "2           1           0         0         0         0         0         0   \n",
       "\n",
       "   agegrp_7  agegrp_8  agegrp_9  ...  nrelbc_1  nrelbc_2  brstproc_0  \\\n",
       "0         0         0         0  ...         0         0           1   \n",
       "2         0         0         0  ...         0         0           1   \n",
       "\n",
       "   brstproc_1  lastmamm_0  lastmamm_1  surgmeno_0  surgmeno_1  hrt_0  hrt_1  \n",
       "0           0           1           0           0           0      0      0  \n",
       "2           0           0           0           0           0      0      0  \n",
       "\n",
       "[2 rows x 40 columns]"
      ]
     },
     "execution_count": 4,
     "metadata": {},
     "output_type": "execute_result"
    }
   ],
   "source": [
    "X_train.head(2)"
   ]
  },
  {
   "cell_type": "code",
   "execution_count": 5,
   "metadata": {},
   "outputs": [
    {
     "data": {
      "text/html": [
       "<div>\n",
       "<style scoped>\n",
       "    .dataframe tbody tr th:only-of-type {\n",
       "        vertical-align: middle;\n",
       "    }\n",
       "\n",
       "    .dataframe tbody tr th {\n",
       "        vertical-align: top;\n",
       "    }\n",
       "\n",
       "    .dataframe thead th {\n",
       "        text-align: right;\n",
       "    }\n",
       "</style>\n",
       "<table border=\"1\" class=\"dataframe\">\n",
       "  <thead>\n",
       "    <tr style=\"text-align: right;\">\n",
       "      <th></th>\n",
       "      <th>menopaus_0</th>\n",
       "      <th>menopaus_1</th>\n",
       "      <th>agegrp_2</th>\n",
       "      <th>agegrp_3</th>\n",
       "      <th>agegrp_4</th>\n",
       "      <th>agegrp_5</th>\n",
       "      <th>agegrp_6</th>\n",
       "      <th>agegrp_7</th>\n",
       "      <th>agegrp_8</th>\n",
       "      <th>agegrp_9</th>\n",
       "      <th>...</th>\n",
       "      <th>nrelbc_1</th>\n",
       "      <th>nrelbc_2</th>\n",
       "      <th>brstproc_0</th>\n",
       "      <th>brstproc_1</th>\n",
       "      <th>lastmamm_0</th>\n",
       "      <th>lastmamm_1</th>\n",
       "      <th>surgmeno_0</th>\n",
       "      <th>surgmeno_1</th>\n",
       "      <th>hrt_0</th>\n",
       "      <th>hrt_1</th>\n",
       "    </tr>\n",
       "  </thead>\n",
       "  <tbody>\n",
       "    <tr>\n",
       "      <th>1</th>\n",
       "      <td>1</td>\n",
       "      <td>0</td>\n",
       "      <td>0</td>\n",
       "      <td>0</td>\n",
       "      <td>0</td>\n",
       "      <td>0</td>\n",
       "      <td>0</td>\n",
       "      <td>0</td>\n",
       "      <td>0</td>\n",
       "      <td>0</td>\n",
       "      <td>...</td>\n",
       "      <td>0</td>\n",
       "      <td>0</td>\n",
       "      <td>1</td>\n",
       "      <td>0</td>\n",
       "      <td>0</td>\n",
       "      <td>0</td>\n",
       "      <td>0</td>\n",
       "      <td>0</td>\n",
       "      <td>0</td>\n",
       "      <td>0</td>\n",
       "    </tr>\n",
       "    <tr>\n",
       "      <th>9</th>\n",
       "      <td>1</td>\n",
       "      <td>0</td>\n",
       "      <td>0</td>\n",
       "      <td>0</td>\n",
       "      <td>0</td>\n",
       "      <td>0</td>\n",
       "      <td>0</td>\n",
       "      <td>0</td>\n",
       "      <td>0</td>\n",
       "      <td>0</td>\n",
       "      <td>...</td>\n",
       "      <td>0</td>\n",
       "      <td>0</td>\n",
       "      <td>1</td>\n",
       "      <td>0</td>\n",
       "      <td>1</td>\n",
       "      <td>0</td>\n",
       "      <td>0</td>\n",
       "      <td>0</td>\n",
       "      <td>0</td>\n",
       "      <td>0</td>\n",
       "    </tr>\n",
       "  </tbody>\n",
       "</table>\n",
       "<p>2 rows × 40 columns</p>\n",
       "</div>"
      ],
      "text/plain": [
       "   menopaus_0  menopaus_1  agegrp_2  agegrp_3  agegrp_4  agegrp_5  agegrp_6  \\\n",
       "1           1           0         0         0         0         0         0   \n",
       "9           1           0         0         0         0         0         0   \n",
       "\n",
       "   agegrp_7  agegrp_8  agegrp_9  ...  nrelbc_1  nrelbc_2  brstproc_0  \\\n",
       "1         0         0         0  ...         0         0           1   \n",
       "9         0         0         0  ...         0         0           1   \n",
       "\n",
       "   brstproc_1  lastmamm_0  lastmamm_1  surgmeno_0  surgmeno_1  hrt_0  hrt_1  \n",
       "1           0           0           0           0           0      0      0  \n",
       "9           0           1           0           0           0      0      0  \n",
       "\n",
       "[2 rows x 40 columns]"
      ]
     },
     "execution_count": 5,
     "metadata": {},
     "output_type": "execute_result"
    }
   ],
   "source": [
    "X_test.head(2)"
   ]
  },
  {
   "cell_type": "code",
   "execution_count": 6,
   "metadata": {},
   "outputs": [],
   "source": [
    "#rfecol = ['agegrp_3', 'agegrp_4', 'agegrp_5', 'agegrp_6', 'agegrp_7', 'agegrp_8','agegrp_9', 'agegrp_10', 'density_1', \n",
    "#          'density_2', 'race_2', 'race_4', 'nrelbc_1', 'nrelbc_2', 'lastmamm_0']\n",
    "rfecol = ['menopaus_0', 'agegrp_2', 'agegrp_3', 'agegrp_4', 'agegrp_5',\n",
    "       'agegrp_6', 'agegrp_7', 'agegrp_8', 'agegrp_9', 'agegrp_10',\n",
    "       'density_1', 'density_4', 'race_2', 'race_3', 'race_4', 'race_5',\n",
    "       'hispanic_0', 'hispanic_1', 'bmi_3', 'bmi_4', 'agefirst_1',\n",
    "       'agefirst_2', 'nrelbc_0', 'nrelbc_2', 'lastmamm_1']"
   ]
  },
  {
   "cell_type": "code",
   "execution_count": 7,
   "metadata": {},
   "outputs": [],
   "source": [
    "X_train=X_train[rfecol]\n",
    "X_test=X_test[rfecol]"
   ]
  },
  {
   "cell_type": "markdown",
   "metadata": {
    "colab_type": "text",
    "id": "1DESHL5HLRuh"
   },
   "source": [
    "# Model Building on Cancer Data"
   ]
  },
  {
   "cell_type": "markdown",
   "metadata": {
    "colab_type": "text",
    "id": "As1z-UphLRxn"
   },
   "source": [
    "## <span style=\"color:blue\">Model 3 - Weighted Random Forest</span>"
   ]
  },
  {
   "cell_type": "code",
   "execution_count": 8,
   "metadata": {},
   "outputs": [],
   "source": [
    "from sklearn import metrics\n",
    "from sklearn.metrics import roc_auc_score, roc_curve, confusion_matrix, accuracy_score\n",
    "\n",
    "def model_stats(X, y, y_pred, model):\n",
    "\n",
    "    cm = confusion_matrix(y, y_pred)\n",
    "    print(\"Confusion Matrix ->\")\n",
    "    print(cm)\n",
    "\n",
    "    TP = cm[1,1] # true positive \n",
    "    TN = cm[0,0] # true negatives\n",
    "    FP = cm[0,1] # false positives\n",
    "    FN = cm[1,0] # false negatives\n",
    "    \n",
    "    print(\"Accuracy:\",accuracy_score(y, y_pred))\n",
    "\n",
    "    sensi = TP / float(TP+FN)\n",
    "    speci = TN / float(TN+FP)\n",
    "    \n",
    "    # Let's see the sensitivity of our model\n",
    "    print(\"Sensitivity:\", sensi)\n",
    "\n",
    "    # Let us calculate specificity\n",
    "    print(\"Specificity:\", speci)\n",
    "\n",
    "    print(\"Average:\", (sensi+speci)/2)\n",
    "    \n",
    "    # Let us calculate precision\n",
    "    print(\"Precision\",TP / float(TP+FP))\n",
    "    print(\"MCC \", metrics.matthews_corrcoef(y, y_pred))\n",
    "    print(\"F1 \", metrics.fbeta_score(y, y_pred, beta = 1))\n",
    "    print(\"F2 \", metrics.fbeta_score(y, y_pred, beta = 2))\n",
    "    print(\"F3 \", metrics.fbeta_score(y, y_pred, beta = 3))\n",
    "    \n",
    "    # Predicting probability for roc_auc\n",
    "    pred_probs = model.predict_proba(X)[:,1]\n",
    "    print(\"ROC-AUC : {:2.2}\".format(roc_auc_score(y, pred_probs)))\n",
    "\n",
    "    # Plotting ROC curve\n",
    "    fpr, tpr, thresholds = roc_curve(y, pred_probs, drop_intermediate = False )\n",
    "    auc_score = roc_auc_score(y, pred_probs)\n",
    "    plt.figure(figsize=(6, 6))\n",
    "    plt.plot( fpr, tpr, label='ROC curve (area = %0.2f)' % auc_score )\n",
    "    plt.plot([0, 1], [0, 1], 'k--')\n",
    "    plt.xlim([0.0, 1.0])\n",
    "    plt.ylim([0.0, 1.05])\n",
    "    plt.xlabel('False Positive Rate or [1 - True Negative Rate]')\n",
    "    plt.ylabel('True Positive Rate')\n",
    "    plt.title('Receiver operating characteristic example')\n",
    "    plt.legend(loc=\"lower right\")\n",
    "    plt.show()\n",
    "    "
   ]
  },
  {
   "cell_type": "markdown",
   "metadata": {
    "colab_type": "text",
    "id": "myP9j-vgLRxn"
   },
   "source": [
    "### Default Hyperparameters\n",
    "\n",
    "Let's first fit a random forest model with default hyperparameters."
   ]
  },
  {
   "cell_type": "code",
   "execution_count": 9,
   "metadata": {},
   "outputs": [],
   "source": [
    "# Importing random forest classifier from sklearn library\n",
    "from sklearn.ensemble import RandomForestClassifier"
   ]
  },
  {
   "cell_type": "code",
   "execution_count": 10,
   "metadata": {},
   "outputs": [
    {
     "data": {
      "text/plain": [
       "RandomForestClassifier(class_weight='balanced', random_state=100)"
      ]
     },
     "execution_count": 10,
     "metadata": {},
     "output_type": "execute_result"
    }
   ],
   "source": [
    "# Running the random forest with default parameters.\n",
    "rfc = RandomForestClassifier(random_state = 100, class_weight='balanced')\n",
    "\n",
    "# fit\n",
    "rfc.fit(X_train,y_train)"
   ]
  },
  {
   "cell_type": "markdown",
   "metadata": {},
   "source": [
    " Let's check the evaluation metrics of our default model"
   ]
  },
  {
   "cell_type": "code",
   "execution_count": 11,
   "metadata": {},
   "outputs": [],
   "source": [
    "# Making predictions\n",
    "y_pred_train = rfc.predict(X_train) # For train data\n",
    "y_pred_test = rfc.predict(X_test) # For test data"
   ]
  },
  {
   "cell_type": "code",
   "execution_count": 12,
   "metadata": {},
   "outputs": [
    {
     "name": "stdout",
     "output_type": "stream",
     "text": [
      "Confusion Matrix ->\n",
      "[[74009 35527]\n",
      " [ 1004  3289]]\n",
      "Accuracy: 0.6790712384366022\n",
      "Sensitivity: 0.7661309107849988\n",
      "Specificity: 0.6756591440257085\n",
      "Average: 0.7208950274053536\n",
      "Precision 0.08473309975267931\n",
      "MCC  0.17754202183137127\n",
      "F1  0.15258994641490176\n",
      "F2  0.2937236550689433\n",
      "F3  0.42464462319083834\n",
      "ROC-AUC : 0.8\n"
     ]
    },
    {
     "data": {
      "image/png": "[encoded data removed]",
      "text/plain": [
       "<Figure size 432x432 with 1 Axes>"
      ]
     },
     "metadata": {
      "needs_background": "light"
     },
     "output_type": "display_data"
    }
   ],
   "source": [
    "model_stats(X_train, y_train, y_pred_train, rfc)"
   ]
  },
  {
   "cell_type": "code",
   "execution_count": 13,
   "metadata": {},
   "outputs": [
    {
     "name": "stdout",
     "output_type": "stream",
     "text": [
      "Confusion Matrix ->\n",
      "[[35198 22732]\n",
      " [  477  1094]]\n",
      "Accuracy: 0.6099393287507773\n",
      "Sensitivity: 0.6963717377466582\n",
      "Specificity: 0.6075953737269117\n",
      "Average: 0.651983555736785\n",
      "Precision 0.04591622597162763\n",
      "MCC  0.09946239066380004\n",
      "F1  0.08615190770563451\n",
      "F2  0.18166722019262704\n",
      "F3  0.28816014750428026\n",
      "ROC-AUC : 0.71\n"
     ]
    },
    {
     "data": {
      "image/png": "[encoded data removed]",
      "text/plain": [
       "<Figure size 432x432 with 1 Axes>"
      ]
     },
     "metadata": {
      "needs_background": "light"
     },
     "output_type": "display_data"
    }
   ],
   "source": [
    "model_stats(X_test, y_test, y_pred_test, rfc)"
   ]
  },
  {
   "cell_type": "markdown",
   "metadata": {},
   "source": [
    "### Hyperparameter Tuning"
   ]
  },
  {
   "cell_type": "markdown",
   "metadata": {},
   "source": [
    "The following hyperparameters are present in a random forest classifier. Note that most of these hypereparameters are actually of the decision trees that are in the forest.\n",
    "\n",
    "\n",
    "- **n_estimators**: integer, optional (default=10): The number of trees in the forest.\n",
    "- **criterion**: string, optional (default=”gini”)The function to measure the quality of a split. Supported criteria are “gini” for the Gini impurity and “entropy” for the information gain. Note: this parameter is tree-specific.\n",
    "- **max_features** : int, float, string or None, optional (default=”auto”)The number of features to consider when looking for the best split:\n",
    "- **max_depth** : integer or None, optional (default=None)The maximum depth of the tree. If None, then nodes are expanded until all leaves are pure or until all leaves contain less than min_samples_split samples.\n",
    "- **min_samples_split** : int, float, optional (default=2)The minimum number of samples required to split an internal node:**\n",
    "- **min_samples_leaf** : int, float, optional (default=1)The minimum number of samples required to be at a leaf node:**\n",
    "- **max_leaf_nodes** : int or None, optional (default=None)Grow trees with max_leaf_nodes in best-first fashion. Best nodes are defined as relative reduction in impurity. If None then unlimited number of leaf nodes."
   ]
  },
  {
   "cell_type": "markdown",
   "metadata": {},
   "source": [
    "### Grid Search to Find Optimal Hyperparameters"
   ]
  },
  {
   "cell_type": "code",
   "execution_count": 14,
   "metadata": {},
   "outputs": [],
   "source": [
    "#We can now find the optimal hyperparameters using GridSearchCV.\n",
    "from sklearn.model_selection import GridSearchCV,StratifiedKFold"
   ]
  },
  {
   "cell_type": "code",
   "execution_count": 15,
   "metadata": {},
   "outputs": [],
   "source": [
    "# Create a cross validation scheme\n",
    "folds = StratifiedKFold(n_splits = 5, shuffle = True, random_state = 100)"
   ]
  },
  {
   "cell_type": "code",
   "execution_count": 16,
   "metadata": {},
   "outputs": [
    {
     "name": "stdout",
     "output_type": "stream",
     "text": [
      "Fitting 5 folds for each of 6 candidates, totalling 30 fits\n"
     ]
    },
    {
     "name": "stderr",
     "output_type": "stream",
     "text": [
      "[Parallel(n_jobs=-1)]: Using backend LokyBackend with 4 concurrent workers.\n",
      "[Parallel(n_jobs=-1)]: Done  30 out of  30 | elapsed:  2.3min finished\n"
     ]
    },
    {
     "data": {
      "text/plain": [
       "GridSearchCV(cv=StratifiedKFold(n_splits=5, random_state=100, shuffle=True),\n",
       "             estimator=RandomForestClassifier(class_weight='balanced',\n",
       "                                              random_state=100),\n",
       "             n_jobs=-1,\n",
       "             param_grid={'n_estimators': [50, 100, 150, 200, 250, 300]},\n",
       "             scoring='roc_auc', verbose=1)"
      ]
     },
     "execution_count": 16,
     "metadata": {},
     "output_type": "execute_result"
    }
   ],
   "source": [
    "# Create the parameter grid based on the results of random search \n",
    "param_grid = {\n",
    "    'n_estimators': [50,100,150,200,250,300]\n",
    "}\n",
    "\n",
    "# Create a based model\n",
    "rf = RandomForestClassifier(random_state = 100,class_weight='balanced')\n",
    "\n",
    "# Instantiate the grid search model\n",
    "grid_search = GridSearchCV(estimator = rf, param_grid = param_grid, scoring='roc_auc',\n",
    "                          cv = folds, n_jobs = -1,verbose = 1)\n",
    "\n",
    "# Fit the grid search to the data\n",
    "grid_search.fit(X_train, y_train)"
   ]
  },
  {
   "cell_type": "code",
   "execution_count": 17,
   "metadata": {},
   "outputs": [
    {
     "name": "stdout",
     "output_type": "stream",
     "text": [
      "best balanced_accuracy 0.731069771929301\n",
      "RandomForestClassifier(class_weight='balanced', n_estimators=150,\n",
      "                       random_state=100)\n"
     ]
    }
   ],
   "source": [
    "# printing the optimal accuracy score and hyperparameters\n",
    "print(\"best balanced_accuracy\", grid_search.best_score_)\n",
    "print(grid_search.best_estimator_)"
   ]
  },
  {
   "cell_type": "code",
   "execution_count": 18,
   "metadata": {},
   "outputs": [
    {
     "name": "stdout",
     "output_type": "stream",
     "text": [
      "Fitting 5 folds for each of 4 candidates, totalling 20 fits\n"
     ]
    },
    {
     "name": "stderr",
     "output_type": "stream",
     "text": [
      "[Parallel(n_jobs=-1)]: Using backend LokyBackend with 4 concurrent workers.\n",
      "[Parallel(n_jobs=-1)]: Done  20 out of  20 | elapsed:  1.2min finished\n"
     ]
    },
    {
     "name": "stdout",
     "output_type": "stream",
     "text": [
      "best balanced_accuracy 0.7310045639967526\n",
      "RandomForestClassifier(class_weight='balanced', n_estimators=160,\n",
      "                       random_state=100)\n"
     ]
    }
   ],
   "source": [
    "# Create the parameter grid based on the results of random search \n",
    "param_grid = {\n",
    "    'n_estimators': [120,140,160,180]\n",
    "}\n",
    "\n",
    "# Create a based model\n",
    "rf = RandomForestClassifier(random_state = 100,class_weight='balanced')\n",
    "\n",
    "# Instantiate the grid search model\n",
    "grid_search = GridSearchCV(estimator = rf, param_grid = param_grid, scoring='roc_auc',\n",
    "                          cv = folds, n_jobs = -1,verbose = 1)\n",
    "\n",
    "# Fit the grid search to the data\n",
    "grid_search.fit(X_train, y_train)\n",
    "\n",
    "# printing the optimal accuracy score and hyperparameters\n",
    "print(\"best balanced_accuracy\", grid_search.best_score_)\n",
    "print(grid_search.best_estimator_)"
   ]
  },
  {
   "cell_type": "code",
   "execution_count": 19,
   "metadata": {},
   "outputs": [
    {
     "name": "stdout",
     "output_type": "stream",
     "text": [
      "Fitting 5 folds for each of 2 candidates, totalling 10 fits\n"
     ]
    },
    {
     "name": "stderr",
     "output_type": "stream",
     "text": [
      "[Parallel(n_jobs=-1)]: Using backend LokyBackend with 4 concurrent workers.\n",
      "[Parallel(n_jobs=-1)]: Done  10 out of  10 | elapsed:   39.5s finished\n"
     ]
    },
    {
     "name": "stdout",
     "output_type": "stream",
     "text": [
      "best balanced_accuracy 0.731069771929301\n",
      "RandomForestClassifier(class_weight='balanced', n_estimators=150,\n",
      "                       random_state=100)\n"
     ]
    }
   ],
   "source": [
    "# Create the parameter grid based on the results of random search \n",
    "param_grid = {\n",
    "    'criterion' : ['gini','entropy']\n",
    "}\n",
    "\n",
    "# Create a based model\n",
    "rf = RandomForestClassifier(random_state = 100, n_estimators=150 ,class_weight='balanced')\n",
    "\n",
    "# Instantiate the grid search model\n",
    "grid_search = GridSearchCV(estimator = rf, param_grid = param_grid, cv = folds, scoring='roc_auc', \n",
    "                           n_jobs = -1,verbose = 1)\n",
    "\n",
    "# Fit the grid search to the data\n",
    "grid_search.fit(X_train, y_train)\n",
    "\n",
    "# printing the optimal accuracy score and hyperparameters\n",
    "print(\"best balanced_accuracy\", grid_search.best_score_)\n",
    "print(grid_search.best_estimator_)"
   ]
  },
  {
   "cell_type": "code",
   "execution_count": 20,
   "metadata": {},
   "outputs": [
    {
     "name": "stdout",
     "output_type": "stream",
     "text": [
      "Fitting 5 folds for each of 9 candidates, totalling 45 fits\n"
     ]
    },
    {
     "name": "stderr",
     "output_type": "stream",
     "text": [
      "[Parallel(n_jobs=-1)]: Using backend LokyBackend with 4 concurrent workers.\n",
      "[Parallel(n_jobs=-1)]: Done  45 out of  45 | elapsed:  1.4min finished\n"
     ]
    },
    {
     "name": "stdout",
     "output_type": "stream",
     "text": [
      "best accuracy 0.7248845579825867\n",
      "RandomForestClassifier(class_weight='balanced', max_depth=6,\n",
      "                       min_samples_leaf=100, min_samples_split=200,\n",
      "                       n_estimators=150, random_state=100)\n"
     ]
    }
   ],
   "source": [
    "# Create the parameter grid based on the results of random search \n",
    "param_grid = {\n",
    "    #'max_depth': [4,6,8],\n",
    "    'min_samples_leaf': range(100, 400, 100),\n",
    "    'min_samples_split': range(200, 500, 100)\n",
    "}\n",
    "\n",
    "# Create a model\n",
    "rf = RandomForestClassifier(random_state = 100, n_estimators=150 ,class_weight='balanced', max_depth=6)\n",
    "\n",
    "# Instantiate the grid search model\n",
    "grid_search = GridSearchCV(estimator = rf, param_grid = param_grid, cv = folds, scoring='roc_auc', \n",
    "                           n_jobs = -1,verbose = 1)\n",
    "\n",
    "\n",
    "\n",
    "# Fit the grid search to the data\n",
    "grid_search.fit(X_train, y_train)\n",
    "\n",
    "# printing the optimal accuracy score and hyperparameters\n",
    "print(\"best accuracy\", grid_search.best_score_)\n",
    "print(grid_search.best_estimator_)"
   ]
  },
  {
   "cell_type": "code",
   "execution_count": 21,
   "metadata": {},
   "outputs": [
    {
     "name": "stdout",
     "output_type": "stream",
     "text": [
      "Fitting 5 folds for each of 3 candidates, totalling 15 fits\n"
     ]
    },
    {
     "name": "stderr",
     "output_type": "stream",
     "text": [
      "[Parallel(n_jobs=-1)]: Using backend LokyBackend with 4 concurrent workers.\n",
      "[Parallel(n_jobs=-1)]: Done  15 out of  15 | elapsed:   30.3s finished\n"
     ]
    },
    {
     "name": "stdout",
     "output_type": "stream",
     "text": [
      "best accuracy 0.7305756216634606\n",
      "RandomForestClassifier(class_weight='balanced', max_depth=8,\n",
      "                       min_samples_leaf=100, min_samples_split=200,\n",
      "                       n_estimators=150, random_state=100)\n"
     ]
    }
   ],
   "source": [
    "# Create the parameter grid based on the results of random search \n",
    "param_grid = {\n",
    "    'max_depth': [4,6,8]\n",
    "}\n",
    "\n",
    "# Create a model\n",
    "rf = RandomForestClassifier(random_state = 100, n_estimators=150 ,class_weight='balanced', min_samples_leaf=100,\n",
    "                            min_samples_split=200)\n",
    "\n",
    "# Instantiate the grid search model\n",
    "grid_search = GridSearchCV(estimator = rf, param_grid = param_grid, cv = folds, scoring='roc_auc', \n",
    "                           n_jobs = -1,verbose = 1)\n",
    "\n",
    "\n",
    "\n",
    "# Fit the grid search to the data\n",
    "grid_search.fit(X_train, y_train)\n",
    "\n",
    "# printing the optimal accuracy score and hyperparameters\n",
    "print(\"best accuracy\", grid_search.best_score_)\n",
    "print(grid_search.best_estimator_)"
   ]
  },
  {
   "cell_type": "code",
   "execution_count": 22,
   "metadata": {},
   "outputs": [
    {
     "name": "stdout",
     "output_type": "stream",
     "text": [
      "Fitting 5 folds for each of 5 candidates, totalling 25 fits\n"
     ]
    },
    {
     "name": "stderr",
     "output_type": "stream",
     "text": [
      "[Parallel(n_jobs=-1)]: Using backend LokyBackend with 4 concurrent workers.\n",
      "[Parallel(n_jobs=-1)]: Done  25 out of  25 | elapsed:   37.5s finished\n"
     ]
    },
    {
     "name": "stdout",
     "output_type": "stream",
     "text": [
      "best accuracy 0.7308777118056146\n",
      "RandomForestClassifier(class_weight='balanced', max_depth=8, max_samples=0.8,\n",
      "                       min_samples_leaf=100, min_samples_split=200,\n",
      "                       n_estimators=150, random_state=100)\n"
     ]
    }
   ],
   "source": [
    "# Create the parameter grid based on the results of random search \n",
    "param_grid = {\n",
    "    'max_samples': [0.2,0.4,0.6,0.8,1]\n",
    "}\n",
    "\n",
    "# Create a model\n",
    "rf = RandomForestClassifier(random_state = 100, n_estimators=150 ,class_weight='balanced', min_samples_leaf = 100,\n",
    "                            min_samples_split=200, max_depth=8)\n",
    "\n",
    "# Instantiate the grid search model\n",
    "grid_search = GridSearchCV(estimator = rf, param_grid = param_grid, cv = folds, scoring='roc_auc', \n",
    "                           n_jobs = -1,verbose = 1)\n",
    "\n",
    "\n",
    "\n",
    "# Fit the grid search to the data\n",
    "grid_search.fit(X_train, y_train)\n",
    "\n",
    "# printing the optimal accuracy score and hyperparameters\n",
    "print(\"best accuracy\", grid_search.best_score_)\n",
    "print(grid_search.best_estimator_)"
   ]
  },
  {
   "cell_type": "markdown",
   "metadata": {},
   "source": [
    "### Fitting the final model with the best parameters obtained from grid search"
   ]
  },
  {
   "cell_type": "code",
   "execution_count": 35,
   "metadata": {},
   "outputs": [
    {
     "data": {
      "text/plain": [
       "RandomForestClassifier(class_weight='balanced', max_depth=8, max_samples=0.8,\n",
       "                       min_samples_leaf=100, min_samples_split=200,\n",
       "                       n_estimators=150, random_state=100)"
      ]
     },
     "execution_count": 35,
     "metadata": {},
     "output_type": "execute_result"
    }
   ],
   "source": [
    "# model with the best hyperparameters\n",
    "from sklearn.ensemble import RandomForestClassifier\n",
    "rf = RandomForestClassifier(random_state = 100, n_estimators=150 ,max_depth=8 ,min_samples_leaf=100,\n",
    "                            min_samples_split=200, max_samples=0.8, class_weight='balanced')\n",
    "\n",
    "\n",
    "# fit\n",
    "rf.fit(X_train,y_train)"
   ]
  },
  {
   "cell_type": "code",
   "execution_count": 36,
   "metadata": {},
   "outputs": [],
   "source": [
    "y_pred_train=rf.predict(X_train)\n",
    "y_pred_test=rf.predict(X_test)"
   ]
  },
  {
   "cell_type": "code",
   "execution_count": 37,
   "metadata": {},
   "outputs": [
    {
     "data": {
      "text/html": [
       "<div>\n",
       "<style scoped>\n",
       "    .dataframe tbody tr th:only-of-type {\n",
       "        vertical-align: middle;\n",
       "    }\n",
       "\n",
       "    .dataframe tbody tr th {\n",
       "        vertical-align: top;\n",
       "    }\n",
       "\n",
       "    .dataframe thead th {\n",
       "        text-align: right;\n",
       "    }\n",
       "</style>\n",
       "<table border=\"1\" class=\"dataframe\">\n",
       "  <thead>\n",
       "    <tr style=\"text-align: right;\">\n",
       "      <th></th>\n",
       "      <th>variables</th>\n",
       "      <th>importance_percentage</th>\n",
       "    </tr>\n",
       "  </thead>\n",
       "  <tbody>\n",
       "    <tr>\n",
       "      <th>0</th>\n",
       "      <td>hispanic_0</td>\n",
       "      <td>24.267373</td>\n",
       "    </tr>\n",
       "    <tr>\n",
       "      <th>1</th>\n",
       "      <td>density_1</td>\n",
       "      <td>18.020198</td>\n",
       "    </tr>\n",
       "    <tr>\n",
       "      <th>2</th>\n",
       "      <td>race_2</td>\n",
       "      <td>8.228773</td>\n",
       "    </tr>\n",
       "    <tr>\n",
       "      <th>3</th>\n",
       "      <td>hispanic_1</td>\n",
       "      <td>7.539702</td>\n",
       "    </tr>\n",
       "    <tr>\n",
       "      <th>4</th>\n",
       "      <td>race_4</td>\n",
       "      <td>5.569681</td>\n",
       "    </tr>\n",
       "    <tr>\n",
       "      <th>5</th>\n",
       "      <td>race_5</td>\n",
       "      <td>5.539714</td>\n",
       "    </tr>\n",
       "    <tr>\n",
       "      <th>6</th>\n",
       "      <td>nrelbc_0</td>\n",
       "      <td>3.937830</td>\n",
       "    </tr>\n",
       "    <tr>\n",
       "      <th>7</th>\n",
       "      <td>agefirst_2</td>\n",
       "      <td>3.742640</td>\n",
       "    </tr>\n",
       "    <tr>\n",
       "      <th>8</th>\n",
       "      <td>lastmamm_1</td>\n",
       "      <td>3.539288</td>\n",
       "    </tr>\n",
       "    <tr>\n",
       "      <th>9</th>\n",
       "      <td>agefirst_1</td>\n",
       "      <td>3.179537</td>\n",
       "    </tr>\n",
       "    <tr>\n",
       "      <th>10</th>\n",
       "      <td>bmi_4</td>\n",
       "      <td>3.150915</td>\n",
       "    </tr>\n",
       "    <tr>\n",
       "      <th>11</th>\n",
       "      <td>bmi_3</td>\n",
       "      <td>2.965080</td>\n",
       "    </tr>\n",
       "    <tr>\n",
       "      <th>12</th>\n",
       "      <td>race_3</td>\n",
       "      <td>1.634637</td>\n",
       "    </tr>\n",
       "    <tr>\n",
       "      <th>13</th>\n",
       "      <td>nrelbc_2</td>\n",
       "      <td>1.565741</td>\n",
       "    </tr>\n",
       "    <tr>\n",
       "      <th>14</th>\n",
       "      <td>menopaus_0</td>\n",
       "      <td>1.463520</td>\n",
       "    </tr>\n",
       "    <tr>\n",
       "      <th>15</th>\n",
       "      <td>agegrp_3</td>\n",
       "      <td>1.135275</td>\n",
       "    </tr>\n",
       "    <tr>\n",
       "      <th>16</th>\n",
       "      <td>agegrp_8</td>\n",
       "      <td>0.667716</td>\n",
       "    </tr>\n",
       "    <tr>\n",
       "      <th>17</th>\n",
       "      <td>agegrp_7</td>\n",
       "      <td>0.667195</td>\n",
       "    </tr>\n",
       "    <tr>\n",
       "      <th>18</th>\n",
       "      <td>agegrp_4</td>\n",
       "      <td>0.603863</td>\n",
       "    </tr>\n",
       "    <tr>\n",
       "      <th>19</th>\n",
       "      <td>density_4</td>\n",
       "      <td>0.579332</td>\n",
       "    </tr>\n",
       "    <tr>\n",
       "      <th>20</th>\n",
       "      <td>agegrp_2</td>\n",
       "      <td>0.511508</td>\n",
       "    </tr>\n",
       "    <tr>\n",
       "      <th>21</th>\n",
       "      <td>agegrp_6</td>\n",
       "      <td>0.453567</td>\n",
       "    </tr>\n",
       "    <tr>\n",
       "      <th>22</th>\n",
       "      <td>agegrp_9</td>\n",
       "      <td>0.431794</td>\n",
       "    </tr>\n",
       "    <tr>\n",
       "      <th>23</th>\n",
       "      <td>agegrp_5</td>\n",
       "      <td>0.378864</td>\n",
       "    </tr>\n",
       "    <tr>\n",
       "      <th>24</th>\n",
       "      <td>agegrp_10</td>\n",
       "      <td>0.226257</td>\n",
       "    </tr>\n",
       "  </tbody>\n",
       "</table>\n",
       "</div>"
      ],
      "text/plain": [
       "     variables  importance_percentage\n",
       "0   hispanic_0              24.267373\n",
       "1    density_1              18.020198\n",
       "2       race_2               8.228773\n",
       "3   hispanic_1               7.539702\n",
       "4       race_4               5.569681\n",
       "5       race_5               5.539714\n",
       "6     nrelbc_0               3.937830\n",
       "7   agefirst_2               3.742640\n",
       "8   lastmamm_1               3.539288\n",
       "9   agefirst_1               3.179537\n",
       "10       bmi_4               3.150915\n",
       "11       bmi_3               2.965080\n",
       "12      race_3               1.634637\n",
       "13    nrelbc_2               1.565741\n",
       "14  menopaus_0               1.463520\n",
       "15    agegrp_3               1.135275\n",
       "16    agegrp_8               0.667716\n",
       "17    agegrp_7               0.667195\n",
       "18    agegrp_4               0.603863\n",
       "19   density_4               0.579332\n",
       "20    agegrp_2               0.511508\n",
       "21    agegrp_6               0.453567\n",
       "22    agegrp_9               0.431794\n",
       "23    agegrp_5               0.378864\n",
       "24   agegrp_10               0.226257"
      ]
     },
     "execution_count": 37,
     "metadata": {},
     "output_type": "execute_result"
    }
   ],
   "source": [
    "# feature_importance\n",
    "importance = rf.feature_importances_\n",
    "\n",
    "features=X_train.columns\n",
    "# create dataframe\n",
    "feature_importance = pd.DataFrame({'variables': features, 'importance_percentage': importance*100})\n",
    "feature_importance = feature_importance.sort_values('importance_percentage', ascending=False).\\\n",
    "                     reset_index(drop=True)\n",
    "feature_importance"
   ]
  },
  {
   "cell_type": "code",
   "execution_count": 38,
   "metadata": {},
   "outputs": [],
   "source": [
    "#y_pred_train = (rf.predict_proba(X_train)[:,1]>=0.47).astype(bool)"
   ]
  },
  {
   "cell_type": "markdown",
   "metadata": {},
   "source": [
    "### Model evaluation on train and test data"
   ]
  },
  {
   "cell_type": "code",
   "execution_count": 39,
   "metadata": {},
   "outputs": [
    {
     "name": "stdout",
     "output_type": "stream",
     "text": [
      "Confusion Matrix ->\n",
      "[[73557 35979]\n",
      " [ 1450  2843]]\n",
      "Accuracy: 0.6711822119143628\n",
      "Sensitivity: 0.6622408572094106\n",
      "Specificity: 0.6715326468010517\n",
      "Average: 0.6668867520052312\n",
      "Precision 0.07323167276286642\n",
      "MCC  0.13412844527272497\n",
      "F1  0.1318798561985388\n",
      "F2  0.2538664856948959\n",
      "F3  0.367032881911721\n",
      "ROC-AUC : 0.74\n"
     ]
    },
    {
     "data": {
      "image/png": "[encoded data removed]",
      "text/plain": [
       "<Figure size 432x432 with 1 Axes>"
      ]
     },
     "metadata": {
      "needs_background": "light"
     },
     "output_type": "display_data"
    }
   ],
   "source": [
    "model_stats(X_train, y_train, y_pred_train, rf)"
   ]
  },
  {
   "cell_type": "code",
   "execution_count": 40,
   "metadata": {},
   "outputs": [],
   "source": [
    "#y_pred_test = (rf.predict_proba(X_test)[:,1]>=0.47).astype(bool)"
   ]
  },
  {
   "cell_type": "code",
   "execution_count": 41,
   "metadata": {},
   "outputs": [
    {
     "name": "stdout",
     "output_type": "stream",
     "text": [
      "Confusion Matrix ->\n",
      "[[35585 22345]\n",
      " [  512  1059]]\n",
      "Accuracy: 0.6158551957109965\n",
      "Sensitivity: 0.6740929344366645\n",
      "Specificity: 0.614275850163991\n",
      "Average: 0.6441843923003278\n",
      "Precision 0.04524867544009571\n",
      "MCC  0.09464714198743124\n",
      "F1  0.0848048048048048\n",
      "F2  0.17835489086499595\n",
      "F3  0.28207655222012096\n",
      "ROC-AUC : 0.7\n"
     ]
    },
    {
     "data": {
      "image/png": "[encoded data removed]",
      "text/plain": [
       "<Figure size 432x432 with 1 Axes>"
      ]
     },
     "metadata": {
      "needs_background": "light"
     },
     "output_type": "display_data"
    }
   ],
   "source": [
    "model_stats(X_test, y_test, y_pred_test, rf)"
   ]
  }
 ],
 "metadata": {
  "accelerator": "GPU",
  "colab": {
   "name": "resampling.ipynb",
   "provenance": [
    {
     "file_id": "1zIFWgNbKIALdy2dbkdMd6Gmnk-vRaoKB",
     "timestamp": 1600618214844
    }
   ]
  },
  "kernelspec": {
   "display_name": "Python 3",
   "language": "python",
   "name": "python3"
  },
  "language_info": {
   "codemirror_mode": {
    "name": "ipython",
    "version": 3
   },
   "file_extension": ".py",
   "mimetype": "text/x-python",
   "name": "python",
   "nbconvert_exporter": "python",
   "pygments_lexer": "ipython3",
   "version": "3.8.3"
  }
 },
 "nbformat": 4,
 "nbformat_minor": 1
}

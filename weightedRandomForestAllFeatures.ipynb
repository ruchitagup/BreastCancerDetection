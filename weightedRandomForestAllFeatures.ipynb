{
 "cells": [
  {
   "cell_type": "code",
   "execution_count": 1,
   "metadata": {},
   "outputs": [],
   "source": [
    "# Suppressing Warnings\n",
    "import warnings\n",
    "warnings.filterwarnings('ignore')\n",
    "\n",
    "# libraries\n",
    "import numpy as np\n",
    "import pandas as pd\n",
    "\n",
    "# For Visualisation\n",
    "import matplotlib.pyplot as plt\n",
    "import seaborn as sns"
   ]
  },
  {
   "cell_type": "code",
   "execution_count": 2,
   "metadata": {},
   "outputs": [],
   "source": [
    "import pickle\n",
    "file = open(\"data_risk2_dummy\",\"rb\")\n",
    "X_train = pickle.load(file)\n",
    "y_train = pickle.load(file)\n",
    "X_test = pickle.load(file)\n",
    "y_test = pickle.load(file)\n",
    "file.close()"
   ]
  },
  {
   "cell_type": "code",
   "execution_count": 3,
   "metadata": {},
   "outputs": [
    {
     "data": {
      "text/html": [
       "<div>\n",
       "<style scoped>\n",
       "    .dataframe tbody tr th:only-of-type {\n",
       "        vertical-align: middle;\n",
       "    }\n",
       "\n",
       "    .dataframe tbody tr th {\n",
       "        vertical-align: top;\n",
       "    }\n",
       "\n",
       "    .dataframe thead th {\n",
       "        text-align: right;\n",
       "    }\n",
       "</style>\n",
       "<table border=\"1\" class=\"dataframe\">\n",
       "  <thead>\n",
       "    <tr style=\"text-align: right;\">\n",
       "      <th></th>\n",
       "      <th>menopaus_0</th>\n",
       "      <th>menopaus_1</th>\n",
       "      <th>agegrp_2</th>\n",
       "      <th>agegrp_3</th>\n",
       "      <th>agegrp_4</th>\n",
       "      <th>agegrp_5</th>\n",
       "      <th>agegrp_6</th>\n",
       "      <th>agegrp_7</th>\n",
       "      <th>agegrp_8</th>\n",
       "      <th>agegrp_9</th>\n",
       "      <th>...</th>\n",
       "      <th>nrelbc_1</th>\n",
       "      <th>nrelbc_2</th>\n",
       "      <th>brstproc_0</th>\n",
       "      <th>brstproc_1</th>\n",
       "      <th>lastmamm_0</th>\n",
       "      <th>lastmamm_1</th>\n",
       "      <th>surgmeno_0</th>\n",
       "      <th>surgmeno_1</th>\n",
       "      <th>hrt_0</th>\n",
       "      <th>hrt_1</th>\n",
       "    </tr>\n",
       "  </thead>\n",
       "  <tbody>\n",
       "    <tr>\n",
       "      <th>0</th>\n",
       "      <td>1</td>\n",
       "      <td>0</td>\n",
       "      <td>0</td>\n",
       "      <td>0</td>\n",
       "      <td>0</td>\n",
       "      <td>0</td>\n",
       "      <td>0</td>\n",
       "      <td>0</td>\n",
       "      <td>0</td>\n",
       "      <td>0</td>\n",
       "      <td>...</td>\n",
       "      <td>0</td>\n",
       "      <td>0</td>\n",
       "      <td>1</td>\n",
       "      <td>0</td>\n",
       "      <td>1</td>\n",
       "      <td>0</td>\n",
       "      <td>0</td>\n",
       "      <td>0</td>\n",
       "      <td>0</td>\n",
       "      <td>0</td>\n",
       "    </tr>\n",
       "    <tr>\n",
       "      <th>2</th>\n",
       "      <td>1</td>\n",
       "      <td>0</td>\n",
       "      <td>0</td>\n",
       "      <td>0</td>\n",
       "      <td>0</td>\n",
       "      <td>0</td>\n",
       "      <td>0</td>\n",
       "      <td>0</td>\n",
       "      <td>0</td>\n",
       "      <td>0</td>\n",
       "      <td>...</td>\n",
       "      <td>0</td>\n",
       "      <td>0</td>\n",
       "      <td>1</td>\n",
       "      <td>0</td>\n",
       "      <td>0</td>\n",
       "      <td>0</td>\n",
       "      <td>0</td>\n",
       "      <td>0</td>\n",
       "      <td>0</td>\n",
       "      <td>0</td>\n",
       "    </tr>\n",
       "  </tbody>\n",
       "</table>\n",
       "<p>2 rows × 40 columns</p>\n",
       "</div>"
      ],
      "text/plain": [
       "   menopaus_0  menopaus_1  agegrp_2  agegrp_3  agegrp_4  agegrp_5  agegrp_6  \\\n",
       "0           1           0         0         0         0         0         0   \n",
       "2           1           0         0         0         0         0         0   \n",
       "\n",
       "   agegrp_7  agegrp_8  agegrp_9  ...  nrelbc_1  nrelbc_2  brstproc_0  \\\n",
       "0         0         0         0  ...         0         0           1   \n",
       "2         0         0         0  ...         0         0           1   \n",
       "\n",
       "   brstproc_1  lastmamm_0  lastmamm_1  surgmeno_0  surgmeno_1  hrt_0  hrt_1  \n",
       "0           0           1           0           0           0      0      0  \n",
       "2           0           0           0           0           0      0      0  \n",
       "\n",
       "[2 rows x 40 columns]"
      ]
     },
     "execution_count": 3,
     "metadata": {},
     "output_type": "execute_result"
    }
   ],
   "source": [
    "X_train.head(2)"
   ]
  },
  {
   "cell_type": "code",
   "execution_count": 4,
   "metadata": {},
   "outputs": [
    {
     "data": {
      "text/html": [
       "<div>\n",
       "<style scoped>\n",
       "    .dataframe tbody tr th:only-of-type {\n",
       "        vertical-align: middle;\n",
       "    }\n",
       "\n",
       "    .dataframe tbody tr th {\n",
       "        vertical-align: top;\n",
       "    }\n",
       "\n",
       "    .dataframe thead th {\n",
       "        text-align: right;\n",
       "    }\n",
       "</style>\n",
       "<table border=\"1\" class=\"dataframe\">\n",
       "  <thead>\n",
       "    <tr style=\"text-align: right;\">\n",
       "      <th></th>\n",
       "      <th>menopaus_0</th>\n",
       "      <th>menopaus_1</th>\n",
       "      <th>agegrp_2</th>\n",
       "      <th>agegrp_3</th>\n",
       "      <th>agegrp_4</th>\n",
       "      <th>agegrp_5</th>\n",
       "      <th>agegrp_6</th>\n",
       "      <th>agegrp_7</th>\n",
       "      <th>agegrp_8</th>\n",
       "      <th>agegrp_9</th>\n",
       "      <th>...</th>\n",
       "      <th>nrelbc_1</th>\n",
       "      <th>nrelbc_2</th>\n",
       "      <th>brstproc_0</th>\n",
       "      <th>brstproc_1</th>\n",
       "      <th>lastmamm_0</th>\n",
       "      <th>lastmamm_1</th>\n",
       "      <th>surgmeno_0</th>\n",
       "      <th>surgmeno_1</th>\n",
       "      <th>hrt_0</th>\n",
       "      <th>hrt_1</th>\n",
       "    </tr>\n",
       "  </thead>\n",
       "  <tbody>\n",
       "    <tr>\n",
       "      <th>1</th>\n",
       "      <td>1</td>\n",
       "      <td>0</td>\n",
       "      <td>0</td>\n",
       "      <td>0</td>\n",
       "      <td>0</td>\n",
       "      <td>0</td>\n",
       "      <td>0</td>\n",
       "      <td>0</td>\n",
       "      <td>0</td>\n",
       "      <td>0</td>\n",
       "      <td>...</td>\n",
       "      <td>0</td>\n",
       "      <td>0</td>\n",
       "      <td>1</td>\n",
       "      <td>0</td>\n",
       "      <td>0</td>\n",
       "      <td>0</td>\n",
       "      <td>0</td>\n",
       "      <td>0</td>\n",
       "      <td>0</td>\n",
       "      <td>0</td>\n",
       "    </tr>\n",
       "    <tr>\n",
       "      <th>9</th>\n",
       "      <td>1</td>\n",
       "      <td>0</td>\n",
       "      <td>0</td>\n",
       "      <td>0</td>\n",
       "      <td>0</td>\n",
       "      <td>0</td>\n",
       "      <td>0</td>\n",
       "      <td>0</td>\n",
       "      <td>0</td>\n",
       "      <td>0</td>\n",
       "      <td>...</td>\n",
       "      <td>0</td>\n",
       "      <td>0</td>\n",
       "      <td>1</td>\n",
       "      <td>0</td>\n",
       "      <td>1</td>\n",
       "      <td>0</td>\n",
       "      <td>0</td>\n",
       "      <td>0</td>\n",
       "      <td>0</td>\n",
       "      <td>0</td>\n",
       "    </tr>\n",
       "  </tbody>\n",
       "</table>\n",
       "<p>2 rows × 40 columns</p>\n",
       "</div>"
      ],
      "text/plain": [
       "   menopaus_0  menopaus_1  agegrp_2  agegrp_3  agegrp_4  agegrp_5  agegrp_6  \\\n",
       "1           1           0         0         0         0         0         0   \n",
       "9           1           0         0         0         0         0         0   \n",
       "\n",
       "   agegrp_7  agegrp_8  agegrp_9  ...  nrelbc_1  nrelbc_2  brstproc_0  \\\n",
       "1         0         0         0  ...         0         0           1   \n",
       "9         0         0         0  ...         0         0           1   \n",
       "\n",
       "   brstproc_1  lastmamm_0  lastmamm_1  surgmeno_0  surgmeno_1  hrt_0  hrt_1  \n",
       "1           0           0           0           0           0      0      0  \n",
       "9           0           1           0           0           0      0      0  \n",
       "\n",
       "[2 rows x 40 columns]"
      ]
     },
     "execution_count": 4,
     "metadata": {},
     "output_type": "execute_result"
    }
   ],
   "source": [
    "X_test.head(2)"
   ]
  },
  {
   "cell_type": "code",
   "execution_count": 5,
   "metadata": {},
   "outputs": [
    {
     "data": {
      "text/plain": [
       "0    57930\n",
       "1     1571\n",
       "Name: cancer, dtype: int64"
      ]
     },
     "execution_count": 5,
     "metadata": {},
     "output_type": "execute_result"
    }
   ],
   "source": [
    "y_test.value_counts()"
   ]
  },
  {
   "cell_type": "code",
   "execution_count": 6,
   "metadata": {},
   "outputs": [
    {
     "data": {
      "text/plain": [
       "0    109536\n",
       "1      4293\n",
       "Name: cancer, dtype: int64"
      ]
     },
     "execution_count": 6,
     "metadata": {},
     "output_type": "execute_result"
    }
   ],
   "source": [
    "y_train.value_counts()"
   ]
  },
  {
   "cell_type": "markdown",
   "metadata": {
    "colab_type": "text",
    "id": "1DESHL5HLRuh"
   },
   "source": [
    "# Model Building on Cancer Data"
   ]
  },
  {
   "cell_type": "markdown",
   "metadata": {
    "colab_type": "text",
    "id": "As1z-UphLRxn"
   },
   "source": [
    "## <span style=\"color:blue\">Model 3 - Weighted Random Forest</span>"
   ]
  },
  {
   "cell_type": "code",
   "execution_count": 7,
   "metadata": {},
   "outputs": [],
   "source": [
    "from sklearn import metrics\n",
    "from sklearn.metrics import roc_auc_score, roc_curve, confusion_matrix, accuracy_score\n",
    "\n",
    "def model_stats(X, y, y_pred, model):\n",
    "\n",
    "    cm = confusion_matrix(y, y_pred)\n",
    "    print(\"Confusion Matrix ->\")\n",
    "    print(cm)\n",
    "\n",
    "    TP = cm[1,1] # true positive \n",
    "    TN = cm[0,0] # true negatives\n",
    "    FP = cm[0,1] # false positives\n",
    "    FN = cm[1,0] # false negatives\n",
    "    \n",
    "    print(\"Accuracy:\",accuracy_score(y, y_pred))\n",
    "\n",
    "    sensi = TP / float(TP+FN)\n",
    "    speci = TN / float(TN+FP)\n",
    "    \n",
    "    # Let's see the sensitivity of our model\n",
    "    print(\"Sensitivity:\", sensi)\n",
    "\n",
    "    # Let us calculate specificity\n",
    "    print(\"Specificity:\", speci)\n",
    "\n",
    "    print(\"Average:\", (sensi+speci)/2)\n",
    "    \n",
    "    # Let us calculate precision\n",
    "    print(\"Precision\",TP / float(TP+FP))\n",
    "    print(\"MCC \", metrics.matthews_corrcoef(y, y_pred))\n",
    "    print(\"F1 \", metrics.fbeta_score(y, y_pred, beta = 1))\n",
    "    print(\"F2 \", metrics.fbeta_score(y, y_pred, beta = 2))\n",
    "    print(\"F3 \", metrics.fbeta_score(y, y_pred, beta = 3))\n",
    "    \n",
    "    # Predicting probability for roc_auc\n",
    "    pred_probs = model.predict_proba(X)[:,1]\n",
    "    print(\"ROC-AUC : {:2.2}\".format(roc_auc_score(y, pred_probs)))\n",
    "\n",
    "    # Plotting ROC curve\n",
    "    fpr, tpr, thresholds = roc_curve(y, pred_probs, drop_intermediate = False )\n",
    "    auc_score = roc_auc_score(y, pred_probs)\n",
    "    plt.figure(figsize=(6, 6))\n",
    "    plt.plot( fpr, tpr, label='ROC curve (area = %0.2f)' % auc_score )\n",
    "    plt.plot([0, 1], [0, 1], 'k--')\n",
    "    plt.xlim([0.0, 1.0])\n",
    "    plt.ylim([0.0, 1.05])\n",
    "    plt.xlabel('False Positive Rate or [1 - True Negative Rate]')\n",
    "    plt.ylabel('True Positive Rate')\n",
    "    plt.title('Receiver operating characteristic example')\n",
    "    plt.legend(loc=\"lower right\")\n",
    "    plt.show()\n",
    "    "
   ]
  },
  {
   "cell_type": "markdown",
   "metadata": {
    "colab_type": "text",
    "id": "myP9j-vgLRxn"
   },
   "source": [
    "### Default Hyperparameters\n",
    "\n",
    "Let's first fit a random forest model with default hyperparameters."
   ]
  },
  {
   "cell_type": "code",
   "execution_count": 8,
   "metadata": {},
   "outputs": [],
   "source": [
    "# Importing random forest classifier from sklearn library\n",
    "from sklearn.ensemble import RandomForestClassifier"
   ]
  },
  {
   "cell_type": "code",
   "execution_count": 9,
   "metadata": {},
   "outputs": [
    {
     "data": {
      "text/plain": [
       "RandomForestClassifier(random_state=100)"
      ]
     },
     "execution_count": 9,
     "metadata": {},
     "output_type": "execute_result"
    }
   ],
   "source": [
    "# Running the random forest with default parameters without any data sampling\n",
    "rfc = RandomForestClassifier(random_state = 100)\n",
    "\n",
    "# fit\n",
    "rfc.fit(X_train,y_train)"
   ]
  },
  {
   "cell_type": "code",
   "execution_count": 10,
   "metadata": {},
   "outputs": [],
   "source": [
    "#Let's check the evaluation metrics of our default model\n",
    "\n",
    "# Making predictions\n",
    "y_pred_train = rfc.predict(X_train) # For train data\n",
    "y_pred_test = rfc.predict(X_test) # For test data"
   ]
  },
  {
   "cell_type": "code",
   "execution_count": 11,
   "metadata": {},
   "outputs": [
    {
     "name": "stdout",
     "output_type": "stream",
     "text": [
      "Confusion Matrix ->\n",
      "[[109019    517]\n",
      " [  2933   1360]]\n",
      "Accuracy: 0.9696913791740241\n",
      "Sensitivity: 0.31679478220358726\n",
      "Specificity: 0.9952800905638329\n",
      "Average: 0.65603743638371\n",
      "Precision 0.7245604688332445\n",
      "MCC  0.4668416770254796\n",
      "F1  0.44084278768233387\n",
      "F2  0.3569741193763452\n",
      "F3  0.3356864293824357\n",
      "ROC-AUC : 0.99\n"
     ]
    },
    {
     "data": {
      "image/png": "[encoded data removed]",
      "text/plain": [
       "<Figure size 432x432 with 1 Axes>"
      ]
     },
     "metadata": {
      "needs_background": "light"
     },
     "output_type": "display_data"
    }
   ],
   "source": [
    "model_stats(X_train, y_train, y_pred_train, rfc)"
   ]
  },
  {
   "cell_type": "code",
   "execution_count": 12,
   "metadata": {},
   "outputs": [
    {
     "name": "stdout",
     "output_type": "stream",
     "text": [
      "Confusion Matrix ->\n",
      "[[57366   564]\n",
      " [ 1429   142]]\n",
      "Accuracy: 0.9665047646258046\n",
      "Sensitivity: 0.09038828771483132\n",
      "Specificity: 0.9902641118591403\n",
      "Average: 0.5403261997869858\n",
      "Precision 0.20113314447592068\n",
      "MCC  0.11942207198358777\n",
      "F1  0.12472551602986386\n",
      "F2  0.10157367668097281\n",
      "F3  0.09565510272819129\n",
      "ROC-AUC : 0.71\n"
     ]
    },
    {
     "data": {
      "image/png": "[encoded data removed]",
      "text/plain": [
       "<Figure size 432x432 with 1 Axes>"
      ]
     },
     "metadata": {
      "needs_background": "light"
     },
     "output_type": "display_data"
    }
   ],
   "source": [
    "model_stats(X_test, y_test, y_pred_test, rfc)"
   ]
  },
  {
   "cell_type": "code",
   "execution_count": 7,
   "metadata": {},
   "outputs": [
    {
     "data": {
      "text/plain": [
       "RandomForestClassifier(class_weight='balanced', random_state=100)"
      ]
     },
     "execution_count": 7,
     "metadata": {},
     "output_type": "execute_result"
    }
   ],
   "source": [
    "# Running the random forest with default parameters.\n",
    "rfc = RandomForestClassifier(random_state = 100, class_weight='balanced')\n",
    "\n",
    "# fit\n",
    "rfc.fit(X_train,y_train)"
   ]
  },
  {
   "cell_type": "markdown",
   "metadata": {},
   "source": [
    " Let's check the evaluation metrics of our default model"
   ]
  },
  {
   "cell_type": "code",
   "execution_count": 8,
   "metadata": {},
   "outputs": [],
   "source": [
    "# Making predictions\n",
    "y_pred_train = rfc.predict(X_train) # For train data\n",
    "y_pred_test = rfc.predict(X_test) # For test data"
   ]
  },
  {
   "cell_type": "code",
   "execution_count": 9,
   "metadata": {},
   "outputs": [
    {
     "name": "stdout",
     "output_type": "stream",
     "text": [
      "Confusion Matrix ->\n",
      "[[106103   3433]\n",
      " [    16   4277]]\n",
      "Accuracy: 0.96970016428151\n",
      "Sensitivity: 0.9962730025623108\n",
      "Specificity: 0.9686587058136138\n",
      "Average: 0.9824658541879623\n",
      "Precision 0.5547341115434501\n",
      "MCC  0.7315292524610935\n",
      "F1  0.7126551695409482\n",
      "F2  0.8594566353187043\n",
      "F3  0.9228213260836732\n",
      "ROC-AUC : 0.99\n"
     ]
    },
    {
     "data": {
      "image/png": "[encoded data removed]",
      "text/plain": [
       "<Figure size 432x432 with 1 Axes>"
      ]
     },
     "metadata": {
      "needs_background": "light"
     },
     "output_type": "display_data"
    }
   ],
   "source": [
    "model_stats(X_train, y_train, y_pred_train, rfc)"
   ]
  },
  {
   "cell_type": "code",
   "execution_count": 10,
   "metadata": {},
   "outputs": [
    {
     "name": "stdout",
     "output_type": "stream",
     "text": [
      "Confusion Matrix ->\n",
      "[[54870  3060]\n",
      " [ 1102   469]]\n",
      "Accuracy: 0.9300515957714997\n",
      "Sensitivity: 0.2985359643539147\n",
      "Specificity: 0.9471776281719316\n",
      "Average: 0.6228567962629232\n",
      "Precision 0.13289883819778975\n",
      "MCC  0.16678531002138872\n",
      "F1  0.183921568627451\n",
      "F2  0.23896871496993788\n",
      "F3  0.2654516640253566\n",
      "ROC-AUC : 0.72\n"
     ]
    },
    {
     "data": {
      "image/png": "[encoded data removed]",
      "text/plain": [
       "<Figure size 432x432 with 1 Axes>"
      ]
     },
     "metadata": {
      "needs_background": "light"
     },
     "output_type": "display_data"
    }
   ],
   "source": [
    "model_stats(X_test, y_test, y_pred_test, rfc)"
   ]
  },
  {
   "cell_type": "markdown",
   "metadata": {},
   "source": [
    "### Hyperparameter Tuning"
   ]
  },
  {
   "cell_type": "markdown",
   "metadata": {},
   "source": [
    "The following hyperparameters are present in a random forest classifier. Note that most of these hypereparameters are actually of the decision trees that are in the forest.\n",
    "\n",
    "\n",
    "- **n_estimators**: integer, optional (default=10): The number of trees in the forest.\n",
    "- **criterion**: string, optional (default=”gini”)The function to measure the quality of a split. Supported criteria are “gini” for the Gini impurity and “entropy” for the information gain. Note: this parameter is tree-specific.\n",
    "- **max_features** : int, float, string or None, optional (default=”auto”)The number of features to consider when looking for the best split:\n",
    "- **max_depth** : integer or None, optional (default=None)The maximum depth of the tree. If None, then nodes are expanded until all leaves are pure or until all leaves contain less than min_samples_split samples.\n",
    "- **min_samples_split** : int, float, optional (default=2)The minimum number of samples required to split an internal node:**\n",
    "- **min_samples_leaf** : int, float, optional (default=1)The minimum number of samples required to be at a leaf node:**\n",
    "- **max_leaf_nodes** : int or None, optional (default=None)Grow trees with max_leaf_nodes in best-first fashion. Best nodes are defined as relative reduction in impurity. If None then unlimited number of leaf nodes."
   ]
  },
  {
   "cell_type": "markdown",
   "metadata": {},
   "source": [
    "### Grid Search to Find Optimal Hyperparameters"
   ]
  },
  {
   "cell_type": "code",
   "execution_count": 11,
   "metadata": {},
   "outputs": [],
   "source": [
    "#We can now find the optimal hyperparameters using GridSearchCV.\n",
    "from sklearn.model_selection import GridSearchCV,StratifiedKFold"
   ]
  },
  {
   "cell_type": "code",
   "execution_count": 12,
   "metadata": {},
   "outputs": [],
   "source": [
    "# Create a cross validation scheme\n",
    "folds = StratifiedKFold(n_splits = 5, shuffle = True, random_state = 100)"
   ]
  },
  {
   "cell_type": "code",
   "execution_count": 13,
   "metadata": {},
   "outputs": [
    {
     "name": "stdout",
     "output_type": "stream",
     "text": [
      "Fitting 5 folds for each of 6 candidates, totalling 30 fits\n"
     ]
    },
    {
     "name": "stderr",
     "output_type": "stream",
     "text": [
      "[Parallel(n_jobs=-1)]: Using backend LokyBackend with 4 concurrent workers.\n",
      "[Parallel(n_jobs=-1)]: Done  30 out of  30 | elapsed:  3.3min finished\n"
     ]
    },
    {
     "data": {
      "text/plain": [
       "GridSearchCV(cv=StratifiedKFold(n_splits=5, random_state=100, shuffle=True),\n",
       "             estimator=RandomForestClassifier(class_weight='balanced',\n",
       "                                              random_state=100),\n",
       "             n_jobs=-1,\n",
       "             param_grid={'n_estimators': [50, 100, 150, 200, 250, 300]},\n",
       "             scoring='roc_auc', verbose=1)"
      ]
     },
     "execution_count": 13,
     "metadata": {},
     "output_type": "execute_result"
    }
   ],
   "source": [
    "# Create the parameter grid based on the results of random search \n",
    "param_grid = {\n",
    "    'n_estimators': [50,100,150,200,250,300]\n",
    "}\n",
    "\n",
    "# Create a based model\n",
    "rf = RandomForestClassifier(random_state = 100,class_weight='balanced')\n",
    "\n",
    "# Instantiate the grid search model\n",
    "grid_search = GridSearchCV(estimator = rf, param_grid = param_grid, scoring='roc_auc',\n",
    "                          cv = folds, n_jobs = -1,verbose = 1)\n",
    "\n",
    "# Fit the grid search to the data\n",
    "grid_search.fit(X_train, y_train)"
   ]
  },
  {
   "cell_type": "code",
   "execution_count": 14,
   "metadata": {},
   "outputs": [
    {
     "name": "stdout",
     "output_type": "stream",
     "text": [
      "best balanced_accuracy 0.6603713025008853\n",
      "RandomForestClassifier(class_weight='balanced', n_estimators=300,\n",
      "                       random_state=100)\n"
     ]
    }
   ],
   "source": [
    "# printing the optimal accuracy score and hyperparameters\n",
    "print(\"best balanced_accuracy\", grid_search.best_score_)\n",
    "print(grid_search.best_estimator_)"
   ]
  },
  {
   "cell_type": "code",
   "execution_count": 16,
   "metadata": {},
   "outputs": [
    {
     "name": "stdout",
     "output_type": "stream",
     "text": [
      "Fitting 5 folds for each of 3 candidates, totalling 15 fits\n"
     ]
    },
    {
     "name": "stderr",
     "output_type": "stream",
     "text": [
      "[Parallel(n_jobs=-1)]: Using backend LokyBackend with 4 concurrent workers.\n",
      "[Parallel(n_jobs=-1)]: Done  15 out of  15 | elapsed:  3.1min finished\n"
     ]
    },
    {
     "name": "stdout",
     "output_type": "stream",
     "text": [
      "best balanced_accuracy 0.6612334951935879\n",
      "RandomForestClassifier(class_weight='balanced', n_estimators=350,\n",
      "                       random_state=100)\n"
     ]
    }
   ],
   "source": [
    "# Create the parameter grid based on the results of random search \n",
    "param_grid = {\n",
    "    'n_estimators': [275,325,350]\n",
    "}\n",
    "\n",
    "# Create a based model\n",
    "rf = RandomForestClassifier(random_state = 100,class_weight='balanced')\n",
    "\n",
    "# Instantiate the grid search model\n",
    "grid_search = GridSearchCV(estimator = rf, param_grid = param_grid, scoring='roc_auc',\n",
    "                          cv = folds, n_jobs = -1,verbose = 1)\n",
    "\n",
    "# Fit the grid search to the data\n",
    "grid_search.fit(X_train, y_train)\n",
    "\n",
    "# printing the optimal accuracy score and hyperparameters\n",
    "print(\"best balanced_accuracy\", grid_search.best_score_)\n",
    "print(grid_search.best_estimator_)"
   ]
  },
  {
   "cell_type": "code",
   "execution_count": 18,
   "metadata": {},
   "outputs": [
    {
     "name": "stdout",
     "output_type": "stream",
     "text": [
      "Fitting 5 folds for each of 3 candidates, totalling 15 fits\n"
     ]
    },
    {
     "name": "stderr",
     "output_type": "stream",
     "text": [
      "[Parallel(n_jobs=-1)]: Using backend LokyBackend with 4 concurrent workers.\n",
      "[Parallel(n_jobs=-1)]: Done  15 out of  15 | elapsed:  8.9min finished\n"
     ]
    },
    {
     "name": "stdout",
     "output_type": "stream",
     "text": [
      "best balanced_accuracy 0.6640967350085337\n",
      "RandomForestClassifier(class_weight='balanced', n_estimators=800,\n",
      "                       random_state=100)\n"
     ]
    }
   ],
   "source": [
    "# Create the parameter grid based on the results of random search \n",
    "param_grid = {\n",
    "    'n_estimators': [450,600,800]\n",
    "}\n",
    "\n",
    "# Create a based model\n",
    "rf = RandomForestClassifier(random_state = 100,class_weight='balanced')\n",
    "\n",
    "# Instantiate the grid search model\n",
    "grid_search = GridSearchCV(estimator = rf, param_grid = param_grid, scoring='roc_auc',\n",
    "                          cv = folds, n_jobs = -1,verbose = 1)\n",
    "\n",
    "# Fit the grid search to the data\n",
    "grid_search.fit(X_train, y_train)\n",
    "\n",
    "# printing the optimal accuracy score and hyperparameters\n",
    "print(\"best balanced_accuracy\", grid_search.best_score_)\n",
    "print(grid_search.best_estimator_)"
   ]
  },
  {
   "cell_type": "code",
   "execution_count": 19,
   "metadata": {},
   "outputs": [
    {
     "name": "stdout",
     "output_type": "stream",
     "text": [
      "Fitting 5 folds for each of 2 candidates, totalling 10 fits\n"
     ]
    },
    {
     "name": "stderr",
     "output_type": "stream",
     "text": [
      "[Parallel(n_jobs=-1)]: Using backend LokyBackend with 4 concurrent workers.\n",
      "[Parallel(n_jobs=-1)]: Done  10 out of  10 | elapsed:  6.8min finished\n"
     ]
    },
    {
     "name": "stdout",
     "output_type": "stream",
     "text": [
      "best balanced_accuracy 0.6642318737084268\n",
      "RandomForestClassifier(class_weight='balanced', n_estimators=1000,\n",
      "                       random_state=100)\n"
     ]
    }
   ],
   "source": [
    "# Create the parameter grid based on the results of random search \n",
    "param_grid = {\n",
    "    'n_estimators': [900,1000]\n",
    "}\n",
    "\n",
    "# Create a based model\n",
    "rf = RandomForestClassifier(random_state = 100,class_weight='balanced')\n",
    "\n",
    "# Instantiate the grid search model\n",
    "grid_search = GridSearchCV(estimator = rf, param_grid = param_grid, scoring='roc_auc',\n",
    "                          cv = folds, n_jobs = -1,verbose = 1)\n",
    "\n",
    "# Fit the grid search to the data\n",
    "grid_search.fit(X_train, y_train)\n",
    "\n",
    "# printing the optimal accuracy score and hyperparameters\n",
    "print(\"best balanced_accuracy\", grid_search.best_score_)\n",
    "print(grid_search.best_estimator_)"
   ]
  },
  {
   "cell_type": "code",
   "execution_count": 20,
   "metadata": {},
   "outputs": [
    {
     "name": "stdout",
     "output_type": "stream",
     "text": [
      "Fitting 5 folds for each of 2 candidates, totalling 10 fits\n"
     ]
    },
    {
     "name": "stderr",
     "output_type": "stream",
     "text": [
      "[Parallel(n_jobs=-1)]: Using backend LokyBackend with 4 concurrent workers.\n",
      "[Parallel(n_jobs=-1)]: Done  10 out of  10 | elapsed:  6.3min finished\n"
     ]
    },
    {
     "name": "stdout",
     "output_type": "stream",
     "text": [
      "best balanced_accuracy 0.6628571534718282\n",
      "RandomForestClassifier(class_weight='balanced', criterion='entropy',\n",
      "                       n_estimators=500, random_state=100)\n"
     ]
    }
   ],
   "source": [
    "# Create the parameter grid based on the results of random search \n",
    "param_grid = {\n",
    "    'criterion' : ['gini','entropy']\n",
    "}\n",
    "\n",
    "# Create a based model\n",
    "rf = RandomForestClassifier(random_state = 100, n_estimators=500 ,class_weight='balanced')\n",
    "\n",
    "# Instantiate the grid search model\n",
    "grid_search = GridSearchCV(estimator = rf, param_grid = param_grid, cv = folds, scoring='roc_auc', \n",
    "                           n_jobs = -1,verbose = 1)\n",
    "\n",
    "# Fit the grid search to the data\n",
    "grid_search.fit(X_train, y_train)\n",
    "\n",
    "# printing the optimal accuracy score and hyperparameters\n",
    "print(\"best balanced_accuracy\", grid_search.best_score_)\n",
    "print(grid_search.best_estimator_)"
   ]
  },
  {
   "cell_type": "code",
   "execution_count": 21,
   "metadata": {},
   "outputs": [
    {
     "name": "stdout",
     "output_type": "stream",
     "text": [
      "Fitting 5 folds for each of 9 candidates, totalling 45 fits\n"
     ]
    },
    {
     "name": "stderr",
     "output_type": "stream",
     "text": [
      "[Parallel(n_jobs=-1)]: Using backend LokyBackend with 4 concurrent workers.\n",
      "[Parallel(n_jobs=-1)]: Done  45 out of  45 | elapsed:  9.4min finished\n"
     ]
    },
    {
     "name": "stdout",
     "output_type": "stream",
     "text": [
      "best accuracy 0.7785264617534374\n",
      "RandomForestClassifier(class_weight='balanced', criterion='entropy',\n",
      "                       min_samples_leaf=100, min_samples_split=200,\n",
      "                       n_estimators=500, random_state=100)\n"
     ]
    }
   ],
   "source": [
    "# Create the parameter grid based on the results of random search \n",
    "param_grid = {\n",
    "    #'max_depth': [4,6,8],\n",
    "    'min_samples_leaf': range(100, 400, 100),\n",
    "    'min_samples_split': range(200, 500, 100)\n",
    "}\n",
    "\n",
    "# Create a model\n",
    "rf = RandomForestClassifier(random_state = 100, n_estimators=500 ,class_weight='balanced', criterion='entropy')\n",
    "\n",
    "# Instantiate the grid search model\n",
    "grid_search = GridSearchCV(estimator = rf, param_grid = param_grid, cv = folds, scoring='roc_auc', \n",
    "                           n_jobs = -1,verbose = 1)\n",
    "\n",
    "\n",
    "\n",
    "# Fit the grid search to the data\n",
    "grid_search.fit(X_train, y_train)\n",
    "\n",
    "# printing the optimal accuracy score and hyperparameters\n",
    "print(\"best accuracy\", grid_search.best_score_)\n",
    "print(grid_search.best_estimator_)"
   ]
  },
  {
   "cell_type": "code",
   "execution_count": 22,
   "metadata": {},
   "outputs": [
    {
     "name": "stdout",
     "output_type": "stream",
     "text": [
      "Fitting 5 folds for each of 3 candidates, totalling 15 fits\n"
     ]
    },
    {
     "name": "stderr",
     "output_type": "stream",
     "text": [
      "[Parallel(n_jobs=-1)]: Using backend LokyBackend with 4 concurrent workers.\n",
      "[Parallel(n_jobs=-1)]: Done  15 out of  15 | elapsed:  2.3min finished\n"
     ]
    },
    {
     "name": "stdout",
     "output_type": "stream",
     "text": [
      "best accuracy 0.7524769122601089\n",
      "RandomForestClassifier(class_weight='balanced', criterion='entropy',\n",
      "                       max_depth=8, min_samples_leaf=100, min_samples_split=200,\n",
      "                       n_estimators=500, random_state=100)\n"
     ]
    }
   ],
   "source": [
    "# Create the parameter grid based on the results of random search \n",
    "param_grid = {\n",
    "    'max_depth': [4,6,8]\n",
    "}\n",
    "\n",
    "# Create a model\n",
    "rf = RandomForestClassifier(random_state = 100, n_estimators=500 ,class_weight='balanced', min_samples_leaf=100,\n",
    "                            min_samples_split=200, criterion='entropy'\n",
    "                           )\n",
    "\n",
    "# Instantiate the grid search model\n",
    "grid_search = GridSearchCV(estimator = rf, param_grid = param_grid, cv = folds, scoring='roc_auc', \n",
    "                           n_jobs = -1,verbose = 1)\n",
    "\n",
    "\n",
    "\n",
    "# Fit the grid search to the data\n",
    "grid_search.fit(X_train, y_train)\n",
    "\n",
    "# printing the optimal accuracy score and hyperparameters\n",
    "print(\"best accuracy\", grid_search.best_score_)\n",
    "print(grid_search.best_estimator_)"
   ]
  },
  {
   "cell_type": "code",
   "execution_count": 23,
   "metadata": {},
   "outputs": [
    {
     "name": "stdout",
     "output_type": "stream",
     "text": [
      "Fitting 5 folds for each of 5 candidates, totalling 25 fits\n"
     ]
    },
    {
     "name": "stderr",
     "output_type": "stream",
     "text": [
      "[Parallel(n_jobs=-1)]: Using backend LokyBackend with 4 concurrent workers.\n",
      "[Parallel(n_jobs=-1)]: Done  25 out of  25 | elapsed:  2.7min finished\n"
     ]
    },
    {
     "name": "stdout",
     "output_type": "stream",
     "text": [
      "best accuracy 0.7530213540876908\n",
      "RandomForestClassifier(class_weight='balanced', criterion='entropy',\n",
      "                       max_depth=8, max_samples=0.8, min_samples_leaf=100,\n",
      "                       min_samples_split=200, n_estimators=500,\n",
      "                       random_state=100)\n"
     ]
    }
   ],
   "source": [
    "# Create the parameter grid based on the results of random search \n",
    "param_grid = {\n",
    "    'max_samples': [0.2,0.4,0.6,0.8,1]\n",
    "}\n",
    "\n",
    "# Create a model\n",
    "rf = RandomForestClassifier(random_state = 100, n_estimators=500 ,class_weight='balanced', min_samples_leaf = 100,\n",
    "                            min_samples_split=200, max_depth=8, criterion='entropy')\n",
    "\n",
    "# Instantiate the grid search model\n",
    "grid_search = GridSearchCV(estimator = rf, param_grid = param_grid, cv = folds, scoring='roc_auc', \n",
    "                           n_jobs = -1,verbose = 1)\n",
    "\n",
    "\n",
    "\n",
    "# Fit the grid search to the data\n",
    "grid_search.fit(X_train, y_train)\n",
    "\n",
    "# printing the optimal accuracy score and hyperparameters\n",
    "print(\"best accuracy\", grid_search.best_score_)\n",
    "print(grid_search.best_estimator_)"
   ]
  },
  {
   "cell_type": "markdown",
   "metadata": {},
   "source": [
    "### Fitting the final model with the best parameters obtained from grid search"
   ]
  },
  {
   "cell_type": "code",
   "execution_count": 29,
   "metadata": {},
   "outputs": [
    {
     "data": {
      "text/plain": [
       "RandomForestClassifier(class_weight='balanced', criterion='entropy',\n",
       "                       max_depth=6, max_samples=0.8, min_samples_leaf=100,\n",
       "                       min_samples_split=200, n_estimators=500,\n",
       "                       random_state=100)"
      ]
     },
     "execution_count": 29,
     "metadata": {},
     "output_type": "execute_result"
    }
   ],
   "source": [
    "# model with the best hyperparameters\n",
    "from sklearn.ensemble import RandomForestClassifier\n",
    "rf = RandomForestClassifier(random_state = 100, n_estimators=500 ,max_depth=6 ,min_samples_leaf=100,\n",
    "                            min_samples_split=200, max_samples=0.8, criterion='entropy', class_weight='balanced')\n",
    "\n",
    "\n",
    "# fit\n",
    "rf.fit(X_train,y_train)"
   ]
  },
  {
   "cell_type": "code",
   "execution_count": 30,
   "metadata": {},
   "outputs": [],
   "source": [
    "y_pred_train=rf.predict(X_train)\n",
    "y_pred_test=rf.predict(X_test)"
   ]
  },
  {
   "cell_type": "code",
   "execution_count": 31,
   "metadata": {},
   "outputs": [
    {
     "data": {
      "text/html": [
       "<div>\n",
       "<style scoped>\n",
       "    .dataframe tbody tr th:only-of-type {\n",
       "        vertical-align: middle;\n",
       "    }\n",
       "\n",
       "    .dataframe tbody tr th {\n",
       "        vertical-align: top;\n",
       "    }\n",
       "\n",
       "    .dataframe thead th {\n",
       "        text-align: right;\n",
       "    }\n",
       "</style>\n",
       "<table border=\"1\" class=\"dataframe\">\n",
       "  <thead>\n",
       "    <tr style=\"text-align: right;\">\n",
       "      <th></th>\n",
       "      <th>variables</th>\n",
       "      <th>importance_percentage</th>\n",
       "    </tr>\n",
       "  </thead>\n",
       "  <tbody>\n",
       "    <tr>\n",
       "      <th>0</th>\n",
       "      <td>hispanic_0</td>\n",
       "      <td>19.546145</td>\n",
       "    </tr>\n",
       "    <tr>\n",
       "      <th>1</th>\n",
       "      <td>race_1</td>\n",
       "      <td>15.295243</td>\n",
       "    </tr>\n",
       "    <tr>\n",
       "      <th>2</th>\n",
       "      <td>density_1</td>\n",
       "      <td>14.173573</td>\n",
       "    </tr>\n",
       "    <tr>\n",
       "      <th>3</th>\n",
       "      <td>hispanic_1</td>\n",
       "      <td>7.688776</td>\n",
       "    </tr>\n",
       "    <tr>\n",
       "      <th>4</th>\n",
       "      <td>race_2</td>\n",
       "      <td>3.963508</td>\n",
       "    </tr>\n",
       "    <tr>\n",
       "      <th>5</th>\n",
       "      <td>race_5</td>\n",
       "      <td>3.439591</td>\n",
       "    </tr>\n",
       "    <tr>\n",
       "      <th>6</th>\n",
       "      <td>race_4</td>\n",
       "      <td>3.405459</td>\n",
       "    </tr>\n",
       "    <tr>\n",
       "      <th>7</th>\n",
       "      <td>nrelbc_0</td>\n",
       "      <td>2.685640</td>\n",
       "    </tr>\n",
       "    <tr>\n",
       "      <th>8</th>\n",
       "      <td>agefirst_2</td>\n",
       "      <td>2.584702</td>\n",
       "    </tr>\n",
       "    <tr>\n",
       "      <th>9</th>\n",
       "      <td>bmi_3</td>\n",
       "      <td>2.402564</td>\n",
       "    </tr>\n",
       "    <tr>\n",
       "      <th>10</th>\n",
       "      <td>lastmamm_1</td>\n",
       "      <td>2.348299</td>\n",
       "    </tr>\n",
       "    <tr>\n",
       "      <th>11</th>\n",
       "      <td>bmi_4</td>\n",
       "      <td>2.341716</td>\n",
       "    </tr>\n",
       "    <tr>\n",
       "      <th>12</th>\n",
       "      <td>agefirst_1</td>\n",
       "      <td>2.293302</td>\n",
       "    </tr>\n",
       "    <tr>\n",
       "      <th>13</th>\n",
       "      <td>brstproc_0</td>\n",
       "      <td>1.856703</td>\n",
       "    </tr>\n",
       "    <tr>\n",
       "      <th>14</th>\n",
       "      <td>agefirst_0</td>\n",
       "      <td>1.726073</td>\n",
       "    </tr>\n",
       "    <tr>\n",
       "      <th>15</th>\n",
       "      <td>surgmeno_1</td>\n",
       "      <td>0.991244</td>\n",
       "    </tr>\n",
       "    <tr>\n",
       "      <th>16</th>\n",
       "      <td>nrelbc_1</td>\n",
       "      <td>0.876759</td>\n",
       "    </tr>\n",
       "    <tr>\n",
       "      <th>17</th>\n",
       "      <td>nrelbc_2</td>\n",
       "      <td>0.857390</td>\n",
       "    </tr>\n",
       "    <tr>\n",
       "      <th>18</th>\n",
       "      <td>surgmeno_0</td>\n",
       "      <td>0.837277</td>\n",
       "    </tr>\n",
       "    <tr>\n",
       "      <th>19</th>\n",
       "      <td>race_3</td>\n",
       "      <td>0.778324</td>\n",
       "    </tr>\n",
       "    <tr>\n",
       "      <th>20</th>\n",
       "      <td>agegrp_3</td>\n",
       "      <td>0.766690</td>\n",
       "    </tr>\n",
       "    <tr>\n",
       "      <th>21</th>\n",
       "      <td>bmi_2</td>\n",
       "      <td>0.765702</td>\n",
       "    </tr>\n",
       "    <tr>\n",
       "      <th>22</th>\n",
       "      <td>density_3</td>\n",
       "      <td>0.734353</td>\n",
       "    </tr>\n",
       "    <tr>\n",
       "      <th>23</th>\n",
       "      <td>lastmamm_0</td>\n",
       "      <td>0.721766</td>\n",
       "    </tr>\n",
       "    <tr>\n",
       "      <th>24</th>\n",
       "      <td>hrt_0</td>\n",
       "      <td>0.691680</td>\n",
       "    </tr>\n",
       "    <tr>\n",
       "      <th>25</th>\n",
       "      <td>menopaus_1</td>\n",
       "      <td>0.690265</td>\n",
       "    </tr>\n",
       "    <tr>\n",
       "      <th>26</th>\n",
       "      <td>bmi_1</td>\n",
       "      <td>0.646612</td>\n",
       "    </tr>\n",
       "    <tr>\n",
       "      <th>27</th>\n",
       "      <td>brstproc_1</td>\n",
       "      <td>0.624970</td>\n",
       "    </tr>\n",
       "    <tr>\n",
       "      <th>28</th>\n",
       "      <td>menopaus_0</td>\n",
       "      <td>0.617289</td>\n",
       "    </tr>\n",
       "    <tr>\n",
       "      <th>29</th>\n",
       "      <td>density_2</td>\n",
       "      <td>0.594073</td>\n",
       "    </tr>\n",
       "    <tr>\n",
       "      <th>30</th>\n",
       "      <td>agegrp_4</td>\n",
       "      <td>0.468715</td>\n",
       "    </tr>\n",
       "    <tr>\n",
       "      <th>31</th>\n",
       "      <td>hrt_1</td>\n",
       "      <td>0.459970</td>\n",
       "    </tr>\n",
       "    <tr>\n",
       "      <th>32</th>\n",
       "      <td>agegrp_7</td>\n",
       "      <td>0.408329</td>\n",
       "    </tr>\n",
       "    <tr>\n",
       "      <th>33</th>\n",
       "      <td>agegrp_2</td>\n",
       "      <td>0.337479</td>\n",
       "    </tr>\n",
       "    <tr>\n",
       "      <th>34</th>\n",
       "      <td>agegrp_8</td>\n",
       "      <td>0.296867</td>\n",
       "    </tr>\n",
       "    <tr>\n",
       "      <th>35</th>\n",
       "      <td>agegrp_6</td>\n",
       "      <td>0.283039</td>\n",
       "    </tr>\n",
       "    <tr>\n",
       "      <th>36</th>\n",
       "      <td>density_4</td>\n",
       "      <td>0.264876</td>\n",
       "    </tr>\n",
       "    <tr>\n",
       "      <th>37</th>\n",
       "      <td>agegrp_5</td>\n",
       "      <td>0.232986</td>\n",
       "    </tr>\n",
       "    <tr>\n",
       "      <th>38</th>\n",
       "      <td>agegrp_9</td>\n",
       "      <td>0.160671</td>\n",
       "    </tr>\n",
       "    <tr>\n",
       "      <th>39</th>\n",
       "      <td>agegrp_10</td>\n",
       "      <td>0.141378</td>\n",
       "    </tr>\n",
       "  </tbody>\n",
       "</table>\n",
       "</div>"
      ],
      "text/plain": [
       "     variables  importance_percentage\n",
       "0   hispanic_0              19.546145\n",
       "1       race_1              15.295243\n",
       "2    density_1              14.173573\n",
       "3   hispanic_1               7.688776\n",
       "4       race_2               3.963508\n",
       "5       race_5               3.439591\n",
       "6       race_4               3.405459\n",
       "7     nrelbc_0               2.685640\n",
       "8   agefirst_2               2.584702\n",
       "9        bmi_3               2.402564\n",
       "10  lastmamm_1               2.348299\n",
       "11       bmi_4               2.341716\n",
       "12  agefirst_1               2.293302\n",
       "13  brstproc_0               1.856703\n",
       "14  agefirst_0               1.726073\n",
       "15  surgmeno_1               0.991244\n",
       "16    nrelbc_1               0.876759\n",
       "17    nrelbc_2               0.857390\n",
       "18  surgmeno_0               0.837277\n",
       "19      race_3               0.778324\n",
       "20    agegrp_3               0.766690\n",
       "21       bmi_2               0.765702\n",
       "22   density_3               0.734353\n",
       "23  lastmamm_0               0.721766\n",
       "24       hrt_0               0.691680\n",
       "25  menopaus_1               0.690265\n",
       "26       bmi_1               0.646612\n",
       "27  brstproc_1               0.624970\n",
       "28  menopaus_0               0.617289\n",
       "29   density_2               0.594073\n",
       "30    agegrp_4               0.468715\n",
       "31       hrt_1               0.459970\n",
       "32    agegrp_7               0.408329\n",
       "33    agegrp_2               0.337479\n",
       "34    agegrp_8               0.296867\n",
       "35    agegrp_6               0.283039\n",
       "36   density_4               0.264876\n",
       "37    agegrp_5               0.232986\n",
       "38    agegrp_9               0.160671\n",
       "39   agegrp_10               0.141378"
      ]
     },
     "execution_count": 31,
     "metadata": {},
     "output_type": "execute_result"
    }
   ],
   "source": [
    "# feature_importance\n",
    "importance = rf.feature_importances_\n",
    "\n",
    "features=X_train.columns\n",
    "# create dataframe\n",
    "feature_importance = pd.DataFrame({'variables': features, 'importance_percentage': importance*100})\n",
    "feature_importance = feature_importance.sort_values('importance_percentage', ascending=False).\\\n",
    "                     reset_index(drop=True)\n",
    "feature_importance"
   ]
  },
  {
   "cell_type": "code",
   "execution_count": 27,
   "metadata": {},
   "outputs": [],
   "source": [
    "#y_pred_train = (rf.predict_proba(X_train)[:,1]>=0.47).astype(bool)"
   ]
  },
  {
   "cell_type": "markdown",
   "metadata": {},
   "source": [
    "### Model evaluation on train and test data"
   ]
  },
  {
   "cell_type": "code",
   "execution_count": 32,
   "metadata": {},
   "outputs": [
    {
     "name": "stdout",
     "output_type": "stream",
     "text": [
      "Confusion Matrix ->\n",
      "[[74121 35415]\n",
      " [ 1444  2849]]\n",
      "Accuracy: 0.6761897231812631\n",
      "Sensitivity: 0.6636384812485442\n",
      "Specificity: 0.676681638913234\n",
      "Average: 0.670160060080889\n",
      "Precision 0.07445640811206355\n",
      "MCC  0.1372432461268891\n",
      "F1  0.13389101675400053\n",
      "F2  0.25696298434230463\n",
      "F3  0.3704763267057646\n",
      "ROC-AUC : 0.75\n"
     ]
    },
    {
     "data": {
      "image/png": "[encoded data removed]",
      "text/plain": [
       "<Figure size 432x432 with 1 Axes>"
      ]
     },
     "metadata": {
      "needs_background": "light"
     },
     "output_type": "display_data"
    }
   ],
   "source": [
    "model_stats(X_train, y_train, y_pred_train, rf)"
   ]
  },
  {
   "cell_type": "code",
   "execution_count": 40,
   "metadata": {},
   "outputs": [],
   "source": [
    "#y_pred_test = (rf.predict_proba(X_test)[:,1]>=0.47).astype(bool)"
   ]
  },
  {
   "cell_type": "code",
   "execution_count": 33,
   "metadata": {},
   "outputs": [
    {
     "name": "stdout",
     "output_type": "stream",
     "text": [
      "Confusion Matrix ->\n",
      "[[35752 22178]\n",
      " [  505  1066]]\n",
      "Accuracy: 0.6187795163106502\n",
      "Sensitivity: 0.6785486950986632\n",
      "Specificity: 0.6171586397376143\n",
      "Average: 0.6478536674181388\n",
      "Precision 0.04586129753914989\n",
      "MCC  0.09717411346059447\n",
      "F1  0.08591577674793471\n",
      "F2  0.18050663776754267\n",
      "F3  0.28515635449268384\n",
      "ROC-AUC : 0.71\n"
     ]
    },
    {
     "data": {
      "image/png": "[encoded data removed]",
      "text/plain": [
       "<Figure size 432x432 with 1 Axes>"
      ]
     },
     "metadata": {
      "needs_background": "light"
     },
     "output_type": "display_data"
    }
   ],
   "source": [
    "model_stats(X_test, y_test, y_pred_test, rf)"
   ]
  }
 ],
 "metadata": {
  "accelerator": "GPU",
  "colab": {
   "name": "resampling.ipynb",
   "provenance": [
    {
     "file_id": "1zIFWgNbKIALdy2dbkdMd6Gmnk-vRaoKB",
     "timestamp": 1600618214844
    }
   ]
  },
  "kernelspec": {
   "display_name": "Python 3",
   "language": "python",
   "name": "python3"
  },
  "language_info": {
   "codemirror_mode": {
    "name": "ipython",
    "version": 3
   },
   "file_extension": ".py",
   "mimetype": "text/x-python",
   "name": "python",
   "nbconvert_exporter": "python",
   "pygments_lexer": "ipython3",
   "version": "3.8.3"
  }
 },
 "nbformat": 4,
 "nbformat_minor": 1
}

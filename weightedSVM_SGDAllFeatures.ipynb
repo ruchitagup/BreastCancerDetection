{
 "cells": [
  {
   "cell_type": "code",
   "execution_count": 1,
   "metadata": {},
   "outputs": [],
   "source": [
    "# Suppressing Warnings\n",
    "import warnings\n",
    "warnings.filterwarnings('ignore')\n",
    "\n",
    "# libraries\n",
    "import numpy as np\n",
    "import pandas as pd\n",
    "\n",
    "# For Visualisation\n",
    "import matplotlib.pyplot as plt\n",
    "import seaborn as sns"
   ]
  },
  {
   "cell_type": "markdown",
   "metadata": {},
   "source": [
    "#### Reading Cancer data for the agegrp 60-69"
   ]
  },
  {
   "cell_type": "code",
   "execution_count": 2,
   "metadata": {},
   "outputs": [],
   "source": [
    "import pickle\n",
    "file = open(\"data_risk2_dummy\",\"rb\")\n",
    "X_train = pickle.load(file)\n",
    "y_train = pickle.load(file)\n",
    "X_test = pickle.load(file)\n",
    "y_test = pickle.load(file)\n",
    "file.close()"
   ]
  },
  {
   "cell_type": "code",
   "execution_count": 3,
   "metadata": {},
   "outputs": [
    {
     "data": {
      "text/html": [
       "<div>\n",
       "<style scoped>\n",
       "    .dataframe tbody tr th:only-of-type {\n",
       "        vertical-align: middle;\n",
       "    }\n",
       "\n",
       "    .dataframe tbody tr th {\n",
       "        vertical-align: top;\n",
       "    }\n",
       "\n",
       "    .dataframe thead th {\n",
       "        text-align: right;\n",
       "    }\n",
       "</style>\n",
       "<table border=\"1\" class=\"dataframe\">\n",
       "  <thead>\n",
       "    <tr style=\"text-align: right;\">\n",
       "      <th></th>\n",
       "      <th>menopaus_0</th>\n",
       "      <th>menopaus_1</th>\n",
       "      <th>agegrp_2</th>\n",
       "      <th>agegrp_3</th>\n",
       "      <th>agegrp_4</th>\n",
       "      <th>agegrp_5</th>\n",
       "      <th>agegrp_6</th>\n",
       "      <th>agegrp_7</th>\n",
       "      <th>agegrp_8</th>\n",
       "      <th>agegrp_9</th>\n",
       "      <th>...</th>\n",
       "      <th>nrelbc_1</th>\n",
       "      <th>nrelbc_2</th>\n",
       "      <th>brstproc_0</th>\n",
       "      <th>brstproc_1</th>\n",
       "      <th>lastmamm_0</th>\n",
       "      <th>lastmamm_1</th>\n",
       "      <th>surgmeno_0</th>\n",
       "      <th>surgmeno_1</th>\n",
       "      <th>hrt_0</th>\n",
       "      <th>hrt_1</th>\n",
       "    </tr>\n",
       "  </thead>\n",
       "  <tbody>\n",
       "    <tr>\n",
       "      <th>0</th>\n",
       "      <td>1</td>\n",
       "      <td>0</td>\n",
       "      <td>0</td>\n",
       "      <td>0</td>\n",
       "      <td>0</td>\n",
       "      <td>0</td>\n",
       "      <td>0</td>\n",
       "      <td>0</td>\n",
       "      <td>0</td>\n",
       "      <td>0</td>\n",
       "      <td>...</td>\n",
       "      <td>0</td>\n",
       "      <td>0</td>\n",
       "      <td>1</td>\n",
       "      <td>0</td>\n",
       "      <td>1</td>\n",
       "      <td>0</td>\n",
       "      <td>0</td>\n",
       "      <td>0</td>\n",
       "      <td>0</td>\n",
       "      <td>0</td>\n",
       "    </tr>\n",
       "    <tr>\n",
       "      <th>2</th>\n",
       "      <td>1</td>\n",
       "      <td>0</td>\n",
       "      <td>0</td>\n",
       "      <td>0</td>\n",
       "      <td>0</td>\n",
       "      <td>0</td>\n",
       "      <td>0</td>\n",
       "      <td>0</td>\n",
       "      <td>0</td>\n",
       "      <td>0</td>\n",
       "      <td>...</td>\n",
       "      <td>0</td>\n",
       "      <td>0</td>\n",
       "      <td>1</td>\n",
       "      <td>0</td>\n",
       "      <td>0</td>\n",
       "      <td>0</td>\n",
       "      <td>0</td>\n",
       "      <td>0</td>\n",
       "      <td>0</td>\n",
       "      <td>0</td>\n",
       "    </tr>\n",
       "  </tbody>\n",
       "</table>\n",
       "<p>2 rows × 40 columns</p>\n",
       "</div>"
      ],
      "text/plain": [
       "   menopaus_0  menopaus_1  agegrp_2  agegrp_3  agegrp_4  agegrp_5  agegrp_6  \\\n",
       "0           1           0         0         0         0         0         0   \n",
       "2           1           0         0         0         0         0         0   \n",
       "\n",
       "   agegrp_7  agegrp_8  agegrp_9  ...  nrelbc_1  nrelbc_2  brstproc_0  \\\n",
       "0         0         0         0  ...         0         0           1   \n",
       "2         0         0         0  ...         0         0           1   \n",
       "\n",
       "   brstproc_1  lastmamm_0  lastmamm_1  surgmeno_0  surgmeno_1  hrt_0  hrt_1  \n",
       "0           0           1           0           0           0      0      0  \n",
       "2           0           0           0           0           0      0      0  \n",
       "\n",
       "[2 rows x 40 columns]"
      ]
     },
     "execution_count": 3,
     "metadata": {},
     "output_type": "execute_result"
    }
   ],
   "source": [
    "X_train.head(2)"
   ]
  },
  {
   "cell_type": "code",
   "execution_count": 4,
   "metadata": {},
   "outputs": [
    {
     "data": {
      "text/html": [
       "<div>\n",
       "<style scoped>\n",
       "    .dataframe tbody tr th:only-of-type {\n",
       "        vertical-align: middle;\n",
       "    }\n",
       "\n",
       "    .dataframe tbody tr th {\n",
       "        vertical-align: top;\n",
       "    }\n",
       "\n",
       "    .dataframe thead th {\n",
       "        text-align: right;\n",
       "    }\n",
       "</style>\n",
       "<table border=\"1\" class=\"dataframe\">\n",
       "  <thead>\n",
       "    <tr style=\"text-align: right;\">\n",
       "      <th></th>\n",
       "      <th>menopaus_0</th>\n",
       "      <th>menopaus_1</th>\n",
       "      <th>agegrp_2</th>\n",
       "      <th>agegrp_3</th>\n",
       "      <th>agegrp_4</th>\n",
       "      <th>agegrp_5</th>\n",
       "      <th>agegrp_6</th>\n",
       "      <th>agegrp_7</th>\n",
       "      <th>agegrp_8</th>\n",
       "      <th>agegrp_9</th>\n",
       "      <th>...</th>\n",
       "      <th>nrelbc_1</th>\n",
       "      <th>nrelbc_2</th>\n",
       "      <th>brstproc_0</th>\n",
       "      <th>brstproc_1</th>\n",
       "      <th>lastmamm_0</th>\n",
       "      <th>lastmamm_1</th>\n",
       "      <th>surgmeno_0</th>\n",
       "      <th>surgmeno_1</th>\n",
       "      <th>hrt_0</th>\n",
       "      <th>hrt_1</th>\n",
       "    </tr>\n",
       "  </thead>\n",
       "  <tbody>\n",
       "    <tr>\n",
       "      <th>1</th>\n",
       "      <td>1</td>\n",
       "      <td>0</td>\n",
       "      <td>0</td>\n",
       "      <td>0</td>\n",
       "      <td>0</td>\n",
       "      <td>0</td>\n",
       "      <td>0</td>\n",
       "      <td>0</td>\n",
       "      <td>0</td>\n",
       "      <td>0</td>\n",
       "      <td>...</td>\n",
       "      <td>0</td>\n",
       "      <td>0</td>\n",
       "      <td>1</td>\n",
       "      <td>0</td>\n",
       "      <td>0</td>\n",
       "      <td>0</td>\n",
       "      <td>0</td>\n",
       "      <td>0</td>\n",
       "      <td>0</td>\n",
       "      <td>0</td>\n",
       "    </tr>\n",
       "    <tr>\n",
       "      <th>9</th>\n",
       "      <td>1</td>\n",
       "      <td>0</td>\n",
       "      <td>0</td>\n",
       "      <td>0</td>\n",
       "      <td>0</td>\n",
       "      <td>0</td>\n",
       "      <td>0</td>\n",
       "      <td>0</td>\n",
       "      <td>0</td>\n",
       "      <td>0</td>\n",
       "      <td>...</td>\n",
       "      <td>0</td>\n",
       "      <td>0</td>\n",
       "      <td>1</td>\n",
       "      <td>0</td>\n",
       "      <td>1</td>\n",
       "      <td>0</td>\n",
       "      <td>0</td>\n",
       "      <td>0</td>\n",
       "      <td>0</td>\n",
       "      <td>0</td>\n",
       "    </tr>\n",
       "  </tbody>\n",
       "</table>\n",
       "<p>2 rows × 40 columns</p>\n",
       "</div>"
      ],
      "text/plain": [
       "   menopaus_0  menopaus_1  agegrp_2  agegrp_3  agegrp_4  agegrp_5  agegrp_6  \\\n",
       "1           1           0         0         0         0         0         0   \n",
       "9           1           0         0         0         0         0         0   \n",
       "\n",
       "   agegrp_7  agegrp_8  agegrp_9  ...  nrelbc_1  nrelbc_2  brstproc_0  \\\n",
       "1         0         0         0  ...         0         0           1   \n",
       "9         0         0         0  ...         0         0           1   \n",
       "\n",
       "   brstproc_1  lastmamm_0  lastmamm_1  surgmeno_0  surgmeno_1  hrt_0  hrt_1  \n",
       "1           0           0           0           0           0      0      0  \n",
       "9           0           1           0           0           0      0      0  \n",
       "\n",
       "[2 rows x 40 columns]"
      ]
     },
     "execution_count": 4,
     "metadata": {},
     "output_type": "execute_result"
    }
   ],
   "source": [
    "X_test.head(2)"
   ]
  },
  {
   "cell_type": "markdown",
   "metadata": {
    "colab_type": "text",
    "id": "1DESHL5HLRuh"
   },
   "source": [
    "# Model Building on Cancer Data"
   ]
  },
  {
   "cell_type": "markdown",
   "metadata": {
    "colab_type": "text",
    "id": "As1z-UphLRxn"
   },
   "source": [
    "## <span style=\"color:blue\">Model 3 - Weighted SVM with SGD</span>"
   ]
  },
  {
   "cell_type": "markdown",
   "metadata": {
    "colab_type": "text",
    "id": "myP9j-vgLRxn"
   },
   "source": [
    "### Default Hyperparameters\n",
    "\n",
    "Let's first fit a random forest model with default hyperparameters."
   ]
  },
  {
   "cell_type": "code",
   "execution_count": 5,
   "metadata": {},
   "outputs": [],
   "source": [
    "from sklearn import metrics\n",
    "from sklearn.metrics import roc_auc_score, roc_curve, confusion_matrix, accuracy_score\n",
    "\n",
    "def model_stats(X, y, y_pred, model):\n",
    "\n",
    "    cm = confusion_matrix(y, y_pred)\n",
    "    print(\"Confusion Matrix ->\")\n",
    "    print(cm)\n",
    "\n",
    "    TP = cm[1,1] # true positive \n",
    "    TN = cm[0,0] # true negatives\n",
    "    FP = cm[0,1] # false positives\n",
    "    FN = cm[1,0] # false negatives\n",
    "    \n",
    "    print(\"Accuracy:\",accuracy_score(y, y_pred))\n",
    "\n",
    "    sensi = TP / float(TP+FN)\n",
    "    speci = TN / float(TN+FP)\n",
    "    \n",
    "    # Let's see the sensitivity of our model\n",
    "    print(\"Sensitivity:\", sensi)\n",
    "\n",
    "    # Let us calculate specificity\n",
    "    print(\"Specificity:\", speci)\n",
    "\n",
    "    print(\"Average:\", (sensi+speci)/2)\n",
    "    \n",
    "    # Let us calculate precision\n",
    "    print(\"Precision\",TP / float(TP+FP))\n",
    "    print(\"MCC \", metrics.matthews_corrcoef(y, y_pred))\n",
    "    print(\"F1 \", metrics.fbeta_score(y, y_pred, beta = 1))\n",
    "    print(\"F2 \", metrics.fbeta_score(y, y_pred, beta = 2))\n",
    "    print(\"F3 \", metrics.fbeta_score(y, y_pred, beta = 3))\n",
    "    "
   ]
  },
  {
   "cell_type": "code",
   "execution_count": 6,
   "metadata": {},
   "outputs": [],
   "source": [
    "# Importing random forest classifier from sklearn library\n",
    "from sklearn.linear_model import SGDClassifier"
   ]
  },
  {
   "cell_type": "code",
   "execution_count": 7,
   "metadata": {},
   "outputs": [
    {
     "data": {
      "text/plain": [
       "SGDClassifier(random_state=100)"
      ]
     },
     "execution_count": 7,
     "metadata": {},
     "output_type": "execute_result"
    }
   ],
   "source": [
    "sgd = SGDClassifier(random_state = 100)\n",
    "\n",
    "# fit\n",
    "sgd.fit(X_train,y_train)"
   ]
  },
  {
   "cell_type": "code",
   "execution_count": 8,
   "metadata": {},
   "outputs": [],
   "source": [
    "# Let's check the evaluation metrics of our default model\n",
    "\n",
    "# Making predictions\n",
    "y_pred_train_def = sgd.predict(X_train) # For train data\n",
    "y_pred_test_def = sgd.predict(X_test) # For test data"
   ]
  },
  {
   "cell_type": "markdown",
   "metadata": {},
   "source": [
    "#### Evaluating model on imbalanced train data with default parameters"
   ]
  },
  {
   "cell_type": "code",
   "execution_count": 9,
   "metadata": {},
   "outputs": [
    {
     "name": "stdout",
     "output_type": "stream",
     "text": [
      "Confusion Matrix ->\n",
      "[[109536      0]\n",
      " [  4293      0]]\n",
      "Accuracy: 0.9622855335635031\n",
      "Sensitivity: 0.0\n",
      "Specificity: 1.0\n",
      "Average: 0.5\n",
      "Precision nan\n",
      "MCC  0.0\n",
      "F1  0.0\n",
      "F2  0.0\n",
      "F3  0.0\n"
     ]
    }
   ],
   "source": [
    "# For train\n",
    "model_stats(X_train, y_train, y_pred_train_def, sgd)"
   ]
  },
  {
   "cell_type": "markdown",
   "metadata": {},
   "source": [
    "#### Evaluating model on imbalanced test data with default parameters"
   ]
  },
  {
   "cell_type": "code",
   "execution_count": 10,
   "metadata": {},
   "outputs": [
    {
     "name": "stdout",
     "output_type": "stream",
     "text": [
      "Confusion Matrix ->\n",
      "[[57930     0]\n",
      " [ 1571     0]]\n",
      "Accuracy: 0.9735970824019764\n",
      "Sensitivity: 0.0\n",
      "Specificity: 1.0\n",
      "Average: 0.5\n",
      "Precision nan\n",
      "MCC  0.0\n",
      "F1  0.0\n",
      "F2  0.0\n",
      "F3  0.0\n"
     ]
    }
   ],
   "source": [
    "# For test\n",
    "model_stats(X_test, y_test, y_pred_test_def, sgd)"
   ]
  },
  {
   "cell_type": "markdown",
   "metadata": {},
   "source": [
    "### Hyperparameter Tuning : Grid Search to Find Optimal Hyperparameters\n"
   ]
  },
  {
   "cell_type": "code",
   "execution_count": 11,
   "metadata": {},
   "outputs": [
    {
     "data": {
      "text/plain": [
       "SGDClassifier(class_weight='balanced', random_state=100)"
      ]
     },
     "execution_count": 11,
     "metadata": {},
     "output_type": "execute_result"
    }
   ],
   "source": [
    "sgd = SGDClassifier(class_weight = 'balanced', random_state = 100)\n",
    "\n",
    "# Fit the grid search to the data\n",
    "sgd.fit(X_train, y_train)"
   ]
  },
  {
   "cell_type": "code",
   "execution_count": 12,
   "metadata": {},
   "outputs": [],
   "source": [
    "# Let's check the evaluation metrics of our default model\n",
    "\n",
    "# Making predictions\n",
    "y_pred_train_def = sgd.predict(X_train) # For train data\n",
    "y_pred_test_def = sgd.predict(X_test) # For test data"
   ]
  },
  {
   "cell_type": "code",
   "execution_count": 13,
   "metadata": {},
   "outputs": [
    {
     "name": "stdout",
     "output_type": "stream",
     "text": [
      "Confusion Matrix ->\n",
      "[[58158 51378]\n",
      " [  828  3465]]\n",
      "Accuracy: 0.5413646785968427\n",
      "Sensitivity: 0.8071278825995807\n",
      "Specificity: 0.5309487291849255\n",
      "Average: 0.6690383058922531\n",
      "Precision 0.0631803511842897\n",
      "MCC  0.12889585013522065\n",
      "F1  0.11718750000000001\n",
      "F2  0.24057488023328474\n",
      "F3  0.37066752246469836\n"
     ]
    }
   ],
   "source": [
    "#### Evaluating model on imbalanced train data with default parameters\n",
    "\n",
    "# For train\n",
    "model_stats(X_train, y_train, y_pred_train_def, sgd)"
   ]
  },
  {
   "cell_type": "code",
   "execution_count": 14,
   "metadata": {},
   "outputs": [
    {
     "name": "stdout",
     "output_type": "stream",
     "text": [
      "Confusion Matrix ->\n",
      "[[25888 32042]\n",
      " [  301  1270]]\n",
      "Accuracy: 0.45642930370918133\n",
      "Sensitivity: 0.8084022915340547\n",
      "Specificity: 0.4468841705506646\n",
      "Average: 0.6276432310423596\n",
      "Precision 0.03812439961575408\n",
      "MCC  0.08245325969986117\n",
      "F1  0.07281483817332225\n",
      "F2  0.16036973431659765\n",
      "F3  0.2676445175022655\n"
     ]
    }
   ],
   "source": [
    "#### Evaluating model on imbalanced test data with default parameters\n",
    "\n",
    "# For test\n",
    "model_stats(X_test, y_test, y_pred_test_def, sgd)"
   ]
  },
  {
   "cell_type": "code",
   "execution_count": 15,
   "metadata": {},
   "outputs": [],
   "source": [
    "# We can now find the optimal hyperparameters using GridSearchCV.\n",
    "from sklearn.model_selection import GridSearchCV,StratifiedKFold\n",
    "\n",
    "# Create a cross validation scheme\n",
    "folds = StratifiedKFold(n_splits = 5, shuffle = True, random_state = 100)"
   ]
  },
  {
   "cell_type": "markdown",
   "metadata": {},
   "source": [
    "# Create the parameter grid based on the results of random search \n",
    "param_grid = {\n",
    "    'loss': ['hinge','squared_hinge']\n",
    "}\n",
    "\n",
    "sgd = SGDClassifier(class_weight = 'balanced', random_state = 100)\n",
    "\n",
    "# Instantiate the grid search model\n",
    "grid_search = GridSearchCV(estimator = sgd, param_grid = param_grid, scoring='balanced_accuracy',\n",
    "                          cv = folds, n_jobs = -1,verbose = 1)\n",
    "\n",
    "# Fit the grid search to the data\n",
    "grid_search.fit(X_train, y_train)\n",
    "\n",
    "# printing the optimal accuracy score and hyperparameters\n",
    "print(\"best balanced accuracy\", grid_search.best_score_)\n",
    "print(grid_search.best_estimator_)"
   ]
  },
  {
   "cell_type": "markdown",
   "metadata": {},
   "source": [
    "By default the loss is 'hinge'"
   ]
  },
  {
   "cell_type": "code",
   "execution_count": 16,
   "metadata": {},
   "outputs": [
    {
     "name": "stdout",
     "output_type": "stream",
     "text": [
      "Fitting 5 folds for each of 3 candidates, totalling 15 fits\n"
     ]
    },
    {
     "name": "stderr",
     "output_type": "stream",
     "text": [
      "[Parallel(n_jobs=-1)]: Using backend LokyBackend with 4 concurrent workers.\n",
      "[Parallel(n_jobs=-1)]: Done  15 out of  15 | elapsed:   11.9s finished\n"
     ]
    },
    {
     "name": "stdout",
     "output_type": "stream",
     "text": [
      "best balanced accuracy 0.6859736656984305\n",
      "SGDClassifier(class_weight='balanced', penalty='l1', random_state=100)\n"
     ]
    }
   ],
   "source": [
    "# Create the parameter grid based on the results of random search \n",
    "param_grid = {\n",
    "    'penalty' : ['l1', 'l2', 'elasticnet'] \n",
    "}\n",
    "\n",
    "sgd = SGDClassifier(class_weight = 'balanced', random_state = 100)\n",
    "\n",
    "# Instantiate the grid search model\n",
    "grid_search = GridSearchCV(estimator = sgd, param_grid = param_grid, scoring='balanced_accuracy',\n",
    "                          cv = folds, n_jobs = -1,verbose = 1)\n",
    "\n",
    "# Fit the grid search to the data\n",
    "grid_search.fit(X_train, y_train)\n",
    "\n",
    "# printing the optimal accuracy score and hyperparameters\n",
    "print(\"best balanced accuracy\", grid_search.best_score_)\n",
    "print(grid_search.best_estimator_)"
   ]
  },
  {
   "cell_type": "code",
   "execution_count": 17,
   "metadata": {},
   "outputs": [
    {
     "name": "stdout",
     "output_type": "stream",
     "text": [
      "Fitting 5 folds for each of 4 candidates, totalling 20 fits\n"
     ]
    },
    {
     "name": "stderr",
     "output_type": "stream",
     "text": [
      "[Parallel(n_jobs=-1)]: Using backend LokyBackend with 4 concurrent workers.\n",
      "[Parallel(n_jobs=-1)]: Done  20 out of  20 | elapsed:   22.4s finished\n"
     ]
    },
    {
     "name": "stdout",
     "output_type": "stream",
     "text": [
      "best balanced accuracy 0.6859736656984305\n",
      "SGDClassifier(class_weight='balanced', max_iter=200, penalty='l1',\n",
      "              random_state=100)\n"
     ]
    }
   ],
   "source": [
    "# Create the parameter grid based on the results of random search \n",
    "param_grid = {\n",
    "    'max_iter' : [200, 400, 600, 800] \n",
    "}\n",
    "\n",
    "sgd = SGDClassifier(class_weight = 'balanced', penalty='l1', random_state = 100)\n",
    "\n",
    "# Instantiate the grid search model\n",
    "grid_search = GridSearchCV(estimator = sgd, param_grid = param_grid, scoring='balanced_accuracy',\n",
    "                          cv = folds, n_jobs = -1,verbose = 1)\n",
    "\n",
    "# Fit the grid search to the data\n",
    "grid_search.fit(X_train, y_train)\n",
    "\n",
    "# printing the optimal accuracy score and hyperparameters\n",
    "print(\"best balanced accuracy\", grid_search.best_score_)\n",
    "print(grid_search.best_estimator_)"
   ]
  },
  {
   "cell_type": "code",
   "execution_count": 18,
   "metadata": {},
   "outputs": [
    {
     "name": "stdout",
     "output_type": "stream",
     "text": [
      "Fitting 5 folds for each of 8 candidates, totalling 40 fits\n"
     ]
    },
    {
     "name": "stderr",
     "output_type": "stream",
     "text": [
      "[Parallel(n_jobs=-1)]: Using backend LokyBackend with 4 concurrent workers.\n",
      "[Parallel(n_jobs=-1)]: Done  40 out of  40 | elapsed:   31.5s finished\n"
     ]
    },
    {
     "name": "stdout",
     "output_type": "stream",
     "text": [
      "best balanced accuracy 0.6884595387998111\n",
      "SGDClassifier(alpha=0.001, class_weight='balanced', max_iter=200, penalty='l1',\n",
      "              random_state=100)\n"
     ]
    }
   ],
   "source": [
    "# Create the parameter grid based on the results of random search \n",
    "param_grid = {\n",
    "    'alpha' : [0.0001, 0.001, 0.01, 0.1, 1, 10, 100, 1000] \n",
    "}\n",
    "\n",
    "sgd = SGDClassifier(class_weight = 'balanced', penalty='l1', max_iter=200, random_state = 100)\n",
    "\n",
    "# Instantiate the grid search model\n",
    "grid_search = GridSearchCV(estimator = sgd, param_grid = param_grid, scoring='balanced_accuracy',\n",
    "                          cv = folds, n_jobs = -1,verbose = 1)\n",
    "\n",
    "# Fit the grid search to the data\n",
    "grid_search.fit(X_train, y_train)\n",
    "\n",
    "# printing the optimal accuracy score and hyperparameters\n",
    "print(\"best balanced accuracy\", grid_search.best_score_)\n",
    "print(grid_search.best_estimator_)"
   ]
  },
  {
   "cell_type": "code",
   "execution_count": 19,
   "metadata": {},
   "outputs": [
    {
     "data": {
      "text/plain": [
       "SGDClassifier(alpha=0.001, class_weight='balanced', max_iter=200, penalty='l1',\n",
       "              random_state=100)"
      ]
     },
     "execution_count": 19,
     "metadata": {},
     "output_type": "execute_result"
    }
   ],
   "source": [
    "### Model using best parameters obtained from grid search\n",
    "\n",
    "sgd = SGDClassifier(class_weight = 'balanced', max_iter=200, penalty='l1', alpha=0.001, random_state = 100)\n",
    "\n",
    "# Fit the grid search to the data\n",
    "sgd.fit(X_train, y_train)"
   ]
  },
  {
   "cell_type": "code",
   "execution_count": 20,
   "metadata": {},
   "outputs": [
    {
     "name": "stdout",
     "output_type": "stream",
     "text": [
      "Confusion Matrix ->\n",
      "[[71826 37710]\n",
      " [ 1189  3104]]\n",
      "Accuracy: 0.6582681039102514\n",
      "Sensitivity: 0.7230375029117168\n",
      "Specificity: 0.6557296231375986\n",
      "Average: 0.6893835630246576\n",
      "Precision 0.07605233498309404\n",
      "MCC  0.1504598196146055\n",
      "F1  0.13762830602788922\n",
      "F2  0.2676508122650295\n",
      "F3  0.39068104869668097\n"
     ]
    }
   ],
   "source": [
    "#### Model evaluation on train data\n",
    "\n",
    "# Predicting on test dataframe using predict\n",
    "y_pred_train = sgd.predict(X_train)\n",
    "\n",
    "model_stats(X_train, y_train, y_pred_train, sgd)"
   ]
  },
  {
   "cell_type": "code",
   "execution_count": 21,
   "metadata": {},
   "outputs": [
    {
     "data": {
      "text/plain": [
       "array([[ 0.68075747,  0.        ,  0.02527174,  0.        ,  0.17055474,\n",
       "         0.32989477,  0.51013463,  0.53454853,  0.56105752,  0.32970447,\n",
       "         0.        , -1.51779608, -0.1457671 , -0.04907047, -0.46972761,\n",
       "         0.38456845, -1.23369489, -0.52928341, -1.48707145, -1.31042548,\n",
       "         0.85164079, -0.65360308, -0.16998494, -0.28930383, -0.64960956,\n",
       "        -0.8821645 , -0.36170418, -0.88249828, -0.84763705,  0.54745248,\n",
       "         0.        , -0.75574197,  0.51094046,  0.14460108,  0.04094397,\n",
       "        -1.12145093,  0.15241074, -0.19312854,  0.12695967,  0.14085879]])"
      ]
     },
     "execution_count": 21,
     "metadata": {},
     "output_type": "execute_result"
    }
   ],
   "source": [
    "sgd.coef_"
   ]
  },
  {
   "cell_type": "code",
   "execution_count": 22,
   "metadata": {},
   "outputs": [
    {
     "data": {
      "text/html": [
       "<div>\n",
       "<style scoped>\n",
       "    .dataframe tbody tr th:only-of-type {\n",
       "        vertical-align: middle;\n",
       "    }\n",
       "\n",
       "    .dataframe tbody tr th {\n",
       "        vertical-align: top;\n",
       "    }\n",
       "\n",
       "    .dataframe thead th {\n",
       "        text-align: right;\n",
       "    }\n",
       "</style>\n",
       "<table border=\"1\" class=\"dataframe\">\n",
       "  <thead>\n",
       "    <tr style=\"text-align: right;\">\n",
       "      <th></th>\n",
       "      <th>Features</th>\n",
       "      <th>Coefficients</th>\n",
       "    </tr>\n",
       "  </thead>\n",
       "  <tbody>\n",
       "    <tr>\n",
       "      <th>20</th>\n",
       "      <td>hispanic_0</td>\n",
       "      <td>0.851641</td>\n",
       "    </tr>\n",
       "    <tr>\n",
       "      <th>0</th>\n",
       "      <td>menopaus_0</td>\n",
       "      <td>0.680757</td>\n",
       "    </tr>\n",
       "    <tr>\n",
       "      <th>8</th>\n",
       "      <td>agegrp_8</td>\n",
       "      <td>0.561058</td>\n",
       "    </tr>\n",
       "    <tr>\n",
       "      <th>29</th>\n",
       "      <td>nrelbc_0</td>\n",
       "      <td>0.547452</td>\n",
       "    </tr>\n",
       "    <tr>\n",
       "      <th>7</th>\n",
       "      <td>agegrp_7</td>\n",
       "      <td>0.534549</td>\n",
       "    </tr>\n",
       "    <tr>\n",
       "      <th>32</th>\n",
       "      <td>brstproc_0</td>\n",
       "      <td>0.510940</td>\n",
       "    </tr>\n",
       "    <tr>\n",
       "      <th>6</th>\n",
       "      <td>agegrp_6</td>\n",
       "      <td>0.510135</td>\n",
       "    </tr>\n",
       "    <tr>\n",
       "      <th>15</th>\n",
       "      <td>race_1</td>\n",
       "      <td>0.384568</td>\n",
       "    </tr>\n",
       "    <tr>\n",
       "      <th>5</th>\n",
       "      <td>agegrp_5</td>\n",
       "      <td>0.329895</td>\n",
       "    </tr>\n",
       "    <tr>\n",
       "      <th>9</th>\n",
       "      <td>agegrp_9</td>\n",
       "      <td>0.329704</td>\n",
       "    </tr>\n",
       "    <tr>\n",
       "      <th>4</th>\n",
       "      <td>agegrp_4</td>\n",
       "      <td>0.170555</td>\n",
       "    </tr>\n",
       "    <tr>\n",
       "      <th>36</th>\n",
       "      <td>surgmeno_0</td>\n",
       "      <td>0.152411</td>\n",
       "    </tr>\n",
       "    <tr>\n",
       "      <th>33</th>\n",
       "      <td>brstproc_1</td>\n",
       "      <td>0.144601</td>\n",
       "    </tr>\n",
       "    <tr>\n",
       "      <th>39</th>\n",
       "      <td>hrt_1</td>\n",
       "      <td>0.140859</td>\n",
       "    </tr>\n",
       "    <tr>\n",
       "      <th>38</th>\n",
       "      <td>hrt_0</td>\n",
       "      <td>0.126960</td>\n",
       "    </tr>\n",
       "    <tr>\n",
       "      <th>34</th>\n",
       "      <td>lastmamm_0</td>\n",
       "      <td>0.040944</td>\n",
       "    </tr>\n",
       "    <tr>\n",
       "      <th>2</th>\n",
       "      <td>agegrp_2</td>\n",
       "      <td>0.025272</td>\n",
       "    </tr>\n",
       "    <tr>\n",
       "      <th>30</th>\n",
       "      <td>nrelbc_1</td>\n",
       "      <td>0.000000</td>\n",
       "    </tr>\n",
       "    <tr>\n",
       "      <th>10</th>\n",
       "      <td>agegrp_10</td>\n",
       "      <td>0.000000</td>\n",
       "    </tr>\n",
       "    <tr>\n",
       "      <th>1</th>\n",
       "      <td>menopaus_1</td>\n",
       "      <td>0.000000</td>\n",
       "    </tr>\n",
       "    <tr>\n",
       "      <th>3</th>\n",
       "      <td>agegrp_3</td>\n",
       "      <td>0.000000</td>\n",
       "    </tr>\n",
       "    <tr>\n",
       "      <th>13</th>\n",
       "      <td>density_3</td>\n",
       "      <td>-0.049070</td>\n",
       "    </tr>\n",
       "    <tr>\n",
       "      <th>12</th>\n",
       "      <td>density_2</td>\n",
       "      <td>-0.145767</td>\n",
       "    </tr>\n",
       "    <tr>\n",
       "      <th>22</th>\n",
       "      <td>bmi_1</td>\n",
       "      <td>-0.169985</td>\n",
       "    </tr>\n",
       "    <tr>\n",
       "      <th>37</th>\n",
       "      <td>surgmeno_1</td>\n",
       "      <td>-0.193129</td>\n",
       "    </tr>\n",
       "    <tr>\n",
       "      <th>23</th>\n",
       "      <td>bmi_2</td>\n",
       "      <td>-0.289304</td>\n",
       "    </tr>\n",
       "    <tr>\n",
       "      <th>26</th>\n",
       "      <td>agefirst_0</td>\n",
       "      <td>-0.361704</td>\n",
       "    </tr>\n",
       "    <tr>\n",
       "      <th>14</th>\n",
       "      <td>density_4</td>\n",
       "      <td>-0.469728</td>\n",
       "    </tr>\n",
       "    <tr>\n",
       "      <th>17</th>\n",
       "      <td>race_3</td>\n",
       "      <td>-0.529283</td>\n",
       "    </tr>\n",
       "    <tr>\n",
       "      <th>24</th>\n",
       "      <td>bmi_3</td>\n",
       "      <td>-0.649610</td>\n",
       "    </tr>\n",
       "    <tr>\n",
       "      <th>21</th>\n",
       "      <td>hispanic_1</td>\n",
       "      <td>-0.653603</td>\n",
       "    </tr>\n",
       "    <tr>\n",
       "      <th>31</th>\n",
       "      <td>nrelbc_2</td>\n",
       "      <td>-0.755742</td>\n",
       "    </tr>\n",
       "    <tr>\n",
       "      <th>28</th>\n",
       "      <td>agefirst_2</td>\n",
       "      <td>-0.847637</td>\n",
       "    </tr>\n",
       "    <tr>\n",
       "      <th>25</th>\n",
       "      <td>bmi_4</td>\n",
       "      <td>-0.882164</td>\n",
       "    </tr>\n",
       "    <tr>\n",
       "      <th>27</th>\n",
       "      <td>agefirst_1</td>\n",
       "      <td>-0.882498</td>\n",
       "    </tr>\n",
       "    <tr>\n",
       "      <th>35</th>\n",
       "      <td>lastmamm_1</td>\n",
       "      <td>-1.121451</td>\n",
       "    </tr>\n",
       "    <tr>\n",
       "      <th>16</th>\n",
       "      <td>race_2</td>\n",
       "      <td>-1.233695</td>\n",
       "    </tr>\n",
       "    <tr>\n",
       "      <th>19</th>\n",
       "      <td>race_5</td>\n",
       "      <td>-1.310425</td>\n",
       "    </tr>\n",
       "    <tr>\n",
       "      <th>18</th>\n",
       "      <td>race_4</td>\n",
       "      <td>-1.487071</td>\n",
       "    </tr>\n",
       "    <tr>\n",
       "      <th>11</th>\n",
       "      <td>density_1</td>\n",
       "      <td>-1.517796</td>\n",
       "    </tr>\n",
       "  </tbody>\n",
       "</table>\n",
       "</div>"
      ],
      "text/plain": [
       "      Features  Coefficients\n",
       "20  hispanic_0      0.851641\n",
       "0   menopaus_0      0.680757\n",
       "8     agegrp_8      0.561058\n",
       "29    nrelbc_0      0.547452\n",
       "7     agegrp_7      0.534549\n",
       "32  brstproc_0      0.510940\n",
       "6     agegrp_6      0.510135\n",
       "15      race_1      0.384568\n",
       "5     agegrp_5      0.329895\n",
       "9     agegrp_9      0.329704\n",
       "4     agegrp_4      0.170555\n",
       "36  surgmeno_0      0.152411\n",
       "33  brstproc_1      0.144601\n",
       "39       hrt_1      0.140859\n",
       "38       hrt_0      0.126960\n",
       "34  lastmamm_0      0.040944\n",
       "2     agegrp_2      0.025272\n",
       "30    nrelbc_1      0.000000\n",
       "10   agegrp_10      0.000000\n",
       "1   menopaus_1      0.000000\n",
       "3     agegrp_3      0.000000\n",
       "13   density_3     -0.049070\n",
       "12   density_2     -0.145767\n",
       "22       bmi_1     -0.169985\n",
       "37  surgmeno_1     -0.193129\n",
       "23       bmi_2     -0.289304\n",
       "26  agefirst_0     -0.361704\n",
       "14   density_4     -0.469728\n",
       "17      race_3     -0.529283\n",
       "24       bmi_3     -0.649610\n",
       "21  hispanic_1     -0.653603\n",
       "31    nrelbc_2     -0.755742\n",
       "28  agefirst_2     -0.847637\n",
       "25       bmi_4     -0.882164\n",
       "27  agefirst_1     -0.882498\n",
       "35  lastmamm_1     -1.121451\n",
       "16      race_2     -1.233695\n",
       "19      race_5     -1.310425\n",
       "18      race_4     -1.487071\n",
       "11   density_1     -1.517796"
      ]
     },
     "execution_count": 22,
     "metadata": {},
     "output_type": "execute_result"
    }
   ],
   "source": [
    "# List of cols with their coefficients\n",
    "val=sgd.coef_.reshape(-1)\n",
    "coef = (pd.DataFrame(val, index=X_train.columns, columns = ['Coefficients'] )).reset_index()\n",
    "coef = coef.rename(columns={'index':'Features'})\n",
    "coef = coef.sort_values(by = 'Coefficients', ascending=False)\n",
    "coef"
   ]
  },
  {
   "cell_type": "code",
   "execution_count": 23,
   "metadata": {},
   "outputs": [
    {
     "data": {
      "image/png": "[encoded data removed]",
      "text/plain": [
       "<Figure size 1080x576 with 1 Axes>"
      ]
     },
     "metadata": {
      "needs_background": "light"
     },
     "output_type": "display_data"
    }
   ],
   "source": [
    "# Plotting important features against their coefficients\n",
    "plt.figure(figsize=(15,8))\n",
    "plt.subplot(111)\n",
    "ax1 = sns.barplot(x = coef['Features'], y = coef['Coefficients'])\n",
    "ax1.set_xticklabels(ax1.get_xticklabels(),rotation=90, fontsize=10)\n",
    "#plt.ylabel('Coefficients')\n",
    "plt.show()"
   ]
  },
  {
   "cell_type": "markdown",
   "metadata": {},
   "source": [
    "#### Model evaluation on test data"
   ]
  },
  {
   "cell_type": "code",
   "execution_count": 24,
   "metadata": {},
   "outputs": [
    {
     "name": "stdout",
     "output_type": "stream",
     "text": [
      "Confusion Matrix ->\n",
      "[[33291 24639]\n",
      " [  421  1150]]\n",
      "Accuracy: 0.578830607888943\n",
      "Sensitivity: 0.732017823042648\n",
      "Specificity: 0.5746763335059555\n",
      "Average: 0.6533470782743017\n",
      "Precision 0.04459265578347357\n",
      "MCC  0.09922836785848378\n",
      "F1  0.08406432748538012\n",
      "F2  0.1792785208742556\n",
      "F3  0.28801843317972353\n"
     ]
    }
   ],
   "source": [
    "# Predicting on test dataframe using predict\n",
    "\n",
    "y_pred_test = sgd.predict(X_test)\n",
    "model_stats(X_test, y_test, y_pred_test, sgd)"
   ]
  },
  {
   "cell_type": "code",
   "execution_count": 25,
   "metadata": {},
   "outputs": [
    {
     "data": {
      "text/plain": [
       "CalibratedClassifierCV(base_estimator=SGDClassifier(alpha=0.001,\n",
       "                                                    class_weight='balanced',\n",
       "                                                    max_iter=200, penalty='l1',\n",
       "                                                    random_state=100),\n",
       "                       cv='prefit')"
      ]
     },
     "execution_count": 25,
     "metadata": {},
     "output_type": "execute_result"
    }
   ],
   "source": [
    "from sklearn.calibration import CalibratedClassifierCV\n",
    "ccv = CalibratedClassifierCV(sgd, cv='prefit')\n",
    "ccv.fit(X_train, y_train)"
   ]
  },
  {
   "cell_type": "code",
   "execution_count": 26,
   "metadata": {},
   "outputs": [],
   "source": [
    "# Predicting probability for roc_auc\n",
    "def cal_roc(model, X, y):\n",
    "    pred_probs = model.predict_proba(X)[:,1]\n",
    "    print(\"ROC-AUC : {:2.2}\".format(roc_auc_score(y, pred_probs)))\n",
    "\n",
    "    # Plotting ROC curve\n",
    "    fpr, tpr, thresholds = roc_curve(y, pred_probs, drop_intermediate = False )\n",
    "    auc_score = roc_auc_score(y, pred_probs)\n",
    "    plt.figure(figsize=(6, 6))\n",
    "    plt.plot( fpr, tpr, label='ROC curve (area = %0.2f)' % auc_score )\n",
    "    plt.plot([0, 1], [0, 1], 'k--')\n",
    "    plt.xlim([0.0, 1.0])\n",
    "    plt.ylim([0.0, 1.05])\n",
    "    plt.xlabel('False Positive Rate or [1 - True Negative Rate]')\n",
    "    plt.ylabel('True Positive Rate')\n",
    "    plt.title('Receiver operating characteristic example')\n",
    "    plt.legend(loc=\"lower right\")\n",
    "    plt.show()"
   ]
  },
  {
   "cell_type": "code",
   "execution_count": 27,
   "metadata": {},
   "outputs": [
    {
     "name": "stdout",
     "output_type": "stream",
     "text": [
      "ROC-AUC : 0.76\n"
     ]
    },
    {
     "data": {
      "image/png": "[encoded data removed]",
      "text/plain": [
       "<Figure size 432x432 with 1 Axes>"
      ]
     },
     "metadata": {
      "needs_background": "light"
     },
     "output_type": "display_data"
    }
   ],
   "source": [
    "cal_roc(ccv, X_train, y_train)"
   ]
  },
  {
   "cell_type": "code",
   "execution_count": 28,
   "metadata": {},
   "outputs": [
    {
     "name": "stdout",
     "output_type": "stream",
     "text": [
      "ROC-AUC : 0.72\n"
     ]
    },
    {
     "data": {
      "image/png": "[encoded data removed]",
      "text/plain": [
       "<Figure size 432x432 with 1 Axes>"
      ]
     },
     "metadata": {
      "needs_background": "light"
     },
     "output_type": "display_data"
    }
   ],
   "source": [
    "cal_roc(ccv, X_test, y_test)"
   ]
  }
 ],
 "metadata": {
  "accelerator": "GPU",
  "colab": {
   "name": "resampling.ipynb",
   "provenance": [
    {
     "file_id": "1zIFWgNbKIALdy2dbkdMd6Gmnk-vRaoKB",
     "timestamp": 1600618214844
    }
   ]
  },
  "kernelspec": {
   "display_name": "Python 3",
   "language": "python",
   "name": "python3"
  },
  "language_info": {
   "codemirror_mode": {
    "name": "ipython",
    "version": 3
   },
   "file_extension": ".py",
   "mimetype": "text/x-python",
   "name": "python",
   "nbconvert_exporter": "python",
   "pygments_lexer": "ipython3",
   "version": "3.8.3"
  }
 },
 "nbformat": 4,
 "nbformat_minor": 1
}

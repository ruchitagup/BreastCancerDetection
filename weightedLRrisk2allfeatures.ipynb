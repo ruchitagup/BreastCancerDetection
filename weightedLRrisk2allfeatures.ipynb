{
 "cells": [
  {
   "cell_type": "code",
   "execution_count": 1,
   "metadata": {},
   "outputs": [],
   "source": [
    "# Suppressing Warnings\n",
    "import warnings\n",
    "warnings.filterwarnings('ignore')\n",
    "\n",
    "# libraries\n",
    "import numpy as np\n",
    "import pandas as pd\n",
    "\n",
    "# For Visualisation\n",
    "import matplotlib.pyplot as plt\n",
    "import seaborn as sns"
   ]
  },
  {
   "cell_type": "markdown",
   "metadata": {},
   "source": [
    "#### Reading Cancer data"
   ]
  },
  {
   "cell_type": "code",
   "execution_count": 2,
   "metadata": {},
   "outputs": [],
   "source": [
    "import pickle\n",
    "file = open(\"data_risk2_dummy\",\"rb\")\n",
    "X_train = pickle.load(file)\n",
    "y_train = pickle.load(file)\n",
    "X_test = pickle.load(file)\n",
    "y_test = pickle.load(file)\n",
    "file.close()"
   ]
  },
  {
   "cell_type": "code",
   "execution_count": 3,
   "metadata": {},
   "outputs": [],
   "source": [
    "from sklearn import metrics\n",
    "from sklearn.metrics import roc_auc_score, roc_curve, confusion_matrix, accuracy_score, classification_report"
   ]
  },
  {
   "cell_type": "code",
   "execution_count": 4,
   "metadata": {},
   "outputs": [],
   "source": [
    "def model_stats(X, y, y_pred, model):\n",
    "\n",
    "    cm = confusion_matrix(y, y_pred)\n",
    "    print(\"Confusion Matrix ->\")\n",
    "    print(cm)\n",
    "\n",
    "    TP = cm[1,1] # true positive \n",
    "    TN = cm[0,0] # true negatives\n",
    "    FP = cm[0,1] # false positives\n",
    "    FN = cm[1,0] # false negatives\n",
    "    \n",
    "    print(\"Accuracy:\",accuracy_score(y, y_pred))\n",
    "\n",
    "    sensi = TP / float(TP+FN)\n",
    "    speci = TN / float(TN+FP)\n",
    "    # Let's see the sensitivity of our model\n",
    "    print(\"Sensitivity:\", sensi)\n",
    "\n",
    "    # Let us calculate specificity\n",
    "    print(\"Specificity:\", speci)\n",
    "\n",
    "    print(\"Average:\", (sensi+speci)/2)\n",
    "    # Let us calculate precision\n",
    "    print(\"Precision\",TP / float(TP+FP))\n",
    "    print(\"MCC \", metrics.matthews_corrcoef(y, y_pred))\n",
    "    print(\"F1 \", metrics.fbeta_score(y, y_pred, beta = 1))\n",
    "    print(\"F2 \", metrics.fbeta_score(y, y_pred, beta = 2))\n",
    "    print(\"F3 \", metrics.fbeta_score(y, y_pred, beta = 3))\n",
    "    \n",
    "    print(\"Classification report\")\n",
    "    print(metrics.classification_report(y, y_pred))\n",
    "    \n",
    "    # Predicting probability for roc_auc\n",
    "    pred_probs = model.predict_proba(X)[:,1]\n",
    "    print(\"ROC-AUC : {:2.2}\".format(roc_auc_score(y, pred_probs)))\n",
    "\n",
    "    # Plotting ROC curve\n",
    "    fpr, tpr, thresholds = roc_curve(y, pred_probs, drop_intermediate = False )\n",
    "    auc_score = roc_auc_score(y, pred_probs)\n",
    "    plt.figure(figsize=(6, 6))\n",
    "    plt.plot( fpr, tpr, label='ROC curve (area = %0.2f)' % auc_score )\n",
    "    plt.plot([0, 1], [0, 1], 'k--')\n",
    "    plt.xlim([0.0, 1.0])\n",
    "    plt.ylim([0.0, 1.05])\n",
    "    plt.xlabel('False Positive Rate or [1 - True Negative Rate]')\n",
    "    plt.ylabel('True Positive Rate')\n",
    "    plt.title('Receiver operating characteristic example')\n",
    "    plt.legend(loc=\"lower right\")\n",
    "    plt.show()"
   ]
  },
  {
   "cell_type": "markdown",
   "metadata": {},
   "source": [
    "## Model building on unsampled data with default parameters"
   ]
  },
  {
   "cell_type": "code",
   "execution_count": 5,
   "metadata": {},
   "outputs": [],
   "source": [
    "### 2: Model Building\n",
    "\n",
    "# Importing LogisticRegression and metrics from sklearn library\n",
    "import statsmodels.api as sm\n",
    "from sklearn.linear_model import LogisticRegression\n",
    "from sklearn import metrics\n",
    "from sklearn.feature_selection import RFE\n",
    "from sklearn.model_selection import GridSearchCV,StratifiedKFold\n",
    "from sklearn.preprocessing import LabelEncoder"
   ]
  },
  {
   "cell_type": "code",
   "execution_count": 6,
   "metadata": {},
   "outputs": [
    {
     "data": {
      "text/plain": [
       "LogisticRegression()"
      ]
     },
     "execution_count": 6,
     "metadata": {},
     "output_type": "execute_result"
    }
   ],
   "source": [
    "# Running Logistic Regression on default values\n",
    "logreg = LogisticRegression()\n",
    "\n",
    "logreg.fit(X_train,y_train)"
   ]
  },
  {
   "cell_type": "code",
   "execution_count": 7,
   "metadata": {},
   "outputs": [
    {
     "name": "stdout",
     "output_type": "stream",
     "text": [
      "Confusion Matrix ->\n",
      "[[109536      0]\n",
      " [  4293      0]]\n",
      "Accuracy: 0.9622855335635031\n",
      "Sensitivity: 0.0\n",
      "Specificity: 1.0\n",
      "Average: 0.5\n",
      "Precision nan\n",
      "MCC  0.0\n",
      "F1  0.0\n",
      "F2  0.0\n",
      "F3  0.0\n",
      "Classification report\n",
      "              precision    recall  f1-score   support\n",
      "\n",
      "           0       0.96      1.00      0.98    109536\n",
      "           1       0.00      0.00      0.00      4293\n",
      "\n",
      "    accuracy                           0.96    113829\n",
      "   macro avg       0.48      0.50      0.49    113829\n",
      "weighted avg       0.93      0.96      0.94    113829\n",
      "\n",
      "ROC-AUC : 0.76\n"
     ]
    },
    {
     "data": {
      "image/png": "[encoded data removed]",
      "text/plain": [
       "<Figure size 432x432 with 1 Axes>"
      ]
     },
     "metadata": {
      "needs_background": "light"
     },
     "output_type": "display_data"
    }
   ],
   "source": [
    "#predicting the train data\n",
    "y_pred_train=logreg.predict(X_train)\n",
    "\n",
    "model_stats(X_train, y_train, y_pred_train, logreg)"
   ]
  },
  {
   "cell_type": "code",
   "execution_count": 8,
   "metadata": {},
   "outputs": [
    {
     "name": "stdout",
     "output_type": "stream",
     "text": [
      "Confusion Matrix ->\n",
      "[[57930     0]\n",
      " [ 1571     0]]\n",
      "Accuracy: 0.9735970824019764\n",
      "Sensitivity: 0.0\n",
      "Specificity: 1.0\n",
      "Average: 0.5\n",
      "Precision nan\n",
      "MCC  0.0\n",
      "F1  0.0\n",
      "F2  0.0\n",
      "F3  0.0\n",
      "Classification report\n",
      "              precision    recall  f1-score   support\n",
      "\n",
      "           0       0.97      1.00      0.99     57930\n",
      "           1       0.00      0.00      0.00      1571\n",
      "\n",
      "    accuracy                           0.97     59501\n",
      "   macro avg       0.49      0.50      0.49     59501\n",
      "weighted avg       0.95      0.97      0.96     59501\n",
      "\n",
      "ROC-AUC : 0.73\n"
     ]
    },
    {
     "data": {
      "image/png": "[encoded data removed]",
      "text/plain": [
       "<Figure size 432x432 with 1 Axes>"
      ]
     },
     "metadata": {
      "needs_background": "light"
     },
     "output_type": "display_data"
    }
   ],
   "source": [
    "# predicting on the test data\n",
    "y_pred_test=logreg.predict(X_test)\n",
    "\n",
    "model_stats(X_test, y_test, y_pred_test, logreg)"
   ]
  },
  {
   "cell_type": "code",
   "execution_count": 9,
   "metadata": {},
   "outputs": [],
   "source": [
    "### Building model using regularization and cross validation\n",
    "\n",
    "# Create a cross validation scheme\n",
    "folds = StratifiedKFold(n_splits = 5, shuffle = True, random_state = 100)"
   ]
  },
  {
   "cell_type": "code",
   "execution_count": 10,
   "metadata": {},
   "outputs": [
    {
     "name": "stdout",
     "output_type": "stream",
     "text": [
      "Fitting 5 folds for each of 4 candidates, totalling 20 fits\n"
     ]
    },
    {
     "name": "stderr",
     "output_type": "stream",
     "text": [
      "[Parallel(n_jobs=-1)]: Using backend LokyBackend with 4 concurrent workers.\n",
      "[Parallel(n_jobs=-1)]: Done  20 out of  20 | elapsed:   14.6s finished\n"
     ]
    },
    {
     "name": "stdout",
     "output_type": "stream",
     "text": [
      "best balanced accuracy 0.6926882541622289\n",
      "\n",
      "\n",
      "LogisticRegression(C=0.1, class_weight='balanced')\n"
     ]
    }
   ],
   "source": [
    "### Building model using regularization and cross validation\n",
    "\n",
    "# Specify range of hyper-parameters to tune\n",
    "hyper_params = {'C': [10, 1, 0.5, 0.1]}\n",
    "\n",
    "# Specify model for logistic regression with option to treat class imbalance and perform grid search\n",
    "logreg = LogisticRegression(class_weight='balanced')\n",
    "\n",
    "# GridSearchCV\n",
    "model_cv = GridSearchCV(estimator = logreg,\n",
    "                       param_grid = hyper_params,\n",
    "                       scoring = \"balanced_accuracy\",\n",
    "                       cv = folds,\n",
    "                       verbose = 1,\n",
    "                       return_train_score = True,\n",
    "                       n_jobs=-1)\n",
    "\n",
    "# Fit the model\n",
    "model_cv.fit(X_train,y_train)\n",
    "\n",
    "# printing the optimal accuracy score and hyperparameters\n",
    "print(\"best balanced accuracy\", model_cv.best_score_)\n",
    "print(\"\\n\")\n",
    "print(model_cv.best_estimator_)"
   ]
  },
  {
   "cell_type": "code",
   "execution_count": 11,
   "metadata": {},
   "outputs": [
    {
     "data": {
      "text/plain": [
       "LogisticRegression(C=0.1, class_weight='balanced')"
      ]
     },
     "execution_count": 11,
     "metadata": {},
     "output_type": "execute_result"
    }
   ],
   "source": [
    "# It looks that C=0.5 is the best value\n",
    "\n",
    "# Running Logistic Regression on Optimal hyperparameter value\n",
    "logreg = LogisticRegression(C=0.1, class_weight='balanced')\n",
    "\n",
    "logreg.fit(X_train,y_train)"
   ]
  },
  {
   "cell_type": "markdown",
   "metadata": {},
   "source": [
    "# Coefficients\n",
    "logreg.coef_"
   ]
  },
  {
   "cell_type": "code",
   "execution_count": 12,
   "metadata": {},
   "outputs": [
    {
     "data": {
      "text/html": [
       "<div>\n",
       "<style scoped>\n",
       "    .dataframe tbody tr th:only-of-type {\n",
       "        vertical-align: middle;\n",
       "    }\n",
       "\n",
       "    .dataframe tbody tr th {\n",
       "        vertical-align: top;\n",
       "    }\n",
       "\n",
       "    .dataframe thead th {\n",
       "        text-align: right;\n",
       "    }\n",
       "</style>\n",
       "<table border=\"1\" class=\"dataframe\">\n",
       "  <thead>\n",
       "    <tr style=\"text-align: right;\">\n",
       "      <th></th>\n",
       "      <th>coeff</th>\n",
       "    </tr>\n",
       "  </thead>\n",
       "  <tbody>\n",
       "    <tr>\n",
       "      <th>agegrp_7</th>\n",
       "      <td>1.681085</td>\n",
       "    </tr>\n",
       "    <tr>\n",
       "      <th>agegrp_8</th>\n",
       "      <td>1.631887</td>\n",
       "    </tr>\n",
       "    <tr>\n",
       "      <th>agegrp_6</th>\n",
       "      <td>1.581674</td>\n",
       "    </tr>\n",
       "    <tr>\n",
       "      <th>agegrp_5</th>\n",
       "      <td>1.542797</td>\n",
       "    </tr>\n",
       "    <tr>\n",
       "      <th>agegrp_9</th>\n",
       "      <td>1.516431</td>\n",
       "    </tr>\n",
       "    <tr>\n",
       "      <th>agegrp_10</th>\n",
       "      <td>1.190423</td>\n",
       "    </tr>\n",
       "    <tr>\n",
       "      <th>agegrp_4</th>\n",
       "      <td>1.175888</td>\n",
       "    </tr>\n",
       "    <tr>\n",
       "      <th>agegrp_3</th>\n",
       "      <td>0.890081</td>\n",
       "    </tr>\n",
       "    <tr>\n",
       "      <th>agegrp_2</th>\n",
       "      <td>0.870407</td>\n",
       "    </tr>\n",
       "    <tr>\n",
       "      <th>hispanic_0</th>\n",
       "      <td>0.719290</td>\n",
       "    </tr>\n",
       "    <tr>\n",
       "      <th>menopaus_0</th>\n",
       "      <td>0.701033</td>\n",
       "    </tr>\n",
       "    <tr>\n",
       "      <th>nrelbc_0</th>\n",
       "      <td>0.669837</td>\n",
       "    </tr>\n",
       "    <tr>\n",
       "      <th>brstproc_0</th>\n",
       "      <td>0.545230</td>\n",
       "    </tr>\n",
       "    <tr>\n",
       "      <th>race_1</th>\n",
       "      <td>0.356928</td>\n",
       "    </tr>\n",
       "    <tr>\n",
       "      <th>hrt_1</th>\n",
       "      <td>0.328419</td>\n",
       "    </tr>\n",
       "    <tr>\n",
       "      <th>hrt_0</th>\n",
       "      <td>0.269645</td>\n",
       "    </tr>\n",
       "    <tr>\n",
       "      <th>brstproc_1</th>\n",
       "      <td>0.202157</td>\n",
       "    </tr>\n",
       "    <tr>\n",
       "      <th>surgmeno_0</th>\n",
       "      <td>0.156621</td>\n",
       "    </tr>\n",
       "    <tr>\n",
       "      <th>nrelbc_1</th>\n",
       "      <td>0.108879</td>\n",
       "    </tr>\n",
       "    <tr>\n",
       "      <th>lastmamm_0</th>\n",
       "      <td>0.038450</td>\n",
       "    </tr>\n",
       "    <tr>\n",
       "      <th>density_3</th>\n",
       "      <td>-0.099871</td>\n",
       "    </tr>\n",
       "    <tr>\n",
       "      <th>surgmeno_1</th>\n",
       "      <td>-0.169217</td>\n",
       "    </tr>\n",
       "    <tr>\n",
       "      <th>density_2</th>\n",
       "      <td>-0.220705</td>\n",
       "    </tr>\n",
       "    <tr>\n",
       "      <th>bmi_1</th>\n",
       "      <td>-0.264733</td>\n",
       "    </tr>\n",
       "    <tr>\n",
       "      <th>bmi_2</th>\n",
       "      <td>-0.335902</td>\n",
       "    </tr>\n",
       "    <tr>\n",
       "      <th>agefirst_0</th>\n",
       "      <td>-0.400669</td>\n",
       "    </tr>\n",
       "    <tr>\n",
       "      <th>menopaus_1</th>\n",
       "      <td>-0.499825</td>\n",
       "    </tr>\n",
       "    <tr>\n",
       "      <th>nrelbc_2</th>\n",
       "      <td>-0.514719</td>\n",
       "    </tr>\n",
       "    <tr>\n",
       "      <th>density_4</th>\n",
       "      <td>-0.607064</td>\n",
       "    </tr>\n",
       "    <tr>\n",
       "      <th>hispanic_1</th>\n",
       "      <td>-0.618861</td>\n",
       "    </tr>\n",
       "    <tr>\n",
       "      <th>race_3</th>\n",
       "      <td>-0.653873</td>\n",
       "    </tr>\n",
       "    <tr>\n",
       "      <th>bmi_3</th>\n",
       "      <td>-0.788920</td>\n",
       "    </tr>\n",
       "    <tr>\n",
       "      <th>agefirst_2</th>\n",
       "      <td>-0.945775</td>\n",
       "    </tr>\n",
       "    <tr>\n",
       "      <th>bmi_4</th>\n",
       "      <td>-0.947062</td>\n",
       "    </tr>\n",
       "    <tr>\n",
       "      <th>agefirst_1</th>\n",
       "      <td>-1.045547</td>\n",
       "    </tr>\n",
       "    <tr>\n",
       "      <th>lastmamm_1</th>\n",
       "      <td>-1.085788</td>\n",
       "    </tr>\n",
       "    <tr>\n",
       "      <th>race_2</th>\n",
       "      <td>-1.118139</td>\n",
       "    </tr>\n",
       "    <tr>\n",
       "      <th>race_5</th>\n",
       "      <td>-1.337409</td>\n",
       "    </tr>\n",
       "    <tr>\n",
       "      <th>race_4</th>\n",
       "      <td>-1.576351</td>\n",
       "    </tr>\n",
       "    <tr>\n",
       "      <th>density_1</th>\n",
       "      <td>-1.700638</td>\n",
       "    </tr>\n",
       "  </tbody>\n",
       "</table>\n",
       "</div>"
      ],
      "text/plain": [
       "               coeff\n",
       "agegrp_7    1.681085\n",
       "agegrp_8    1.631887\n",
       "agegrp_6    1.581674\n",
       "agegrp_5    1.542797\n",
       "agegrp_9    1.516431\n",
       "agegrp_10   1.190423\n",
       "agegrp_4    1.175888\n",
       "agegrp_3    0.890081\n",
       "agegrp_2    0.870407\n",
       "hispanic_0  0.719290\n",
       "menopaus_0  0.701033\n",
       "nrelbc_0    0.669837\n",
       "brstproc_0  0.545230\n",
       "race_1      0.356928\n",
       "hrt_1       0.328419\n",
       "hrt_0       0.269645\n",
       "brstproc_1  0.202157\n",
       "surgmeno_0  0.156621\n",
       "nrelbc_1    0.108879\n",
       "lastmamm_0  0.038450\n",
       "density_3  -0.099871\n",
       "surgmeno_1 -0.169217\n",
       "density_2  -0.220705\n",
       "bmi_1      -0.264733\n",
       "bmi_2      -0.335902\n",
       "agefirst_0 -0.400669\n",
       "menopaus_1 -0.499825\n",
       "nrelbc_2   -0.514719\n",
       "density_4  -0.607064\n",
       "hispanic_1 -0.618861\n",
       "race_3     -0.653873\n",
       "bmi_3      -0.788920\n",
       "agefirst_2 -0.945775\n",
       "bmi_4      -0.947062\n",
       "agefirst_1 -1.045547\n",
       "lastmamm_1 -1.085788\n",
       "race_2     -1.118139\n",
       "race_5     -1.337409\n",
       "race_4     -1.576351\n",
       "density_1  -1.700638"
      ]
     },
     "execution_count": 12,
     "metadata": {},
     "output_type": "execute_result"
    }
   ],
   "source": [
    "# List of cols with their coefficients\n",
    "val=logreg.coef_.reshape(-1)\n",
    "coef = (pd.DataFrame(val, index = X_train.columns, columns = ['coeff'] ))\n",
    "coef = coef.sort_values(by = 'coeff', ascending=False)\n",
    "coef"
   ]
  },
  {
   "cell_type": "code",
   "execution_count": 13,
   "metadata": {},
   "outputs": [],
   "source": [
    "y_pred_train=logreg.predict(X_train)"
   ]
  },
  {
   "cell_type": "code",
   "execution_count": 14,
   "metadata": {},
   "outputs": [
    {
     "name": "stdout",
     "output_type": "stream",
     "text": [
      "Confusion Matrix ->\n",
      "[[74065 35471]\n",
      " [ 1240  3053]]\n",
      "Accuracy: 0.67748991908916\n",
      "Sensitivity: 0.7111576985790822\n",
      "Specificity: 0.6761703914694712\n",
      "Average: 0.6936640450242767\n",
      "Precision 0.07924929913819956\n",
      "MCC  0.15594098881941462\n",
      "F1  0.14260690847093443\n",
      "F2  0.2740771330077563\n",
      "F3  0.3956662044296989\n",
      "Classification report\n",
      "              precision    recall  f1-score   support\n",
      "\n",
      "           0       0.98      0.68      0.80    109536\n",
      "           1       0.08      0.71      0.14      4293\n",
      "\n",
      "    accuracy                           0.68    113829\n",
      "   macro avg       0.53      0.69      0.47    113829\n",
      "weighted avg       0.95      0.68      0.78    113829\n",
      "\n",
      "ROC-AUC : 0.76\n"
     ]
    },
    {
     "data": {
      "image/png": "[encoded data removed]",
      "text/plain": [
       "<Figure size 432x432 with 1 Axes>"
      ]
     },
     "metadata": {
      "needs_background": "light"
     },
     "output_type": "display_data"
    }
   ],
   "source": [
    "model_stats(X_train, y_train, y_pred_train, logreg)"
   ]
  },
  {
   "cell_type": "code",
   "execution_count": 15,
   "metadata": {},
   "outputs": [
    {
     "name": "stdout",
     "output_type": "stream",
     "text": [
      "Confusion Matrix ->\n",
      "[[34472 23458]\n",
      " [  411  1160]]\n",
      "Accuracy: 0.5988470782003664\n",
      "Sensitivity: 0.7383831954169319\n",
      "Specificity: 0.5950630070775074\n",
      "Average: 0.6667231012472197\n",
      "Precision 0.04711999350069055\n",
      "MCC  0.10855062663351374\n",
      "F1  0.08858681125663448\n",
      "F2  0.1876901171445214\n",
      "F3  0.2993007714735403\n",
      "Classification report\n",
      "              precision    recall  f1-score   support\n",
      "\n",
      "           0       0.99      0.60      0.74     57930\n",
      "           1       0.05      0.74      0.09      1571\n",
      "\n",
      "    accuracy                           0.60     59501\n",
      "   macro avg       0.52      0.67      0.42     59501\n",
      "weighted avg       0.96      0.60      0.73     59501\n",
      "\n",
      "ROC-AUC : 0.73\n"
     ]
    },
    {
     "data": {
      "image/png": "[encoded data removed]",
      "text/plain": [
       "<Figure size 432x432 with 1 Axes>"
      ]
     },
     "metadata": {
      "needs_background": "light"
     },
     "output_type": "display_data"
    }
   ],
   "source": [
    "# Running Logistic Regression with class_weight parameter to handle class imbalance\n",
    "y_pred_test=logreg.predict(X_test)\n",
    "\n",
    "model_stats(X_test, y_test, y_pred_test, logreg)"
   ]
  }
 ],
 "metadata": {
  "accelerator": "GPU",
  "colab": {
   "name": "resampling.ipynb",
   "provenance": [
    {
     "file_id": "1zIFWgNbKIALdy2dbkdMd6Gmnk-vRaoKB",
     "timestamp": 1600618214844
    }
   ]
  },
  "kernelspec": {
   "display_name": "Python 3",
   "language": "python",
   "name": "python3"
  },
  "language_info": {
   "codemirror_mode": {
    "name": "ipython",
    "version": 3
   },
   "file_extension": ".py",
   "mimetype": "text/x-python",
   "name": "python",
   "nbconvert_exporter": "python",
   "pygments_lexer": "ipython3",
   "version": "3.8.3"
  }
 },
 "nbformat": 4,
 "nbformat_minor": 1
}
